{
 "cells": [
  {
   "cell_type": "code",
   "execution_count": 449,
   "metadata": {},
   "outputs": [],
   "source": [
    "import pandas as pd\n",
    "import numpy as np\n",
    "import matplotlib.pyplot as plt\n",
    "import seaborn as sns\n",
    "import datetime as dt\n",
    "from datetime import datetime\n",
    "import calendar \n",
    "\n",
    "import plotly.graph_objects as go\n",
    "import plotly.io as pio\n",
    "from plotly.subplots import make_subplots\n",
    "\n",
    "\n",
    "import warnings\n",
    "warnings.simplefilter(action='ignore', category=FutureWarning)\n",
    "\n"
   ]
  },
  {
   "cell_type": "code",
   "execution_count": 61,
   "metadata": {},
   "outputs": [],
   "source": [
    "import src.utils.preprocessing as pre"
   ]
  },
  {
   "cell_type": "markdown",
   "metadata": {},
   "source": [
    "# Methods"
   ]
  },
  {
   "cell_type": "markdown",
   "metadata": {},
   "source": [
    "## Preprocessing"
   ]
  },
  {
   "cell_type": "code",
   "execution_count": 210,
   "metadata": {},
   "outputs": [],
   "source": [
    "#Two different Formats identified in the DAT column with typos\n",
    "#Error handling code from Stacksoverflow: \"validate for multiple date / datetime formats\" by 'c8999c 3f964f64'\n",
    "def validate_datetime(string, whitelist=('%H:%M, %d %B %Y', '%H:%M, %d %b %Y')):\n",
    "    for fmt in whitelist:\n",
    "        try:\n",
    "            dt = datetime.strptime(string, fmt)\n",
    "        except ValueError:\n",
    "            pass\n",
    "        else: # if a defined format is found, datetime object will be returned\n",
    "            return dt\n",
    "    else: # all formats done, none did work...\n",
    "        return False # could also raise an exception here\n",
    "    \n",
    "def dates_prep(data_original):\n",
    "\n",
    "    data_original['YEA'] = data_original['YEA'].astype(int)\n",
    "\n",
    "    dates =[]\n",
    "    for t in data_original['DAT']:\n",
    "        dates.append(validate_datetime(t))\n",
    "\n",
    "    dates = pd.DataFrame(dates)\n",
    "    dates[dates[0]==False] = dates[dates[0]==False].replace(to_replace=False, value = float('NaN'))\n",
    "\n",
    "    datetime_object_date = dates.apply(lambda x: x[0].date() if type(x[0])!=float else x[0], axis=1)\n",
    "    datetime_object_month= dates.apply(lambda x: calendar.month_name[x[0].month] if type(x[0])!=float else x[0], axis=1)\n",
    "    datetime_object_time = dates.apply(lambda x: x[0].time() if type(x[0])!=float else x[0], axis=1)\n",
    "\n",
    "    # Converting types of DAT and adding TIM column\n",
    "    data_original['DAT'] = datetime_object_date\n",
    "    data_original['MON'] = datetime_object_month\n",
    "    data_original['TIM'] = datetime_object_time\n",
    "    # Reordering columns\n",
    "    data_original = data_original.iloc[:,[0,1,2,3,4,5,7,8,6]]\n",
    "\n",
    "    return data_original\n",
    "\n",
    "def prep_unique_elections(data_original):\n",
    "    uniq_elections = data_original.drop_duplicates(subset=['TGT','YEA','RES']).groupby('TGT').value_counts(dropna=False).reset_index()\n",
    "    uniq_elections= uniq_elections.drop('count', axis=1)\n",
    "\n",
    "    uniq_cand_freq_table= pd.DataFrame(uniq_elections['TGT'].value_counts())\n",
    "    sing_runners_list = uniq_cand_freq_table[uniq_cand_freq_table['count']==1].index\n",
    "    mult_runners_list = uniq_cand_freq_table[uniq_cand_freq_table['count']>1].index\n",
    "    \n",
    "    uniq_cand_freq_table = uniq_cand_freq_table.reset_index()\n",
    "\n",
    "    return uniq_elections, uniq_cand_freq_table, sing_runners_list, mult_runners_list\n",
    "\n",
    "def assign_elec_id(uniq_elections_data, complete_dataset): #i.e. (unique_elections_data, data)\n",
    "    uniq_elections_data['elec_id']= np.linspace(1,len(uniq_elections_data),len(uniq_elections_data))\n",
    "    uniq_elections_data['elec_id']= uniq_elections_data['elec_id'].astype(int)\n",
    "    \n",
    "    complete_dataset['elec_id'] = np.empty(198275)\n",
    "    complete_dataset['elec_id'] = complete_dataset['elec_id'].astype(int)\n",
    "\n",
    "    for row in range(0,len(complete_dataset['TGT']),1):\n",
    "        complete_dataset.iloc[row,9] = uniq_elections_data[(uniq_elections_data['TGT']==complete_dataset.iloc[row,1]) & \n",
    "                                        (uniq_elections_data['YEA']== complete_dataset.iloc[row,4]) &\n",
    "                                        (uniq_elections_data['RES']== complete_dataset.iloc[row,3])]['elec_id']\n",
    "    #print(data.iloc[row,[0,1,9]], row) #To Troubleshoot and find row which is giving error\n",
    "\n",
    "    return uniq_elections_data, complete_dataset\n",
    "\n",
    "\n",
    "def calc_win_loss(uniq_cand_freq_table, uniq_elections_data):\n",
    "\n",
    "    win,loss =[],[]\n",
    "    \n",
    "    for row in range(0,len(uniq_cand_freq_table),1):\n",
    "        if len(uniq_elections_data[uniq_elections_data['TGT']==uniq_cand_freq_table.iloc[row,0]][['TGT','RES']].value_counts().index) == 2:\n",
    "            loss.append(uniq_elections_data[uniq_elections_data['TGT']==uniq_cand_freq_table.iloc[row,0]][['TGT','RES']].value_counts()[0])\n",
    "            win.append(uniq_elections_data[uniq_elections_data['TGT']==uniq_cand_freq_table.iloc[row,0]][['TGT','RES']].value_counts()[1])\n",
    "        elif len(uniq_elections_data[uniq_elections_data['TGT']==uniq_cand_freq_table.iloc[row,0]][['TGT','RES']].value_counts().index) ==1 and\\\n",
    "        uniq_elections_data[uniq_elections_data['TGT']==uniq_cand_freq_table.iloc[row,0]][['TGT','RES']].value_counts().index[0][1] == -1:\n",
    "            loss.append(uniq_elections_data[uniq_elections_data['TGT']==uniq_cand_freq_table.iloc[row,0]][['TGT','RES']].value_counts()[0])\n",
    "            win.append(0)\n",
    "        elif len(uniq_elections_data[uniq_elections_data['TGT']==uniq_cand_freq_table.iloc[row,0]][['TGT','RES']].value_counts().index) ==1 and\\\n",
    "        uniq_elections_data[uniq_elections_data['TGT']==uniq_cand_freq_table.iloc[row,0]][['TGT','RES']].value_counts().index[0][1] == 1:\n",
    "            loss.append(0)\n",
    "            win.append(uniq_elections_data[uniq_elections_data['TGT']==uniq_cand_freq_table.iloc[row,0]][['TGT','RES']].value_counts()[0])\n",
    "        else:\n",
    "            print('Something unexpected happen')\n",
    "\n",
    "    uniq_cand_freq_table['win'] = win\n",
    "    uniq_cand_freq_table['loss'] = loss\n",
    "    return uniq_cand_freq_table\n",
    "\n",
    "def flag_elec_id(uniq_elections_data, complete_dataset):\n",
    "\n",
    "    flagged = []\n",
    "\n",
    "    for elec_id in uniq_elections_data['elec_id']:\n",
    "        #check if same month, next or previous month as mode\n",
    "        for idx in complete_dataset[complete_dataset['elec_id']==elec_id].index:\n",
    "            if type(complete_dataset.iloc[idx,5]) == float:\n",
    "                #print('skipped NaN')\n",
    "                continue\n",
    "\n",
    "            elif (datetime.strptime(complete_dataset[complete_dataset['elec_id']==elec_id]['MON'].mode()[0], '%B').month) == 1:\n",
    "                if (datetime.strptime(complete_dataset[complete_dataset['elec_id']==elec_id]['MON'].mode()[0], '%B').month == complete_dataset.iloc[idx,5].month) or \\\n",
    "                    (12 == complete_dataset.iloc[idx,5].month) or \\\n",
    "                    (2 == complete_dataset.iloc[idx,5].month):\n",
    "                    pass\n",
    "                    #print('No Problem - Jan', idx)\n",
    "\n",
    "            elif (datetime.strptime(complete_dataset[complete_dataset['elec_id']==elec_id]['MON'].mode()[0], '%B').month) == 12:\n",
    "                if (datetime.strptime(complete_dataset[complete_dataset['elec_id']==elec_id]['MON'].mode()[0], '%B').month == complete_dataset.iloc[idx,5].month) or \\\n",
    "                    (11 == complete_dataset.iloc[idx,5].month) or \\\n",
    "                    (1 == complete_dataset.iloc[idx,5].month):\n",
    "                    pass\n",
    "                    #print('No Problem- Dec', idx)\n",
    "\n",
    "            elif (datetime.strptime(complete_dataset[complete_dataset['elec_id']==elec_id]['MON'].mode()[0], '%B').month) != 1 and 2:\n",
    "                if (datetime.strptime(complete_dataset[complete_dataset['elec_id']==elec_id]['MON'].mode()[0], '%B').month == complete_dataset.iloc[idx,5].month) or \\\n",
    "                    ((datetime.strptime(complete_dataset[complete_dataset['elec_id']==elec_id]['MON'].mode()[0], '%B').month+1) == complete_dataset.iloc[idx,5].month) or \\\n",
    "                    ((datetime.strptime(complete_dataset[complete_dataset['elec_id']==elec_id]['MON'].mode()[0], '%B').month-1) == complete_dataset.iloc[idx,5].month):\n",
    "                    pass\n",
    "                    #print('No Problem', idx)\n",
    "                else:\n",
    "                    #print('row', idx)\n",
    "                    flagged.append([elec_id, idx])\n",
    "    \n",
    "    flagged = pd.DataFrame(flagged, columns=('elec_id','index'))\n",
    "\n",
    "    return flagged\n",
    "\n",
    "def get_flagged_boundaries(flagged):\n",
    "    flagged_with_boundaries = (flagged.groupby('elec_id').min()).merge(flagged.groupby('elec_id').max(), on='elec_id', suffixes=('_lower','_upper'))\n",
    "\n",
    "    return flagged_with_boundaries\n",
    "\n",
    "def separate_flagged_elec_id(complete_dataset, flagged):\n",
    "    \n",
    "    x = complete_dataset.copy()\n",
    "    flagged_with_bounds = get_flagged_boundaries(flagged=flagged)\n",
    "\n",
    "    for elec_id in flagged_with_bounds.index:\n",
    "        try:    \n",
    "            x[x['elec_id']==elec_id].loc[flagged_with_bounds.loc[elec_id]['index_lower']-1][9]\n",
    "            #print('flagged election is after, shift elec_id from lower bound')\n",
    "            \n",
    "            # Case 1: flagged election is after, shift elec_id from lower bound\n",
    "            for idx in x.index:\n",
    "                if x.iloc[idx,9]> elec_id:\n",
    "                    x.iloc[idx,9] = x.iloc[idx,9]+1\n",
    "\n",
    "            for idx in range(flagged_with_bounds.index_lower.loc[elec_id], flagged_with_bounds.index_upper.loc[elec_id]+1,1):\n",
    "                x.iloc[idx,9] = x.iloc[idx,9]+1\n",
    "\n",
    "\n",
    "        except KeyError:\n",
    "            #print('flagged election is before, shift elec_id above upper bound')\n",
    "\n",
    "            # Case 2: flagged election is before, shift elec_id above upper bound\n",
    "            for idx in x.index:\n",
    "                if x.iloc[idx,9]>= elec_id:\n",
    "                    x.iloc[idx,9] = x.iloc[idx,9]+1\n",
    "\n",
    "            for idx in range(flagged_with_bounds.index_lower.loc[elec_id], flagged_with_bounds.index_upper.loc[elec_id]+1,1):\n",
    "                x.iloc[idx,9] = x.iloc[idx,9]-1\n",
    "        \n",
    "    file_path = 'data/processed_elec_data.csv'\n",
    "    x.to_csv(file_path, index=False)\n",
    "\n",
    "    return x"
   ]
  },
  {
   "cell_type": "markdown",
   "metadata": {},
   "source": [
    "## Votes "
   ]
  },
  {
   "cell_type": "code",
   "execution_count": 211,
   "metadata": {},
   "outputs": [],
   "source": [
    "def get_votes(complete_dataset):\n",
    "\n",
    "    votes_by_elec = pd.DataFrame(complete_dataset.groupby('elec_id')['RES'].agg('count'))\n",
    "    votes_by_elec = votes_by_elec.rename(columns={'RES':'TOT'})\n",
    "    votes_by_elec = votes_by_elec.reset_index()\n",
    "\n",
    "    pos = complete_dataset[complete_dataset['VOT']==1].groupby('elec_id')['VOT'].agg('count').reset_index()\n",
    "    pos = pos.rename(columns={'VOT':'POS'})\n",
    "    #pos\n",
    "\n",
    "    abs = complete_dataset[complete_dataset['VOT']==0].groupby('elec_id')['VOT'].agg('count').reset_index()\n",
    "    abs = abs.rename(columns={'VOT':'ABS'})\n",
    "    #abs\n",
    "\n",
    "    neg = complete_dataset[complete_dataset['VOT']==-1].groupby('elec_id')['VOT'].agg('count').reset_index()\n",
    "    neg = neg.rename(columns={'VOT':'NEG'})\n",
    "    #abs\n",
    "\n",
    "    votes_by_elec = votes_by_elec.merge(pos, on='elec_id', how='left')\n",
    "    votes_by_elec = votes_by_elec.merge(abs, on='elec_id', how='left')\n",
    "    votes_by_elec = votes_by_elec.merge(neg, on='elec_id', how='left')\n",
    "\n",
    "    votes_by_elec= votes_by_elec.fillna(0)\n",
    "\n",
    "\n",
    "    votes_by_elec['POS'] = votes_by_elec['POS'].astype(int)\n",
    "    votes_by_elec['ABS'] = votes_by_elec['ABS'].astype(int)\n",
    "    votes_by_elec['NEG'] = votes_by_elec['NEG'].astype(int)\n",
    "\n",
    "    complete_dataset = complete_dataset.merge(votes_by_elec, how='left',on='elec_id')\n",
    "\n",
    "    return votes_by_elec, complete_dataset"
   ]
  },
  {
   "cell_type": "markdown",
   "metadata": {},
   "source": [
    "# Code"
   ]
  },
  {
   "cell_type": "code",
   "execution_count": 63,
   "metadata": {},
   "outputs": [
    {
     "name": "stdout",
     "output_type": "stream",
     "text": [
      "(198275, 7)\n"
     ]
    },
    {
     "data": {
      "text/html": [
       "<div>\n",
       "<style scoped>\n",
       "    .dataframe tbody tr th:only-of-type {\n",
       "        vertical-align: middle;\n",
       "    }\n",
       "\n",
       "    .dataframe tbody tr th {\n",
       "        vertical-align: top;\n",
       "    }\n",
       "\n",
       "    .dataframe thead th {\n",
       "        text-align: right;\n",
       "    }\n",
       "</style>\n",
       "<table border=\"1\" class=\"dataframe\">\n",
       "  <thead>\n",
       "    <tr style=\"text-align: right;\">\n",
       "      <th></th>\n",
       "      <th>SRC</th>\n",
       "      <th>TGT</th>\n",
       "      <th>VOT</th>\n",
       "      <th>RES</th>\n",
       "      <th>YEA</th>\n",
       "      <th>DAT</th>\n",
       "      <th>TXT</th>\n",
       "    </tr>\n",
       "  </thead>\n",
       "  <tbody>\n",
       "    <tr>\n",
       "      <th>0</th>\n",
       "      <td>Steel1943</td>\n",
       "      <td>BDD</td>\n",
       "      <td>1</td>\n",
       "      <td>1</td>\n",
       "      <td>2013</td>\n",
       "      <td>23:13, 19 April 2013</td>\n",
       "      <td>Support as conom.</td>\n",
       "    </tr>\n",
       "    <tr>\n",
       "      <th>1</th>\n",
       "      <td>Cuchullain</td>\n",
       "      <td>BDD</td>\n",
       "      <td>1</td>\n",
       "      <td>1</td>\n",
       "      <td>2013</td>\n",
       "      <td>01:04, 20 April 2013</td>\n",
       "      <td>Support as nominator.</td>\n",
       "    </tr>\n",
       "    <tr>\n",
       "      <th>2</th>\n",
       "      <td>INeverCry</td>\n",
       "      <td>BDD</td>\n",
       "      <td>1</td>\n",
       "      <td>1</td>\n",
       "      <td>2013</td>\n",
       "      <td>23:43, 19 April 2013</td>\n",
       "      <td>Support per noms.</td>\n",
       "    </tr>\n",
       "    <tr>\n",
       "      <th>3</th>\n",
       "      <td>Cncmaster</td>\n",
       "      <td>BDD</td>\n",
       "      <td>1</td>\n",
       "      <td>1</td>\n",
       "      <td>2013</td>\n",
       "      <td>00:11, 20 April 2013</td>\n",
       "      <td>Support per noms. BDD is a strong contributor ...</td>\n",
       "    </tr>\n",
       "    <tr>\n",
       "      <th>4</th>\n",
       "      <td>Miniapolis</td>\n",
       "      <td>BDD</td>\n",
       "      <td>1</td>\n",
       "      <td>1</td>\n",
       "      <td>2013</td>\n",
       "      <td>00:56, 20 April 2013</td>\n",
       "      <td>Support, with great pleasure. I work with BDD ...</td>\n",
       "    </tr>\n",
       "  </tbody>\n",
       "</table>\n",
       "</div>"
      ],
      "text/plain": [
       "          SRC  TGT  VOT  RES   YEA                   DAT  \\\n",
       "0   Steel1943  BDD    1    1  2013  23:13, 19 April 2013   \n",
       "1  Cuchullain  BDD    1    1  2013  01:04, 20 April 2013   \n",
       "2   INeverCry  BDD    1    1  2013  23:43, 19 April 2013   \n",
       "3   Cncmaster  BDD    1    1  2013  00:11, 20 April 2013   \n",
       "4  Miniapolis  BDD    1    1  2013  00:56, 20 April 2013   \n",
       "\n",
       "                                                 TXT  \n",
       "0                                  Support as conom.  \n",
       "1                              Support as nominator.  \n",
       "2                                  Support per noms.  \n",
       "3  Support per noms. BDD is a strong contributor ...  \n",
       "4  Support, with great pleasure. I work with BDD ...  "
      ]
     },
     "execution_count": 63,
     "metadata": {},
     "output_type": "execute_result"
    }
   ],
   "source": [
    "data = pre.import_RFA()\n",
    "\n",
    "print(data.shape)\n",
    "data.head(5)"
   ]
  },
  {
   "cell_type": "code",
   "execution_count": 64,
   "metadata": {},
   "outputs": [
    {
     "data": {
      "text/html": [
       "<div>\n",
       "<style scoped>\n",
       "    .dataframe tbody tr th:only-of-type {\n",
       "        vertical-align: middle;\n",
       "    }\n",
       "\n",
       "    .dataframe tbody tr th {\n",
       "        vertical-align: top;\n",
       "    }\n",
       "\n",
       "    .dataframe thead th {\n",
       "        text-align: right;\n",
       "    }\n",
       "</style>\n",
       "<table border=\"1\" class=\"dataframe\">\n",
       "  <thead>\n",
       "    <tr style=\"text-align: right;\">\n",
       "      <th></th>\n",
       "      <th>SRC</th>\n",
       "      <th>TGT</th>\n",
       "      <th>VOT</th>\n",
       "      <th>RES</th>\n",
       "      <th>YEA</th>\n",
       "      <th>DAT</th>\n",
       "      <th>MON</th>\n",
       "      <th>TIM</th>\n",
       "      <th>TXT</th>\n",
       "    </tr>\n",
       "  </thead>\n",
       "  <tbody>\n",
       "    <tr>\n",
       "      <th>0</th>\n",
       "      <td>Steel1943</td>\n",
       "      <td>BDD</td>\n",
       "      <td>1</td>\n",
       "      <td>1</td>\n",
       "      <td>2013</td>\n",
       "      <td>2013-04-19</td>\n",
       "      <td>April</td>\n",
       "      <td>23:13:00</td>\n",
       "      <td>Support as conom.</td>\n",
       "    </tr>\n",
       "    <tr>\n",
       "      <th>1</th>\n",
       "      <td>Cuchullain</td>\n",
       "      <td>BDD</td>\n",
       "      <td>1</td>\n",
       "      <td>1</td>\n",
       "      <td>2013</td>\n",
       "      <td>2013-04-20</td>\n",
       "      <td>April</td>\n",
       "      <td>01:04:00</td>\n",
       "      <td>Support as nominator.</td>\n",
       "    </tr>\n",
       "    <tr>\n",
       "      <th>2</th>\n",
       "      <td>INeverCry</td>\n",
       "      <td>BDD</td>\n",
       "      <td>1</td>\n",
       "      <td>1</td>\n",
       "      <td>2013</td>\n",
       "      <td>2013-04-19</td>\n",
       "      <td>April</td>\n",
       "      <td>23:43:00</td>\n",
       "      <td>Support per noms.</td>\n",
       "    </tr>\n",
       "    <tr>\n",
       "      <th>3</th>\n",
       "      <td>Cncmaster</td>\n",
       "      <td>BDD</td>\n",
       "      <td>1</td>\n",
       "      <td>1</td>\n",
       "      <td>2013</td>\n",
       "      <td>2013-04-20</td>\n",
       "      <td>April</td>\n",
       "      <td>00:11:00</td>\n",
       "      <td>Support per noms. BDD is a strong contributor ...</td>\n",
       "    </tr>\n",
       "    <tr>\n",
       "      <th>4</th>\n",
       "      <td>Miniapolis</td>\n",
       "      <td>BDD</td>\n",
       "      <td>1</td>\n",
       "      <td>1</td>\n",
       "      <td>2013</td>\n",
       "      <td>2013-04-20</td>\n",
       "      <td>April</td>\n",
       "      <td>00:56:00</td>\n",
       "      <td>Support, with great pleasure. I work with BDD ...</td>\n",
       "    </tr>\n",
       "    <tr>\n",
       "      <th>...</th>\n",
       "      <td>...</td>\n",
       "      <td>...</td>\n",
       "      <td>...</td>\n",
       "      <td>...</td>\n",
       "      <td>...</td>\n",
       "      <td>...</td>\n",
       "      <td>...</td>\n",
       "      <td>...</td>\n",
       "      <td>...</td>\n",
       "    </tr>\n",
       "    <tr>\n",
       "      <th>198270</th>\n",
       "      <td>172</td>\n",
       "      <td>Vancouverguy</td>\n",
       "      <td>1</td>\n",
       "      <td>1</td>\n",
       "      <td>2003</td>\n",
       "      <td>2003-09-02</td>\n",
       "      <td>September</td>\n",
       "      <td>02:51:00</td>\n",
       "      <td>Support</td>\n",
       "    </tr>\n",
       "    <tr>\n",
       "      <th>198271</th>\n",
       "      <td>Angela</td>\n",
       "      <td>WhisperToMe</td>\n",
       "      <td>1</td>\n",
       "      <td>1</td>\n",
       "      <td>2003</td>\n",
       "      <td>2003-11-26</td>\n",
       "      <td>November</td>\n",
       "      <td>23:45:00</td>\n",
       "      <td>Support.</td>\n",
       "    </tr>\n",
       "    <tr>\n",
       "      <th>198272</th>\n",
       "      <td>Jiang</td>\n",
       "      <td>WhisperToMe</td>\n",
       "      <td>1</td>\n",
       "      <td>1</td>\n",
       "      <td>2003</td>\n",
       "      <td>NaN</td>\n",
       "      <td>NaN</td>\n",
       "      <td>NaN</td>\n",
       "      <td>Support.</td>\n",
       "    </tr>\n",
       "    <tr>\n",
       "      <th>198273</th>\n",
       "      <td>Pakaran</td>\n",
       "      <td>WhisperToMe</td>\n",
       "      <td>1</td>\n",
       "      <td>1</td>\n",
       "      <td>2003</td>\n",
       "      <td>2003-12-05</td>\n",
       "      <td>December</td>\n",
       "      <td>05:38:00</td>\n",
       "      <td>Support.  Age has nothing to do with maturity.</td>\n",
       "    </tr>\n",
       "    <tr>\n",
       "      <th>198274</th>\n",
       "      <td>Jimregan</td>\n",
       "      <td>Zanimum</td>\n",
       "      <td>1</td>\n",
       "      <td>1</td>\n",
       "      <td>2003</td>\n",
       "      <td>NaN</td>\n",
       "      <td>NaN</td>\n",
       "      <td>NaN</td>\n",
       "      <td>Support  anyone who can write so much, and so ...</td>\n",
       "    </tr>\n",
       "  </tbody>\n",
       "</table>\n",
       "<p>198275 rows × 9 columns</p>\n",
       "</div>"
      ],
      "text/plain": [
       "               SRC           TGT  VOT  RES   YEA         DAT        MON  \\\n",
       "0        Steel1943           BDD    1    1  2013  2013-04-19      April   \n",
       "1       Cuchullain           BDD    1    1  2013  2013-04-20      April   \n",
       "2        INeverCry           BDD    1    1  2013  2013-04-19      April   \n",
       "3        Cncmaster           BDD    1    1  2013  2013-04-20      April   \n",
       "4       Miniapolis           BDD    1    1  2013  2013-04-20      April   \n",
       "...            ...           ...  ...  ...   ...         ...        ...   \n",
       "198270         172  Vancouverguy    1    1  2003  2003-09-02  September   \n",
       "198271      Angela   WhisperToMe    1    1  2003  2003-11-26   November   \n",
       "198272       Jiang   WhisperToMe    1    1  2003         NaN        NaN   \n",
       "198273     Pakaran   WhisperToMe    1    1  2003  2003-12-05   December   \n",
       "198274    Jimregan       Zanimum    1    1  2003         NaN        NaN   \n",
       "\n",
       "             TIM                                                TXT  \n",
       "0       23:13:00                                  Support as conom.  \n",
       "1       01:04:00                              Support as nominator.  \n",
       "2       23:43:00                                  Support per noms.  \n",
       "3       00:11:00  Support per noms. BDD is a strong contributor ...  \n",
       "4       00:56:00  Support, with great pleasure. I work with BDD ...  \n",
       "...          ...                                                ...  \n",
       "198270  02:51:00                                            Support  \n",
       "198271  23:45:00                                           Support.  \n",
       "198272       NaN                                          Support.   \n",
       "198273  05:38:00   Support.  Age has nothing to do with maturity.    \n",
       "198274       NaN  Support  anyone who can write so much, and so ...  \n",
       "\n",
       "[198275 rows x 9 columns]"
      ]
     },
     "execution_count": 64,
     "metadata": {},
     "output_type": "execute_result"
    }
   ],
   "source": [
    "df = dates_prep(data)\n",
    "df"
   ]
  },
  {
   "cell_type": "code",
   "execution_count": 65,
   "metadata": {},
   "outputs": [],
   "source": [
    "unique_elections, unique_candidate_freq_table, single_runners_list, multiple_runners_list  = prep_unique_elections(df)\n"
   ]
  },
  {
   "cell_type": "code",
   "execution_count": 66,
   "metadata": {},
   "outputs": [],
   "source": [
    "#unique_elections\n",
    "#unique_candidate_freq_table\n",
    "#single_runners_list\n",
    "#multiple_runners_list"
   ]
  },
  {
   "cell_type": "code",
   "execution_count": 67,
   "metadata": {},
   "outputs": [
    {
     "name": "stderr",
     "output_type": "stream",
     "text": [
      "C:\\Users\\mikai\\AppData\\Local\\Temp\\ipykernel_24580\\3499867910.py:54: SettingWithCopyWarning: \n",
      "A value is trying to be set on a copy of a slice from a DataFrame.\n",
      "Try using .loc[row_indexer,col_indexer] = value instead\n",
      "\n",
      "See the caveats in the documentation: https://pandas.pydata.org/pandas-docs/stable/user_guide/indexing.html#returning-a-view-versus-a-copy\n",
      "  complete_dataset['elec_id'] = np.empty(198275)\n",
      "C:\\Users\\mikai\\AppData\\Local\\Temp\\ipykernel_24580\\3499867910.py:55: SettingWithCopyWarning: \n",
      "A value is trying to be set on a copy of a slice from a DataFrame.\n",
      "Try using .loc[row_indexer,col_indexer] = value instead\n",
      "\n",
      "See the caveats in the documentation: https://pandas.pydata.org/pandas-docs/stable/user_guide/indexing.html#returning-a-view-versus-a-copy\n",
      "  complete_dataset['elec_id'] = complete_dataset['elec_id'].astype(int)\n"
     ]
    }
   ],
   "source": [
    "unique_elections, df = assign_elec_id(unique_elections,df)"
   ]
  },
  {
   "cell_type": "code",
   "execution_count": 68,
   "metadata": {},
   "outputs": [],
   "source": [
    "#unique_elections\n",
    "#df"
   ]
  },
  {
   "cell_type": "code",
   "execution_count": 69,
   "metadata": {},
   "outputs": [],
   "source": [
    "unique_candidate_freq_table = calc_win_loss(unique_candidate_freq_table,unique_elections)"
   ]
  },
  {
   "cell_type": "code",
   "execution_count": 32,
   "metadata": {},
   "outputs": [],
   "source": [
    "#unique_candidate_freq_table"
   ]
  },
  {
   "cell_type": "code",
   "execution_count": 33,
   "metadata": {},
   "outputs": [],
   "source": [
    "flagged_elec_id = flag_elec_id(unique_elections, df)"
   ]
  },
  {
   "cell_type": "code",
   "execution_count": 34,
   "metadata": {},
   "outputs": [
    {
     "data": {
      "text/html": [
       "<div>\n",
       "<style scoped>\n",
       "    .dataframe tbody tr th:only-of-type {\n",
       "        vertical-align: middle;\n",
       "    }\n",
       "\n",
       "    .dataframe tbody tr th {\n",
       "        vertical-align: top;\n",
       "    }\n",
       "\n",
       "    .dataframe thead th {\n",
       "        text-align: right;\n",
       "    }\n",
       "</style>\n",
       "<table border=\"1\" class=\"dataframe\">\n",
       "  <thead>\n",
       "    <tr style=\"text-align: right;\">\n",
       "      <th></th>\n",
       "      <th>elec_id</th>\n",
       "      <th>index</th>\n",
       "    </tr>\n",
       "  </thead>\n",
       "  <tbody>\n",
       "    <tr>\n",
       "      <th>0</th>\n",
       "      <td>81</td>\n",
       "      <td>27420</td>\n",
       "    </tr>\n",
       "    <tr>\n",
       "      <th>1</th>\n",
       "      <td>81</td>\n",
       "      <td>27421</td>\n",
       "    </tr>\n",
       "    <tr>\n",
       "      <th>2</th>\n",
       "      <td>81</td>\n",
       "      <td>27422</td>\n",
       "    </tr>\n",
       "    <tr>\n",
       "      <th>3</th>\n",
       "      <td>81</td>\n",
       "      <td>27423</td>\n",
       "    </tr>\n",
       "    <tr>\n",
       "      <th>4</th>\n",
       "      <td>81</td>\n",
       "      <td>27424</td>\n",
       "    </tr>\n",
       "    <tr>\n",
       "      <th>...</th>\n",
       "      <td>...</td>\n",
       "      <td>...</td>\n",
       "    </tr>\n",
       "    <tr>\n",
       "      <th>4272</th>\n",
       "      <td>3892</td>\n",
       "      <td>120135</td>\n",
       "    </tr>\n",
       "    <tr>\n",
       "      <th>4273</th>\n",
       "      <td>3892</td>\n",
       "      <td>120136</td>\n",
       "    </tr>\n",
       "    <tr>\n",
       "      <th>4274</th>\n",
       "      <td>3892</td>\n",
       "      <td>120137</td>\n",
       "    </tr>\n",
       "    <tr>\n",
       "      <th>4275</th>\n",
       "      <td>3892</td>\n",
       "      <td>120138</td>\n",
       "    </tr>\n",
       "    <tr>\n",
       "      <th>4276</th>\n",
       "      <td>3892</td>\n",
       "      <td>120139</td>\n",
       "    </tr>\n",
       "  </tbody>\n",
       "</table>\n",
       "<p>4277 rows × 2 columns</p>\n",
       "</div>"
      ],
      "text/plain": [
       "      elec_id   index\n",
       "0          81   27420\n",
       "1          81   27421\n",
       "2          81   27422\n",
       "3          81   27423\n",
       "4          81   27424\n",
       "...       ...     ...\n",
       "4272     3892  120135\n",
       "4273     3892  120136\n",
       "4274     3892  120137\n",
       "4275     3892  120138\n",
       "4276     3892  120139\n",
       "\n",
       "[4277 rows x 2 columns]"
      ]
     },
     "execution_count": 34,
     "metadata": {},
     "output_type": "execute_result"
    }
   ],
   "source": [
    "flagged_elec_id"
   ]
  },
  {
   "cell_type": "code",
   "execution_count": 35,
   "metadata": {},
   "outputs": [],
   "source": [
    "#Ran Once, long runtime\n",
    "#df_processed = separate_flagged_elec_id(df,flagged_elec_id)"
   ]
  },
  {
   "cell_type": "code",
   "execution_count": 36,
   "metadata": {},
   "outputs": [],
   "source": [
    "#importing csv mentioned in previous cell\n",
    "file_path = 'data/processed_elec_data.csv'\n",
    "df_processed = pd.read_csv(file_path)"
   ]
  },
  {
   "cell_type": "markdown",
   "metadata": {},
   "source": [
    "# Votes"
   ]
  },
  {
   "cell_type": "code",
   "execution_count": 212,
   "metadata": {},
   "outputs": [
    {
     "data": {
      "text/html": [
       "<div>\n",
       "<style scoped>\n",
       "    .dataframe tbody tr th:only-of-type {\n",
       "        vertical-align: middle;\n",
       "    }\n",
       "\n",
       "    .dataframe tbody tr th {\n",
       "        vertical-align: top;\n",
       "    }\n",
       "\n",
       "    .dataframe thead th {\n",
       "        text-align: right;\n",
       "    }\n",
       "</style>\n",
       "<table border=\"1\" class=\"dataframe\">\n",
       "  <thead>\n",
       "    <tr style=\"text-align: right;\">\n",
       "      <th></th>\n",
       "      <th>SRC</th>\n",
       "      <th>TGT</th>\n",
       "      <th>VOT</th>\n",
       "      <th>RES</th>\n",
       "      <th>YEA</th>\n",
       "      <th>DAT</th>\n",
       "      <th>MON</th>\n",
       "      <th>TIM</th>\n",
       "      <th>TXT</th>\n",
       "      <th>elec_id</th>\n",
       "    </tr>\n",
       "  </thead>\n",
       "  <tbody>\n",
       "    <tr>\n",
       "      <th>0</th>\n",
       "      <td>Steel1943</td>\n",
       "      <td>BDD</td>\n",
       "      <td>1</td>\n",
       "      <td>1</td>\n",
       "      <td>2013</td>\n",
       "      <td>2013-04-19</td>\n",
       "      <td>April</td>\n",
       "      <td>23:13:00</td>\n",
       "      <td>Support as conom.</td>\n",
       "      <td>301</td>\n",
       "    </tr>\n",
       "    <tr>\n",
       "      <th>1</th>\n",
       "      <td>Cuchullain</td>\n",
       "      <td>BDD</td>\n",
       "      <td>1</td>\n",
       "      <td>1</td>\n",
       "      <td>2013</td>\n",
       "      <td>2013-04-20</td>\n",
       "      <td>April</td>\n",
       "      <td>01:04:00</td>\n",
       "      <td>Support as nominator.</td>\n",
       "      <td>301</td>\n",
       "    </tr>\n",
       "    <tr>\n",
       "      <th>2</th>\n",
       "      <td>INeverCry</td>\n",
       "      <td>BDD</td>\n",
       "      <td>1</td>\n",
       "      <td>1</td>\n",
       "      <td>2013</td>\n",
       "      <td>2013-04-19</td>\n",
       "      <td>April</td>\n",
       "      <td>23:43:00</td>\n",
       "      <td>Support per noms.</td>\n",
       "      <td>301</td>\n",
       "    </tr>\n",
       "    <tr>\n",
       "      <th>3</th>\n",
       "      <td>Cncmaster</td>\n",
       "      <td>BDD</td>\n",
       "      <td>1</td>\n",
       "      <td>1</td>\n",
       "      <td>2013</td>\n",
       "      <td>2013-04-20</td>\n",
       "      <td>April</td>\n",
       "      <td>00:11:00</td>\n",
       "      <td>Support per noms. BDD is a strong contributor ...</td>\n",
       "      <td>301</td>\n",
       "    </tr>\n",
       "    <tr>\n",
       "      <th>4</th>\n",
       "      <td>Miniapolis</td>\n",
       "      <td>BDD</td>\n",
       "      <td>1</td>\n",
       "      <td>1</td>\n",
       "      <td>2013</td>\n",
       "      <td>2013-04-20</td>\n",
       "      <td>April</td>\n",
       "      <td>00:56:00</td>\n",
       "      <td>Support, with great pleasure. I work with BDD ...</td>\n",
       "      <td>301</td>\n",
       "    </tr>\n",
       "    <tr>\n",
       "      <th>...</th>\n",
       "      <td>...</td>\n",
       "      <td>...</td>\n",
       "      <td>...</td>\n",
       "      <td>...</td>\n",
       "      <td>...</td>\n",
       "      <td>...</td>\n",
       "      <td>...</td>\n",
       "      <td>...</td>\n",
       "      <td>...</td>\n",
       "      <td>...</td>\n",
       "    </tr>\n",
       "    <tr>\n",
       "      <th>198270</th>\n",
       "      <td>172</td>\n",
       "      <td>Vancouverguy</td>\n",
       "      <td>1</td>\n",
       "      <td>1</td>\n",
       "      <td>2003</td>\n",
       "      <td>2003-09-02</td>\n",
       "      <td>September</td>\n",
       "      <td>02:51:00</td>\n",
       "      <td>Support</td>\n",
       "      <td>3558</td>\n",
       "    </tr>\n",
       "    <tr>\n",
       "      <th>198271</th>\n",
       "      <td>Angela</td>\n",
       "      <td>WhisperToMe</td>\n",
       "      <td>1</td>\n",
       "      <td>1</td>\n",
       "      <td>2003</td>\n",
       "      <td>2003-11-26</td>\n",
       "      <td>November</td>\n",
       "      <td>23:45:00</td>\n",
       "      <td>Support.</td>\n",
       "      <td>3655</td>\n",
       "    </tr>\n",
       "    <tr>\n",
       "      <th>198272</th>\n",
       "      <td>Jiang</td>\n",
       "      <td>WhisperToMe</td>\n",
       "      <td>1</td>\n",
       "      <td>1</td>\n",
       "      <td>2003</td>\n",
       "      <td>NaN</td>\n",
       "      <td>NaN</td>\n",
       "      <td>NaN</td>\n",
       "      <td>Support.</td>\n",
       "      <td>3655</td>\n",
       "    </tr>\n",
       "    <tr>\n",
       "      <th>198273</th>\n",
       "      <td>Pakaran</td>\n",
       "      <td>WhisperToMe</td>\n",
       "      <td>1</td>\n",
       "      <td>1</td>\n",
       "      <td>2003</td>\n",
       "      <td>2003-12-05</td>\n",
       "      <td>December</td>\n",
       "      <td>05:38:00</td>\n",
       "      <td>Support.  Age has nothing to do with maturity.</td>\n",
       "      <td>3655</td>\n",
       "    </tr>\n",
       "    <tr>\n",
       "      <th>198274</th>\n",
       "      <td>Jimregan</td>\n",
       "      <td>Zanimum</td>\n",
       "      <td>1</td>\n",
       "      <td>1</td>\n",
       "      <td>2003</td>\n",
       "      <td>NaN</td>\n",
       "      <td>NaN</td>\n",
       "      <td>NaN</td>\n",
       "      <td>Support  anyone who can write so much, and so ...</td>\n",
       "      <td>3786</td>\n",
       "    </tr>\n",
       "  </tbody>\n",
       "</table>\n",
       "<p>198275 rows × 10 columns</p>\n",
       "</div>"
      ],
      "text/plain": [
       "               SRC           TGT  VOT  RES   YEA         DAT        MON  \\\n",
       "0        Steel1943           BDD    1    1  2013  2013-04-19      April   \n",
       "1       Cuchullain           BDD    1    1  2013  2013-04-20      April   \n",
       "2        INeverCry           BDD    1    1  2013  2013-04-19      April   \n",
       "3        Cncmaster           BDD    1    1  2013  2013-04-20      April   \n",
       "4       Miniapolis           BDD    1    1  2013  2013-04-20      April   \n",
       "...            ...           ...  ...  ...   ...         ...        ...   \n",
       "198270         172  Vancouverguy    1    1  2003  2003-09-02  September   \n",
       "198271      Angela   WhisperToMe    1    1  2003  2003-11-26   November   \n",
       "198272       Jiang   WhisperToMe    1    1  2003         NaN        NaN   \n",
       "198273     Pakaran   WhisperToMe    1    1  2003  2003-12-05   December   \n",
       "198274    Jimregan       Zanimum    1    1  2003         NaN        NaN   \n",
       "\n",
       "             TIM                                                TXT  elec_id  \n",
       "0       23:13:00                                  Support as conom.      301  \n",
       "1       01:04:00                              Support as nominator.      301  \n",
       "2       23:43:00                                  Support per noms.      301  \n",
       "3       00:11:00  Support per noms. BDD is a strong contributor ...      301  \n",
       "4       00:56:00  Support, with great pleasure. I work with BDD ...      301  \n",
       "...          ...                                                ...      ...  \n",
       "198270  02:51:00                                            Support     3558  \n",
       "198271  23:45:00                                           Support.     3655  \n",
       "198272       NaN                                          Support.      3655  \n",
       "198273  05:38:00   Support.  Age has nothing to do with maturity.       3655  \n",
       "198274       NaN  Support  anyone who can write so much, and so ...     3786  \n",
       "\n",
       "[198275 rows x 10 columns]"
      ]
     },
     "execution_count": 212,
     "metadata": {},
     "output_type": "execute_result"
    }
   ],
   "source": [
    "df1 = df.copy()\n",
    "df1"
   ]
  },
  {
   "cell_type": "code",
   "execution_count": 213,
   "metadata": {},
   "outputs": [],
   "source": [
    "votes, df1 = get_votes(df1)"
   ]
  },
  {
   "cell_type": "code",
   "execution_count": 214,
   "metadata": {},
   "outputs": [
    {
     "data": {
      "text/html": [
       "<div>\n",
       "<style scoped>\n",
       "    .dataframe tbody tr th:only-of-type {\n",
       "        vertical-align: middle;\n",
       "    }\n",
       "\n",
       "    .dataframe tbody tr th {\n",
       "        vertical-align: top;\n",
       "    }\n",
       "\n",
       "    .dataframe thead th {\n",
       "        text-align: right;\n",
       "    }\n",
       "</style>\n",
       "<table border=\"1\" class=\"dataframe\">\n",
       "  <thead>\n",
       "    <tr style=\"text-align: right;\">\n",
       "      <th></th>\n",
       "      <th>SRC</th>\n",
       "      <th>TGT</th>\n",
       "      <th>VOT</th>\n",
       "      <th>RES</th>\n",
       "      <th>YEA</th>\n",
       "      <th>DAT</th>\n",
       "      <th>MON</th>\n",
       "      <th>TIM</th>\n",
       "      <th>TXT</th>\n",
       "      <th>elec_id</th>\n",
       "      <th>TOT</th>\n",
       "      <th>POS</th>\n",
       "      <th>ABS</th>\n",
       "      <th>NEG</th>\n",
       "    </tr>\n",
       "  </thead>\n",
       "  <tbody>\n",
       "    <tr>\n",
       "      <th>0</th>\n",
       "      <td>Steel1943</td>\n",
       "      <td>BDD</td>\n",
       "      <td>1</td>\n",
       "      <td>1</td>\n",
       "      <td>2013</td>\n",
       "      <td>2013-04-19</td>\n",
       "      <td>April</td>\n",
       "      <td>23:13:00</td>\n",
       "      <td>Support as conom.</td>\n",
       "      <td>301</td>\n",
       "      <td>137</td>\n",
       "      <td>119</td>\n",
       "      <td>4</td>\n",
       "      <td>14</td>\n",
       "    </tr>\n",
       "    <tr>\n",
       "      <th>1</th>\n",
       "      <td>Cuchullain</td>\n",
       "      <td>BDD</td>\n",
       "      <td>1</td>\n",
       "      <td>1</td>\n",
       "      <td>2013</td>\n",
       "      <td>2013-04-20</td>\n",
       "      <td>April</td>\n",
       "      <td>01:04:00</td>\n",
       "      <td>Support as nominator.</td>\n",
       "      <td>301</td>\n",
       "      <td>137</td>\n",
       "      <td>119</td>\n",
       "      <td>4</td>\n",
       "      <td>14</td>\n",
       "    </tr>\n",
       "    <tr>\n",
       "      <th>2</th>\n",
       "      <td>INeverCry</td>\n",
       "      <td>BDD</td>\n",
       "      <td>1</td>\n",
       "      <td>1</td>\n",
       "      <td>2013</td>\n",
       "      <td>2013-04-19</td>\n",
       "      <td>April</td>\n",
       "      <td>23:43:00</td>\n",
       "      <td>Support per noms.</td>\n",
       "      <td>301</td>\n",
       "      <td>137</td>\n",
       "      <td>119</td>\n",
       "      <td>4</td>\n",
       "      <td>14</td>\n",
       "    </tr>\n",
       "    <tr>\n",
       "      <th>3</th>\n",
       "      <td>Cncmaster</td>\n",
       "      <td>BDD</td>\n",
       "      <td>1</td>\n",
       "      <td>1</td>\n",
       "      <td>2013</td>\n",
       "      <td>2013-04-20</td>\n",
       "      <td>April</td>\n",
       "      <td>00:11:00</td>\n",
       "      <td>Support per noms. BDD is a strong contributor ...</td>\n",
       "      <td>301</td>\n",
       "      <td>137</td>\n",
       "      <td>119</td>\n",
       "      <td>4</td>\n",
       "      <td>14</td>\n",
       "    </tr>\n",
       "    <tr>\n",
       "      <th>4</th>\n",
       "      <td>Miniapolis</td>\n",
       "      <td>BDD</td>\n",
       "      <td>1</td>\n",
       "      <td>1</td>\n",
       "      <td>2013</td>\n",
       "      <td>2013-04-20</td>\n",
       "      <td>April</td>\n",
       "      <td>00:56:00</td>\n",
       "      <td>Support, with great pleasure. I work with BDD ...</td>\n",
       "      <td>301</td>\n",
       "      <td>137</td>\n",
       "      <td>119</td>\n",
       "      <td>4</td>\n",
       "      <td>14</td>\n",
       "    </tr>\n",
       "    <tr>\n",
       "      <th>...</th>\n",
       "      <td>...</td>\n",
       "      <td>...</td>\n",
       "      <td>...</td>\n",
       "      <td>...</td>\n",
       "      <td>...</td>\n",
       "      <td>...</td>\n",
       "      <td>...</td>\n",
       "      <td>...</td>\n",
       "      <td>...</td>\n",
       "      <td>...</td>\n",
       "      <td>...</td>\n",
       "      <td>...</td>\n",
       "      <td>...</td>\n",
       "      <td>...</td>\n",
       "    </tr>\n",
       "    <tr>\n",
       "      <th>198270</th>\n",
       "      <td>172</td>\n",
       "      <td>Vancouverguy</td>\n",
       "      <td>1</td>\n",
       "      <td>1</td>\n",
       "      <td>2003</td>\n",
       "      <td>2003-09-02</td>\n",
       "      <td>September</td>\n",
       "      <td>02:51:00</td>\n",
       "      <td>Support</td>\n",
       "      <td>3558</td>\n",
       "      <td>3</td>\n",
       "      <td>3</td>\n",
       "      <td>0</td>\n",
       "      <td>0</td>\n",
       "    </tr>\n",
       "    <tr>\n",
       "      <th>198271</th>\n",
       "      <td>Angela</td>\n",
       "      <td>WhisperToMe</td>\n",
       "      <td>1</td>\n",
       "      <td>1</td>\n",
       "      <td>2003</td>\n",
       "      <td>2003-11-26</td>\n",
       "      <td>November</td>\n",
       "      <td>23:45:00</td>\n",
       "      <td>Support.</td>\n",
       "      <td>3655</td>\n",
       "      <td>3</td>\n",
       "      <td>3</td>\n",
       "      <td>0</td>\n",
       "      <td>0</td>\n",
       "    </tr>\n",
       "    <tr>\n",
       "      <th>198272</th>\n",
       "      <td>Jiang</td>\n",
       "      <td>WhisperToMe</td>\n",
       "      <td>1</td>\n",
       "      <td>1</td>\n",
       "      <td>2003</td>\n",
       "      <td>NaN</td>\n",
       "      <td>NaN</td>\n",
       "      <td>NaN</td>\n",
       "      <td>Support.</td>\n",
       "      <td>3655</td>\n",
       "      <td>3</td>\n",
       "      <td>3</td>\n",
       "      <td>0</td>\n",
       "      <td>0</td>\n",
       "    </tr>\n",
       "    <tr>\n",
       "      <th>198273</th>\n",
       "      <td>Pakaran</td>\n",
       "      <td>WhisperToMe</td>\n",
       "      <td>1</td>\n",
       "      <td>1</td>\n",
       "      <td>2003</td>\n",
       "      <td>2003-12-05</td>\n",
       "      <td>December</td>\n",
       "      <td>05:38:00</td>\n",
       "      <td>Support.  Age has nothing to do with maturity.</td>\n",
       "      <td>3655</td>\n",
       "      <td>3</td>\n",
       "      <td>3</td>\n",
       "      <td>0</td>\n",
       "      <td>0</td>\n",
       "    </tr>\n",
       "    <tr>\n",
       "      <th>198274</th>\n",
       "      <td>Jimregan</td>\n",
       "      <td>Zanimum</td>\n",
       "      <td>1</td>\n",
       "      <td>1</td>\n",
       "      <td>2003</td>\n",
       "      <td>NaN</td>\n",
       "      <td>NaN</td>\n",
       "      <td>NaN</td>\n",
       "      <td>Support  anyone who can write so much, and so ...</td>\n",
       "      <td>3786</td>\n",
       "      <td>1</td>\n",
       "      <td>1</td>\n",
       "      <td>0</td>\n",
       "      <td>0</td>\n",
       "    </tr>\n",
       "  </tbody>\n",
       "</table>\n",
       "<p>198275 rows × 14 columns</p>\n",
       "</div>"
      ],
      "text/plain": [
       "               SRC           TGT  VOT  RES   YEA         DAT        MON  \\\n",
       "0        Steel1943           BDD    1    1  2013  2013-04-19      April   \n",
       "1       Cuchullain           BDD    1    1  2013  2013-04-20      April   \n",
       "2        INeverCry           BDD    1    1  2013  2013-04-19      April   \n",
       "3        Cncmaster           BDD    1    1  2013  2013-04-20      April   \n",
       "4       Miniapolis           BDD    1    1  2013  2013-04-20      April   \n",
       "...            ...           ...  ...  ...   ...         ...        ...   \n",
       "198270         172  Vancouverguy    1    1  2003  2003-09-02  September   \n",
       "198271      Angela   WhisperToMe    1    1  2003  2003-11-26   November   \n",
       "198272       Jiang   WhisperToMe    1    1  2003         NaN        NaN   \n",
       "198273     Pakaran   WhisperToMe    1    1  2003  2003-12-05   December   \n",
       "198274    Jimregan       Zanimum    1    1  2003         NaN        NaN   \n",
       "\n",
       "             TIM                                                TXT  elec_id  \\\n",
       "0       23:13:00                                  Support as conom.      301   \n",
       "1       01:04:00                              Support as nominator.      301   \n",
       "2       23:43:00                                  Support per noms.      301   \n",
       "3       00:11:00  Support per noms. BDD is a strong contributor ...      301   \n",
       "4       00:56:00  Support, with great pleasure. I work with BDD ...      301   \n",
       "...          ...                                                ...      ...   \n",
       "198270  02:51:00                                            Support     3558   \n",
       "198271  23:45:00                                           Support.     3655   \n",
       "198272       NaN                                          Support.      3655   \n",
       "198273  05:38:00   Support.  Age has nothing to do with maturity.       3655   \n",
       "198274       NaN  Support  anyone who can write so much, and so ...     3786   \n",
       "\n",
       "        TOT  POS  ABS  NEG  \n",
       "0       137  119    4   14  \n",
       "1       137  119    4   14  \n",
       "2       137  119    4   14  \n",
       "3       137  119    4   14  \n",
       "4       137  119    4   14  \n",
       "...     ...  ...  ...  ...  \n",
       "198270    3    3    0    0  \n",
       "198271    3    3    0    0  \n",
       "198272    3    3    0    0  \n",
       "198273    3    3    0    0  \n",
       "198274    1    1    0    0  \n",
       "\n",
       "[198275 rows x 14 columns]"
      ]
     },
     "execution_count": 214,
     "metadata": {},
     "output_type": "execute_result"
    }
   ],
   "source": [
    "df1"
   ]
  },
  {
   "cell_type": "markdown",
   "metadata": {},
   "source": [
    "# Graphs"
   ]
  },
  {
   "cell_type": "code",
   "execution_count": 283,
   "metadata": {},
   "outputs": [
    {
     "data": {
      "text/html": [
       "<div>\n",
       "<style scoped>\n",
       "    .dataframe tbody tr th:only-of-type {\n",
       "        vertical-align: middle;\n",
       "    }\n",
       "\n",
       "    .dataframe tbody tr th {\n",
       "        vertical-align: top;\n",
       "    }\n",
       "\n",
       "    .dataframe thead th {\n",
       "        text-align: right;\n",
       "    }\n",
       "</style>\n",
       "<table border=\"1\" class=\"dataframe\">\n",
       "  <thead>\n",
       "    <tr style=\"text-align: right;\">\n",
       "      <th></th>\n",
       "      <th>SING</th>\n",
       "      <th>SING_PERC</th>\n",
       "      <th>MULT</th>\n",
       "      <th>MULT_PERC</th>\n",
       "    </tr>\n",
       "  </thead>\n",
       "  <tbody>\n",
       "    <tr>\n",
       "      <th>-1</th>\n",
       "      <td>1454</td>\n",
       "      <td>0.467374</td>\n",
       "      <td>550</td>\n",
       "      <td>0.674847</td>\n",
       "    </tr>\n",
       "    <tr>\n",
       "      <th>1</th>\n",
       "      <td>1657</td>\n",
       "      <td>0.532626</td>\n",
       "      <td>265</td>\n",
       "      <td>0.325153</td>\n",
       "    </tr>\n",
       "    <tr>\n",
       "      <th>Total</th>\n",
       "      <td>3111</td>\n",
       "      <td>1.000000</td>\n",
       "      <td>815</td>\n",
       "      <td>1.000000</td>\n",
       "    </tr>\n",
       "  </tbody>\n",
       "</table>\n",
       "</div>"
      ],
      "text/plain": [
       "       SING  SING_PERC  MULT  MULT_PERC\n",
       "-1     1454   0.467374   550   0.674847\n",
       "1      1657   0.532626   265   0.325153\n",
       "Total  3111   1.000000   815   1.000000"
      ]
     },
     "execution_count": 283,
     "metadata": {},
     "output_type": "execute_result"
    }
   ],
   "source": [
    "sing_mult_stats = pd.DataFrame({'SING' : unique_elections[unique_elections['TGT'].isin(single_runners_list)]['RES'].value_counts(normalize=False),\n",
    "              'SING_PERC' : unique_elections[unique_elections['TGT'].isin(single_runners_list)]['RES'].value_counts(normalize=True),\n",
    "              'MULT' : unique_elections[unique_elections['TGT'].isin(multiple_runners_list)]['RES'].value_counts(normalize=False),\n",
    "              'MULT_PERC' : unique_elections[unique_elections['TGT'].isin(multiple_runners_list)]['RES'].value_counts(normalize=True)\n",
    "})\n",
    "\n",
    "sing_mult_stats_total = pd.DataFrame(sing_mult_stats.sum(axis=0)).rename(columns={0:'Total'}).transpose().astype(int)\n",
    "\n",
    "sing_mult_stats = pd.concat([sing_mult_stats,sing_mult_stats_total], axis=0)\n",
    "sing_mult_stats"
   ]
  },
  {
   "cell_type": "code",
   "execution_count": 394,
   "metadata": {},
   "outputs": [
    {
     "data": {
      "text/html": [
       "<div>\n",
       "<style scoped>\n",
       "    .dataframe tbody tr th:only-of-type {\n",
       "        vertical-align: middle;\n",
       "    }\n",
       "\n",
       "    .dataframe tbody tr th {\n",
       "        vertical-align: top;\n",
       "    }\n",
       "\n",
       "    .dataframe thead th {\n",
       "        text-align: right;\n",
       "    }\n",
       "</style>\n",
       "<table border=\"1\" class=\"dataframe\">\n",
       "  <thead>\n",
       "    <tr style=\"text-align: right;\">\n",
       "      <th></th>\n",
       "      <th>WIN</th>\n",
       "      <th>LOSS</th>\n",
       "      <th>WIN_PERC</th>\n",
       "      <th>LOSS_PERC</th>\n",
       "    </tr>\n",
       "    <tr>\n",
       "      <th>YEA</th>\n",
       "      <th></th>\n",
       "      <th></th>\n",
       "      <th></th>\n",
       "      <th></th>\n",
       "    </tr>\n",
       "  </thead>\n",
       "  <tbody>\n",
       "    <tr>\n",
       "      <th>2003</th>\n",
       "      <td>58</td>\n",
       "      <td>0</td>\n",
       "      <td>1.000000</td>\n",
       "      <td>0.000000</td>\n",
       "    </tr>\n",
       "    <tr>\n",
       "      <th>2004</th>\n",
       "      <td>236</td>\n",
       "      <td>58</td>\n",
       "      <td>0.802721</td>\n",
       "      <td>0.197279</td>\n",
       "    </tr>\n",
       "    <tr>\n",
       "      <th>2005</th>\n",
       "      <td>380</td>\n",
       "      <td>185</td>\n",
       "      <td>0.672566</td>\n",
       "      <td>0.327434</td>\n",
       "    </tr>\n",
       "    <tr>\n",
       "      <th>2006</th>\n",
       "      <td>347</td>\n",
       "      <td>472</td>\n",
       "      <td>0.423687</td>\n",
       "      <td>0.576313</td>\n",
       "    </tr>\n",
       "    <tr>\n",
       "      <th>2007</th>\n",
       "      <td>406</td>\n",
       "      <td>443</td>\n",
       "      <td>0.478210</td>\n",
       "      <td>0.521790</td>\n",
       "    </tr>\n",
       "    <tr>\n",
       "      <th>2008</th>\n",
       "      <td>201</td>\n",
       "      <td>332</td>\n",
       "      <td>0.377111</td>\n",
       "      <td>0.622889</td>\n",
       "    </tr>\n",
       "    <tr>\n",
       "      <th>2009</th>\n",
       "      <td>120</td>\n",
       "      <td>209</td>\n",
       "      <td>0.364742</td>\n",
       "      <td>0.635258</td>\n",
       "    </tr>\n",
       "    <tr>\n",
       "      <th>2010</th>\n",
       "      <td>75</td>\n",
       "      <td>141</td>\n",
       "      <td>0.347222</td>\n",
       "      <td>0.652778</td>\n",
       "    </tr>\n",
       "    <tr>\n",
       "      <th>2011</th>\n",
       "      <td>52</td>\n",
       "      <td>83</td>\n",
       "      <td>0.385185</td>\n",
       "      <td>0.614815</td>\n",
       "    </tr>\n",
       "    <tr>\n",
       "      <th>2012</th>\n",
       "      <td>28</td>\n",
       "      <td>65</td>\n",
       "      <td>0.301075</td>\n",
       "      <td>0.698925</td>\n",
       "    </tr>\n",
       "    <tr>\n",
       "      <th>2013</th>\n",
       "      <td>19</td>\n",
       "      <td>16</td>\n",
       "      <td>0.542857</td>\n",
       "      <td>0.457143</td>\n",
       "    </tr>\n",
       "  </tbody>\n",
       "</table>\n",
       "</div>"
      ],
      "text/plain": [
       "      WIN  LOSS  WIN_PERC  LOSS_PERC\n",
       "YEA                                 \n",
       "2003   58     0  1.000000   0.000000\n",
       "2004  236    58  0.802721   0.197279\n",
       "2005  380   185  0.672566   0.327434\n",
       "2006  347   472  0.423687   0.576313\n",
       "2007  406   443  0.478210   0.521790\n",
       "2008  201   332  0.377111   0.622889\n",
       "2009  120   209  0.364742   0.635258\n",
       "2010   75   141  0.347222   0.652778\n",
       "2011   52    83  0.385185   0.614815\n",
       "2012   28    65  0.301075   0.698925\n",
       "2013   19    16  0.542857   0.457143"
      ]
     },
     "execution_count": 394,
     "metadata": {},
     "output_type": "execute_result"
    }
   ],
   "source": [
    "passrate_by_year = pd.DataFrame({'WIN': df1.drop_duplicates('elec_id').reset_index().drop('index', axis=1).groupby('YEA')['RES'].value_counts(normalize=False).unstack().fillna(0).iloc[:,1].astype(int),\n",
    "                                 'LOSS': df1.drop_duplicates('elec_id').reset_index().drop('index', axis=1).groupby('YEA')['RES'].value_counts(normalize=False).unstack().fillna(0).iloc[:,0].astype(int),\n",
    "                                 'WIN_PERC': df1.drop_duplicates('elec_id').reset_index().drop('index', axis=1).groupby('YEA')['RES'].value_counts(normalize=True).unstack().fillna(0).iloc[:,1],\n",
    "                                 'LOSS_PERC': df1.drop_duplicates('elec_id').reset_index().drop('index', axis=1).groupby('YEA')['RES'].value_counts(normalize=True).unstack().fillna(0).iloc[:,0],\n",
    "})\n",
    "\n",
    "passrate_by_year.reset_index()\n",
    "\n",
    "passrate_by_year"
   ]
  },
  {
   "cell_type": "markdown",
   "metadata": {},
   "source": [
    "## Graph 1: Single vs. Multiple Time Runners Pass Rate"
   ]
  },
  {
   "cell_type": "code",
   "execution_count": 460,
   "metadata": {},
   "outputs": [
    {
     "data": {
      "application/vnd.plotly.v1+json": {
       "config": {
        "plotlyServerURL": "https://plot.ly"
       },
       "data": [
        {
         "name": "Losses",
         "text": [
          1454,
          550
         ],
         "textposition": "inside",
         "type": "bar",
         "x": [
          "SING",
          "MULT"
         ],
         "y": [
          1454,
          550
         ]
        },
        {
         "name": "Wins",
         "text": [
          1657,
          265
         ],
         "textposition": [
          "inside",
          "outside"
         ],
         "type": "bar",
         "x": [
          "SING",
          "MULT"
         ],
         "y": [
          1657,
          265
         ]
        },
        {
         "name": "Total",
         "text": [
          3111,
          815
         ],
         "textposition": "inside",
         "type": "bar",
         "x": [
          "SING",
          "MULT"
         ],
         "y": [
          3111,
          815
         ]
        },
        {
         "line": {
          "color": "red",
          "width": 2
         },
         "marker": {
          "color": "red",
          "size": 8
         },
         "mode": "lines+markers+text",
         "name": "Pass Rate",
         "text": [
          "53.3%",
          "32.5%"
         ],
         "textposition": "top center",
         "type": "scatter",
         "x": [
          "SING",
          "MULT"
         ],
         "y": [
          53.26261652201865,
          32.515337423312886
         ],
         "yaxis": "y2"
        }
       ],
       "layout": {
        "barcornerradius": 15,
        "barmode": "group",
        "legend": {
         "title": {
          "text": "Legend"
         },
         "x": 1.15,
         "xanchor": "right",
         "y": 0.6,
         "yanchor": "middle"
        },
        "template": {
         "data": {
          "bar": [
           {
            "error_x": {
             "color": "#2a3f5f"
            },
            "error_y": {
             "color": "#2a3f5f"
            },
            "marker": {
             "line": {
              "color": "#E5ECF6",
              "width": 0.5
             },
             "pattern": {
              "fillmode": "overlay",
              "size": 10,
              "solidity": 0.2
             }
            },
            "type": "bar"
           }
          ],
          "barpolar": [
           {
            "marker": {
             "line": {
              "color": "#E5ECF6",
              "width": 0.5
             },
             "pattern": {
              "fillmode": "overlay",
              "size": 10,
              "solidity": 0.2
             }
            },
            "type": "barpolar"
           }
          ],
          "carpet": [
           {
            "aaxis": {
             "endlinecolor": "#2a3f5f",
             "gridcolor": "white",
             "linecolor": "white",
             "minorgridcolor": "white",
             "startlinecolor": "#2a3f5f"
            },
            "baxis": {
             "endlinecolor": "#2a3f5f",
             "gridcolor": "white",
             "linecolor": "white",
             "minorgridcolor": "white",
             "startlinecolor": "#2a3f5f"
            },
            "type": "carpet"
           }
          ],
          "choropleth": [
           {
            "colorbar": {
             "outlinewidth": 0,
             "ticks": ""
            },
            "type": "choropleth"
           }
          ],
          "contour": [
           {
            "colorbar": {
             "outlinewidth": 0,
             "ticks": ""
            },
            "colorscale": [
             [
              0,
              "#0d0887"
             ],
             [
              0.1111111111111111,
              "#46039f"
             ],
             [
              0.2222222222222222,
              "#7201a8"
             ],
             [
              0.3333333333333333,
              "#9c179e"
             ],
             [
              0.4444444444444444,
              "#bd3786"
             ],
             [
              0.5555555555555556,
              "#d8576b"
             ],
             [
              0.6666666666666666,
              "#ed7953"
             ],
             [
              0.7777777777777778,
              "#fb9f3a"
             ],
             [
              0.8888888888888888,
              "#fdca26"
             ],
             [
              1,
              "#f0f921"
             ]
            ],
            "type": "contour"
           }
          ],
          "contourcarpet": [
           {
            "colorbar": {
             "outlinewidth": 0,
             "ticks": ""
            },
            "type": "contourcarpet"
           }
          ],
          "heatmap": [
           {
            "colorbar": {
             "outlinewidth": 0,
             "ticks": ""
            },
            "colorscale": [
             [
              0,
              "#0d0887"
             ],
             [
              0.1111111111111111,
              "#46039f"
             ],
             [
              0.2222222222222222,
              "#7201a8"
             ],
             [
              0.3333333333333333,
              "#9c179e"
             ],
             [
              0.4444444444444444,
              "#bd3786"
             ],
             [
              0.5555555555555556,
              "#d8576b"
             ],
             [
              0.6666666666666666,
              "#ed7953"
             ],
             [
              0.7777777777777778,
              "#fb9f3a"
             ],
             [
              0.8888888888888888,
              "#fdca26"
             ],
             [
              1,
              "#f0f921"
             ]
            ],
            "type": "heatmap"
           }
          ],
          "heatmapgl": [
           {
            "colorbar": {
             "outlinewidth": 0,
             "ticks": ""
            },
            "colorscale": [
             [
              0,
              "#0d0887"
             ],
             [
              0.1111111111111111,
              "#46039f"
             ],
             [
              0.2222222222222222,
              "#7201a8"
             ],
             [
              0.3333333333333333,
              "#9c179e"
             ],
             [
              0.4444444444444444,
              "#bd3786"
             ],
             [
              0.5555555555555556,
              "#d8576b"
             ],
             [
              0.6666666666666666,
              "#ed7953"
             ],
             [
              0.7777777777777778,
              "#fb9f3a"
             ],
             [
              0.8888888888888888,
              "#fdca26"
             ],
             [
              1,
              "#f0f921"
             ]
            ],
            "type": "heatmapgl"
           }
          ],
          "histogram": [
           {
            "marker": {
             "pattern": {
              "fillmode": "overlay",
              "size": 10,
              "solidity": 0.2
             }
            },
            "type": "histogram"
           }
          ],
          "histogram2d": [
           {
            "colorbar": {
             "outlinewidth": 0,
             "ticks": ""
            },
            "colorscale": [
             [
              0,
              "#0d0887"
             ],
             [
              0.1111111111111111,
              "#46039f"
             ],
             [
              0.2222222222222222,
              "#7201a8"
             ],
             [
              0.3333333333333333,
              "#9c179e"
             ],
             [
              0.4444444444444444,
              "#bd3786"
             ],
             [
              0.5555555555555556,
              "#d8576b"
             ],
             [
              0.6666666666666666,
              "#ed7953"
             ],
             [
              0.7777777777777778,
              "#fb9f3a"
             ],
             [
              0.8888888888888888,
              "#fdca26"
             ],
             [
              1,
              "#f0f921"
             ]
            ],
            "type": "histogram2d"
           }
          ],
          "histogram2dcontour": [
           {
            "colorbar": {
             "outlinewidth": 0,
             "ticks": ""
            },
            "colorscale": [
             [
              0,
              "#0d0887"
             ],
             [
              0.1111111111111111,
              "#46039f"
             ],
             [
              0.2222222222222222,
              "#7201a8"
             ],
             [
              0.3333333333333333,
              "#9c179e"
             ],
             [
              0.4444444444444444,
              "#bd3786"
             ],
             [
              0.5555555555555556,
              "#d8576b"
             ],
             [
              0.6666666666666666,
              "#ed7953"
             ],
             [
              0.7777777777777778,
              "#fb9f3a"
             ],
             [
              0.8888888888888888,
              "#fdca26"
             ],
             [
              1,
              "#f0f921"
             ]
            ],
            "type": "histogram2dcontour"
           }
          ],
          "mesh3d": [
           {
            "colorbar": {
             "outlinewidth": 0,
             "ticks": ""
            },
            "type": "mesh3d"
           }
          ],
          "parcoords": [
           {
            "line": {
             "colorbar": {
              "outlinewidth": 0,
              "ticks": ""
             }
            },
            "type": "parcoords"
           }
          ],
          "pie": [
           {
            "automargin": true,
            "type": "pie"
           }
          ],
          "scatter": [
           {
            "fillpattern": {
             "fillmode": "overlay",
             "size": 10,
             "solidity": 0.2
            },
            "type": "scatter"
           }
          ],
          "scatter3d": [
           {
            "line": {
             "colorbar": {
              "outlinewidth": 0,
              "ticks": ""
             }
            },
            "marker": {
             "colorbar": {
              "outlinewidth": 0,
              "ticks": ""
             }
            },
            "type": "scatter3d"
           }
          ],
          "scattercarpet": [
           {
            "marker": {
             "colorbar": {
              "outlinewidth": 0,
              "ticks": ""
             }
            },
            "type": "scattercarpet"
           }
          ],
          "scattergeo": [
           {
            "marker": {
             "colorbar": {
              "outlinewidth": 0,
              "ticks": ""
             }
            },
            "type": "scattergeo"
           }
          ],
          "scattergl": [
           {
            "marker": {
             "colorbar": {
              "outlinewidth": 0,
              "ticks": ""
             }
            },
            "type": "scattergl"
           }
          ],
          "scattermapbox": [
           {
            "marker": {
             "colorbar": {
              "outlinewidth": 0,
              "ticks": ""
             }
            },
            "type": "scattermapbox"
           }
          ],
          "scatterpolar": [
           {
            "marker": {
             "colorbar": {
              "outlinewidth": 0,
              "ticks": ""
             }
            },
            "type": "scatterpolar"
           }
          ],
          "scatterpolargl": [
           {
            "marker": {
             "colorbar": {
              "outlinewidth": 0,
              "ticks": ""
             }
            },
            "type": "scatterpolargl"
           }
          ],
          "scatterternary": [
           {
            "marker": {
             "colorbar": {
              "outlinewidth": 0,
              "ticks": ""
             }
            },
            "type": "scatterternary"
           }
          ],
          "surface": [
           {
            "colorbar": {
             "outlinewidth": 0,
             "ticks": ""
            },
            "colorscale": [
             [
              0,
              "#0d0887"
             ],
             [
              0.1111111111111111,
              "#46039f"
             ],
             [
              0.2222222222222222,
              "#7201a8"
             ],
             [
              0.3333333333333333,
              "#9c179e"
             ],
             [
              0.4444444444444444,
              "#bd3786"
             ],
             [
              0.5555555555555556,
              "#d8576b"
             ],
             [
              0.6666666666666666,
              "#ed7953"
             ],
             [
              0.7777777777777778,
              "#fb9f3a"
             ],
             [
              0.8888888888888888,
              "#fdca26"
             ],
             [
              1,
              "#f0f921"
             ]
            ],
            "type": "surface"
           }
          ],
          "table": [
           {
            "cells": {
             "fill": {
              "color": "#EBF0F8"
             },
             "line": {
              "color": "white"
             }
            },
            "header": {
             "fill": {
              "color": "#C8D4E3"
             },
             "line": {
              "color": "white"
             }
            },
            "type": "table"
           }
          ]
         },
         "layout": {
          "annotationdefaults": {
           "arrowcolor": "#2a3f5f",
           "arrowhead": 0,
           "arrowwidth": 1
          },
          "autotypenumbers": "strict",
          "coloraxis": {
           "colorbar": {
            "outlinewidth": 0,
            "ticks": ""
           }
          },
          "colorscale": {
           "diverging": [
            [
             0,
             "#8e0152"
            ],
            [
             0.1,
             "#c51b7d"
            ],
            [
             0.2,
             "#de77ae"
            ],
            [
             0.3,
             "#f1b6da"
            ],
            [
             0.4,
             "#fde0ef"
            ],
            [
             0.5,
             "#f7f7f7"
            ],
            [
             0.6,
             "#e6f5d0"
            ],
            [
             0.7,
             "#b8e186"
            ],
            [
             0.8,
             "#7fbc41"
            ],
            [
             0.9,
             "#4d9221"
            ],
            [
             1,
             "#276419"
            ]
           ],
           "sequential": [
            [
             0,
             "#0d0887"
            ],
            [
             0.1111111111111111,
             "#46039f"
            ],
            [
             0.2222222222222222,
             "#7201a8"
            ],
            [
             0.3333333333333333,
             "#9c179e"
            ],
            [
             0.4444444444444444,
             "#bd3786"
            ],
            [
             0.5555555555555556,
             "#d8576b"
            ],
            [
             0.6666666666666666,
             "#ed7953"
            ],
            [
             0.7777777777777778,
             "#fb9f3a"
            ],
            [
             0.8888888888888888,
             "#fdca26"
            ],
            [
             1,
             "#f0f921"
            ]
           ],
           "sequentialminus": [
            [
             0,
             "#0d0887"
            ],
            [
             0.1111111111111111,
             "#46039f"
            ],
            [
             0.2222222222222222,
             "#7201a8"
            ],
            [
             0.3333333333333333,
             "#9c179e"
            ],
            [
             0.4444444444444444,
             "#bd3786"
            ],
            [
             0.5555555555555556,
             "#d8576b"
            ],
            [
             0.6666666666666666,
             "#ed7953"
            ],
            [
             0.7777777777777778,
             "#fb9f3a"
            ],
            [
             0.8888888888888888,
             "#fdca26"
            ],
            [
             1,
             "#f0f921"
            ]
           ]
          },
          "colorway": [
           "#636efa",
           "#EF553B",
           "#00cc96",
           "#ab63fa",
           "#FFA15A",
           "#19d3f3",
           "#FF6692",
           "#B6E880",
           "#FF97FF",
           "#FECB52"
          ],
          "font": {
           "color": "#2a3f5f"
          },
          "geo": {
           "bgcolor": "white",
           "lakecolor": "white",
           "landcolor": "#E5ECF6",
           "showlakes": true,
           "showland": true,
           "subunitcolor": "white"
          },
          "hoverlabel": {
           "align": "left"
          },
          "hovermode": "closest",
          "mapbox": {
           "style": "light"
          },
          "paper_bgcolor": "white",
          "plot_bgcolor": "#E5ECF6",
          "polar": {
           "angularaxis": {
            "gridcolor": "white",
            "linecolor": "white",
            "ticks": ""
           },
           "bgcolor": "#E5ECF6",
           "radialaxis": {
            "gridcolor": "white",
            "linecolor": "white",
            "ticks": ""
           }
          },
          "scene": {
           "xaxis": {
            "backgroundcolor": "#E5ECF6",
            "gridcolor": "white",
            "gridwidth": 2,
            "linecolor": "white",
            "showbackground": true,
            "ticks": "",
            "zerolinecolor": "white"
           },
           "yaxis": {
            "backgroundcolor": "#E5ECF6",
            "gridcolor": "white",
            "gridwidth": 2,
            "linecolor": "white",
            "showbackground": true,
            "ticks": "",
            "zerolinecolor": "white"
           },
           "zaxis": {
            "backgroundcolor": "#E5ECF6",
            "gridcolor": "white",
            "gridwidth": 2,
            "linecolor": "white",
            "showbackground": true,
            "ticks": "",
            "zerolinecolor": "white"
           }
          },
          "shapedefaults": {
           "line": {
            "color": "#2a3f5f"
           }
          },
          "ternary": {
           "aaxis": {
            "gridcolor": "white",
            "linecolor": "white",
            "ticks": ""
           },
           "baxis": {
            "gridcolor": "white",
            "linecolor": "white",
            "ticks": ""
           },
           "bgcolor": "#E5ECF6",
           "caxis": {
            "gridcolor": "white",
            "linecolor": "white",
            "ticks": ""
           }
          },
          "title": {
           "x": 0.05
          },
          "xaxis": {
           "automargin": true,
           "gridcolor": "white",
           "linecolor": "white",
           "ticks": "",
           "title": {
            "standoff": 15
           },
           "zerolinecolor": "white",
           "zerolinewidth": 2
          },
          "yaxis": {
           "automargin": true,
           "gridcolor": "white",
           "linecolor": "white",
           "ticks": "",
           "title": {
            "standoff": 15
           },
           "zerolinecolor": "white",
           "zerolinewidth": 2
          }
         }
        },
        "title": {
         "text": "Candidate Pass Rates: One Time vs Multiple Times",
         "x": 0.5,
         "xanchor": "center"
        },
        "xaxis": {
         "ticktext": [
          "Candidate Only Once",
          "Candidate Multiple Times"
         ],
         "tickvals": [
          "SING",
          "MULT"
         ],
         "title": {
          "text": "Times Candidate Participated"
         }
        },
        "yaxis": {
         "side": "left",
         "title": {
          "text": "Counts"
         }
        },
        "yaxis2": {
         "overlaying": "y",
         "range": [
          0,
          100
         ],
         "side": "right",
         "tickformat": ".0f%",
         "title": {
          "text": "Pass Rate (%)"
         }
        }
       }
      }
     },
     "metadata": {},
     "output_type": "display_data"
    }
   ],
   "source": [
    "df_g =sing_mult_stats.drop(['SING_PERC','MULT_PERC'],axis =1).transpose().reset_index().rename(columns={'index':'type', -1:'neg', 1:'pos'})\n",
    "df_g2 =sing_mult_stats.drop(['SING','MULT'],axis =1).transpose().reset_index().rename(columns={'index':'type', -1:'neg', 1:'pos'})\n",
    "df_g2\n",
    "\n",
    "\n",
    "fig = go.Figure(\n",
    "    data=[\n",
    "        go.Bar(x=df_g.type, y=df_g.neg, name=\"Losses\", text=df_g.neg, textposition='inside'),\n",
    "        go.Bar(x=df_g.type, y=df_g.pos, name=\"Wins\", text=df_g.pos, textposition=['inside','outside']),\n",
    "        go.Bar(x=df_g.type, y=df_g.Total, name=\"Total\", text=df_g.Total, textposition='inside'),\n",
    "    ],\n",
    "    layout=dict(\n",
    "        barcornerradius=15,\n",
    "    ),\n",
    ")\n",
    "\n",
    "# Overlay line graph for Pass Rate, centered on \"Wins\" bars\n",
    "fig.add_trace(\n",
    "    go.Scatter(\n",
    "        x=df_g.type,  # Use the same x values as the \"Wins\" bar\n",
    "        y=[pr * 100 for pr in df_g2[\"pos\"]],  # Convert pass rate to percentage\n",
    "        mode=\"lines+markers+text\",  # Line graph with markers and text\n",
    "        name=\"Pass Rate\",\n",
    "        text=[f\"{pr*100:.1f}%\" for pr in df_g2[\"pos\"]],  # Add pass rate as percentage text\n",
    "        textposition=\"top center\",\n",
    "        line=dict(color=\"red\", width=2),\n",
    "        marker=dict(color=\"red\", size=8),\n",
    "        yaxis=\"y2\",  # Associate this trace with the secondary y-axis\n",
    "    )\n",
    ")\n",
    "\n",
    "# Update layout to add secondary y-axis\n",
    "fig.update_layout(\n",
    "    title=dict(\n",
    "        text=\"Candidate Pass Rates: One Time vs Multiple Times\",  # Chart title\n",
    "        x=0.5,  # Center the title\n",
    "        xanchor=\"center\",  # Anchor the title at the center\n",
    "    ),\n",
    "    xaxis=dict(\n",
    "        title=\"Times Candidate Participated\",\n",
    "        tickvals=[\"SING\", \"MULT\"],  # Define custom labels\n",
    "        ticktext=[\"Candidate Only Once\", \"Candidate Multiple Times\"],\n",
    "    ),\n",
    "    yaxis=dict(title=\"Counts\", side=\"left\"),\n",
    "    yaxis2=dict(\n",
    "        title=\"Pass Rate (%)\",\n",
    "        overlaying=\"y\",\n",
    "        side=\"right\",\n",
    "        range=[0, 100],\n",
    "        tickformat=\".0f%\",\n",
    "    ),\n",
    "    barmode=\"group\",\n",
    "    legend=dict(\n",
    "        title=\"Legend\",\n",
    "        x=1.15,\n",
    "        y=0.6,\n",
    "        xanchor=\"right\",\n",
    "        yanchor=\"middle\",\n",
    "    ),\n",
    ")\n",
    "\n",
    "pio.write_html(fig, file=\"Plots/pass_rates_once_v_multiple.html\", auto_open=False)\n",
    "\n",
    "\n",
    "fig.show()\n"
   ]
  },
  {
   "cell_type": "markdown",
   "metadata": {},
   "source": [
    "## Graph 2: Election Statistics over time"
   ]
  },
  {
   "cell_type": "code",
   "execution_count": null,
   "metadata": {},
   "outputs": [
    {
     "data": {
      "application/vnd.plotly.v1+json": {
       "config": {
        "plotlyServerURL": "https://plot.ly"
       },
       "data": [
        {
         "name": "LOSS",
         "text": [
          0,
          58,
          185,
          472,
          443,
          332,
          209,
          141,
          83,
          65,
          16
         ],
         "textfont": {
          "color": "white"
         },
         "textposition": "inside",
         "type": "bar",
         "x": [
          2003,
          2004,
          2005,
          2006,
          2007,
          2008,
          2009,
          2010,
          2011,
          2012,
          2013
         ],
         "y": [
          0,
          58,
          185,
          472,
          443,
          332,
          209,
          141,
          83,
          65,
          16
         ]
        },
        {
         "name": "WIN",
         "text": [
          58,
          236,
          380,
          347,
          406,
          201,
          120,
          75,
          52,
          28,
          19
         ],
         "textfont": {
          "color": "white"
         },
         "textposition": [
          "inside",
          "outside"
         ],
         "type": "bar",
         "x": [
          2003,
          2004,
          2005,
          2006,
          2007,
          2008,
          2009,
          2010,
          2011,
          2012,
          2013
         ],
         "y": [
          58,
          236,
          380,
          347,
          406,
          201,
          120,
          75,
          52,
          28,
          19
         ]
        },
        {
         "name": "Total",
         "text": [
          58,
          294,
          565,
          819,
          849,
          533,
          329,
          216,
          135,
          93,
          35
         ],
         "textfont": {
          "color": "white"
         },
         "textposition": "inside",
         "type": "bar",
         "x": [
          2003,
          2004,
          2005,
          2006,
          2007,
          2008,
          2009,
          2010,
          2011,
          2012,
          2013
         ],
         "y": [
          58,
          294,
          565,
          819,
          849,
          533,
          329,
          216,
          135,
          93,
          35
         ]
        },
        {
         "line": {
          "color": "red",
          "width": 2
         },
         "marker": {
          "color": "red",
          "size": 8
         },
         "mode": "lines+markers+text",
         "name": "Pass Rate",
         "text": [
          "100.0%",
          "80.3%",
          "67.3%",
          "42.4%",
          "47.8%",
          "37.7%",
          "36.5%",
          "34.7%",
          "38.5%",
          "30.1%",
          "54.3%"
         ],
         "textposition": [
          "bottom center",
          "top center",
          "top center",
          "top center",
          "top center",
          "top center",
          "top center",
          "top center",
          "top center",
          "top center",
          "top center"
         ],
         "type": "scatter",
         "x": [
          2003,
          2004,
          2005,
          2006,
          2007,
          2008,
          2009,
          2010,
          2011,
          2012,
          2013
         ],
         "y": [
          100,
          80.27210884353741,
          67.2566371681416,
          42.36874236874237,
          47.820965842167254,
          37.71106941838649,
          36.474164133738604,
          34.72222222222222,
          38.51851851851852,
          30.107526881720432,
          54.285714285714285
         ],
         "yaxis": "y2"
        }
       ],
       "layout": {
        "barcornerradius": 15,
        "barmode": "group",
        "legend": {
         "title": {
          "text": "Legend"
         },
         "x": 1.15,
         "xanchor": "right",
         "y": 0.6,
         "yanchor": "middle"
        },
        "template": {
         "data": {
          "bar": [
           {
            "error_x": {
             "color": "#2a3f5f"
            },
            "error_y": {
             "color": "#2a3f5f"
            },
            "marker": {
             "line": {
              "color": "#E5ECF6",
              "width": 0.5
             },
             "pattern": {
              "fillmode": "overlay",
              "size": 10,
              "solidity": 0.2
             }
            },
            "type": "bar"
           }
          ],
          "barpolar": [
           {
            "marker": {
             "line": {
              "color": "#E5ECF6",
              "width": 0.5
             },
             "pattern": {
              "fillmode": "overlay",
              "size": 10,
              "solidity": 0.2
             }
            },
            "type": "barpolar"
           }
          ],
          "carpet": [
           {
            "aaxis": {
             "endlinecolor": "#2a3f5f",
             "gridcolor": "white",
             "linecolor": "white",
             "minorgridcolor": "white",
             "startlinecolor": "#2a3f5f"
            },
            "baxis": {
             "endlinecolor": "#2a3f5f",
             "gridcolor": "white",
             "linecolor": "white",
             "minorgridcolor": "white",
             "startlinecolor": "#2a3f5f"
            },
            "type": "carpet"
           }
          ],
          "choropleth": [
           {
            "colorbar": {
             "outlinewidth": 0,
             "ticks": ""
            },
            "type": "choropleth"
           }
          ],
          "contour": [
           {
            "colorbar": {
             "outlinewidth": 0,
             "ticks": ""
            },
            "colorscale": [
             [
              0,
              "#0d0887"
             ],
             [
              0.1111111111111111,
              "#46039f"
             ],
             [
              0.2222222222222222,
              "#7201a8"
             ],
             [
              0.3333333333333333,
              "#9c179e"
             ],
             [
              0.4444444444444444,
              "#bd3786"
             ],
             [
              0.5555555555555556,
              "#d8576b"
             ],
             [
              0.6666666666666666,
              "#ed7953"
             ],
             [
              0.7777777777777778,
              "#fb9f3a"
             ],
             [
              0.8888888888888888,
              "#fdca26"
             ],
             [
              1,
              "#f0f921"
             ]
            ],
            "type": "contour"
           }
          ],
          "contourcarpet": [
           {
            "colorbar": {
             "outlinewidth": 0,
             "ticks": ""
            },
            "type": "contourcarpet"
           }
          ],
          "heatmap": [
           {
            "colorbar": {
             "outlinewidth": 0,
             "ticks": ""
            },
            "colorscale": [
             [
              0,
              "#0d0887"
             ],
             [
              0.1111111111111111,
              "#46039f"
             ],
             [
              0.2222222222222222,
              "#7201a8"
             ],
             [
              0.3333333333333333,
              "#9c179e"
             ],
             [
              0.4444444444444444,
              "#bd3786"
             ],
             [
              0.5555555555555556,
              "#d8576b"
             ],
             [
              0.6666666666666666,
              "#ed7953"
             ],
             [
              0.7777777777777778,
              "#fb9f3a"
             ],
             [
              0.8888888888888888,
              "#fdca26"
             ],
             [
              1,
              "#f0f921"
             ]
            ],
            "type": "heatmap"
           }
          ],
          "heatmapgl": [
           {
            "colorbar": {
             "outlinewidth": 0,
             "ticks": ""
            },
            "colorscale": [
             [
              0,
              "#0d0887"
             ],
             [
              0.1111111111111111,
              "#46039f"
             ],
             [
              0.2222222222222222,
              "#7201a8"
             ],
             [
              0.3333333333333333,
              "#9c179e"
             ],
             [
              0.4444444444444444,
              "#bd3786"
             ],
             [
              0.5555555555555556,
              "#d8576b"
             ],
             [
              0.6666666666666666,
              "#ed7953"
             ],
             [
              0.7777777777777778,
              "#fb9f3a"
             ],
             [
              0.8888888888888888,
              "#fdca26"
             ],
             [
              1,
              "#f0f921"
             ]
            ],
            "type": "heatmapgl"
           }
          ],
          "histogram": [
           {
            "marker": {
             "pattern": {
              "fillmode": "overlay",
              "size": 10,
              "solidity": 0.2
             }
            },
            "type": "histogram"
           }
          ],
          "histogram2d": [
           {
            "colorbar": {
             "outlinewidth": 0,
             "ticks": ""
            },
            "colorscale": [
             [
              0,
              "#0d0887"
             ],
             [
              0.1111111111111111,
              "#46039f"
             ],
             [
              0.2222222222222222,
              "#7201a8"
             ],
             [
              0.3333333333333333,
              "#9c179e"
             ],
             [
              0.4444444444444444,
              "#bd3786"
             ],
             [
              0.5555555555555556,
              "#d8576b"
             ],
             [
              0.6666666666666666,
              "#ed7953"
             ],
             [
              0.7777777777777778,
              "#fb9f3a"
             ],
             [
              0.8888888888888888,
              "#fdca26"
             ],
             [
              1,
              "#f0f921"
             ]
            ],
            "type": "histogram2d"
           }
          ],
          "histogram2dcontour": [
           {
            "colorbar": {
             "outlinewidth": 0,
             "ticks": ""
            },
            "colorscale": [
             [
              0,
              "#0d0887"
             ],
             [
              0.1111111111111111,
              "#46039f"
             ],
             [
              0.2222222222222222,
              "#7201a8"
             ],
             [
              0.3333333333333333,
              "#9c179e"
             ],
             [
              0.4444444444444444,
              "#bd3786"
             ],
             [
              0.5555555555555556,
              "#d8576b"
             ],
             [
              0.6666666666666666,
              "#ed7953"
             ],
             [
              0.7777777777777778,
              "#fb9f3a"
             ],
             [
              0.8888888888888888,
              "#fdca26"
             ],
             [
              1,
              "#f0f921"
             ]
            ],
            "type": "histogram2dcontour"
           }
          ],
          "mesh3d": [
           {
            "colorbar": {
             "outlinewidth": 0,
             "ticks": ""
            },
            "type": "mesh3d"
           }
          ],
          "parcoords": [
           {
            "line": {
             "colorbar": {
              "outlinewidth": 0,
              "ticks": ""
             }
            },
            "type": "parcoords"
           }
          ],
          "pie": [
           {
            "automargin": true,
            "type": "pie"
           }
          ],
          "scatter": [
           {
            "fillpattern": {
             "fillmode": "overlay",
             "size": 10,
             "solidity": 0.2
            },
            "type": "scatter"
           }
          ],
          "scatter3d": [
           {
            "line": {
             "colorbar": {
              "outlinewidth": 0,
              "ticks": ""
             }
            },
            "marker": {
             "colorbar": {
              "outlinewidth": 0,
              "ticks": ""
             }
            },
            "type": "scatter3d"
           }
          ],
          "scattercarpet": [
           {
            "marker": {
             "colorbar": {
              "outlinewidth": 0,
              "ticks": ""
             }
            },
            "type": "scattercarpet"
           }
          ],
          "scattergeo": [
           {
            "marker": {
             "colorbar": {
              "outlinewidth": 0,
              "ticks": ""
             }
            },
            "type": "scattergeo"
           }
          ],
          "scattergl": [
           {
            "marker": {
             "colorbar": {
              "outlinewidth": 0,
              "ticks": ""
             }
            },
            "type": "scattergl"
           }
          ],
          "scattermapbox": [
           {
            "marker": {
             "colorbar": {
              "outlinewidth": 0,
              "ticks": ""
             }
            },
            "type": "scattermapbox"
           }
          ],
          "scatterpolar": [
           {
            "marker": {
             "colorbar": {
              "outlinewidth": 0,
              "ticks": ""
             }
            },
            "type": "scatterpolar"
           }
          ],
          "scatterpolargl": [
           {
            "marker": {
             "colorbar": {
              "outlinewidth": 0,
              "ticks": ""
             }
            },
            "type": "scatterpolargl"
           }
          ],
          "scatterternary": [
           {
            "marker": {
             "colorbar": {
              "outlinewidth": 0,
              "ticks": ""
             }
            },
            "type": "scatterternary"
           }
          ],
          "surface": [
           {
            "colorbar": {
             "outlinewidth": 0,
             "ticks": ""
            },
            "colorscale": [
             [
              0,
              "#0d0887"
             ],
             [
              0.1111111111111111,
              "#46039f"
             ],
             [
              0.2222222222222222,
              "#7201a8"
             ],
             [
              0.3333333333333333,
              "#9c179e"
             ],
             [
              0.4444444444444444,
              "#bd3786"
             ],
             [
              0.5555555555555556,
              "#d8576b"
             ],
             [
              0.6666666666666666,
              "#ed7953"
             ],
             [
              0.7777777777777778,
              "#fb9f3a"
             ],
             [
              0.8888888888888888,
              "#fdca26"
             ],
             [
              1,
              "#f0f921"
             ]
            ],
            "type": "surface"
           }
          ],
          "table": [
           {
            "cells": {
             "fill": {
              "color": "#EBF0F8"
             },
             "line": {
              "color": "white"
             }
            },
            "header": {
             "fill": {
              "color": "#C8D4E3"
             },
             "line": {
              "color": "white"
             }
            },
            "type": "table"
           }
          ]
         },
         "layout": {
          "annotationdefaults": {
           "arrowcolor": "#2a3f5f",
           "arrowhead": 0,
           "arrowwidth": 1
          },
          "autotypenumbers": "strict",
          "coloraxis": {
           "colorbar": {
            "outlinewidth": 0,
            "ticks": ""
           }
          },
          "colorscale": {
           "diverging": [
            [
             0,
             "#8e0152"
            ],
            [
             0.1,
             "#c51b7d"
            ],
            [
             0.2,
             "#de77ae"
            ],
            [
             0.3,
             "#f1b6da"
            ],
            [
             0.4,
             "#fde0ef"
            ],
            [
             0.5,
             "#f7f7f7"
            ],
            [
             0.6,
             "#e6f5d0"
            ],
            [
             0.7,
             "#b8e186"
            ],
            [
             0.8,
             "#7fbc41"
            ],
            [
             0.9,
             "#4d9221"
            ],
            [
             1,
             "#276419"
            ]
           ],
           "sequential": [
            [
             0,
             "#0d0887"
            ],
            [
             0.1111111111111111,
             "#46039f"
            ],
            [
             0.2222222222222222,
             "#7201a8"
            ],
            [
             0.3333333333333333,
             "#9c179e"
            ],
            [
             0.4444444444444444,
             "#bd3786"
            ],
            [
             0.5555555555555556,
             "#d8576b"
            ],
            [
             0.6666666666666666,
             "#ed7953"
            ],
            [
             0.7777777777777778,
             "#fb9f3a"
            ],
            [
             0.8888888888888888,
             "#fdca26"
            ],
            [
             1,
             "#f0f921"
            ]
           ],
           "sequentialminus": [
            [
             0,
             "#0d0887"
            ],
            [
             0.1111111111111111,
             "#46039f"
            ],
            [
             0.2222222222222222,
             "#7201a8"
            ],
            [
             0.3333333333333333,
             "#9c179e"
            ],
            [
             0.4444444444444444,
             "#bd3786"
            ],
            [
             0.5555555555555556,
             "#d8576b"
            ],
            [
             0.6666666666666666,
             "#ed7953"
            ],
            [
             0.7777777777777778,
             "#fb9f3a"
            ],
            [
             0.8888888888888888,
             "#fdca26"
            ],
            [
             1,
             "#f0f921"
            ]
           ]
          },
          "colorway": [
           "#636efa",
           "#EF553B",
           "#00cc96",
           "#ab63fa",
           "#FFA15A",
           "#19d3f3",
           "#FF6692",
           "#B6E880",
           "#FF97FF",
           "#FECB52"
          ],
          "font": {
           "color": "#2a3f5f"
          },
          "geo": {
           "bgcolor": "white",
           "lakecolor": "white",
           "landcolor": "#E5ECF6",
           "showlakes": true,
           "showland": true,
           "subunitcolor": "white"
          },
          "hoverlabel": {
           "align": "left"
          },
          "hovermode": "closest",
          "mapbox": {
           "style": "light"
          },
          "paper_bgcolor": "white",
          "plot_bgcolor": "#E5ECF6",
          "polar": {
           "angularaxis": {
            "gridcolor": "white",
            "linecolor": "white",
            "ticks": ""
           },
           "bgcolor": "#E5ECF6",
           "radialaxis": {
            "gridcolor": "white",
            "linecolor": "white",
            "ticks": ""
           }
          },
          "scene": {
           "xaxis": {
            "backgroundcolor": "#E5ECF6",
            "gridcolor": "white",
            "gridwidth": 2,
            "linecolor": "white",
            "showbackground": true,
            "ticks": "",
            "zerolinecolor": "white"
           },
           "yaxis": {
            "backgroundcolor": "#E5ECF6",
            "gridcolor": "white",
            "gridwidth": 2,
            "linecolor": "white",
            "showbackground": true,
            "ticks": "",
            "zerolinecolor": "white"
           },
           "zaxis": {
            "backgroundcolor": "#E5ECF6",
            "gridcolor": "white",
            "gridwidth": 2,
            "linecolor": "white",
            "showbackground": true,
            "ticks": "",
            "zerolinecolor": "white"
           }
          },
          "shapedefaults": {
           "line": {
            "color": "#2a3f5f"
           }
          },
          "ternary": {
           "aaxis": {
            "gridcolor": "white",
            "linecolor": "white",
            "ticks": ""
           },
           "baxis": {
            "gridcolor": "white",
            "linecolor": "white",
            "ticks": ""
           },
           "bgcolor": "#E5ECF6",
           "caxis": {
            "gridcolor": "white",
            "linecolor": "white",
            "ticks": ""
           }
          },
          "title": {
           "x": 0.05
          },
          "xaxis": {
           "automargin": true,
           "gridcolor": "white",
           "linecolor": "white",
           "ticks": "",
           "title": {
            "standoff": 15
           },
           "zerolinecolor": "white",
           "zerolinewidth": 2
          },
          "yaxis": {
           "automargin": true,
           "gridcolor": "white",
           "linecolor": "white",
           "ticks": "",
           "title": {
            "standoff": 15
           },
           "zerolinecolor": "white",
           "zerolinewidth": 2
          }
         }
        },
        "title": {
         "text": "Elections and Win Rates Across The Years",
         "x": 0.5,
         "xanchor": "center"
        },
        "xaxis": {
         "tickvals": [
          2003,
          2004,
          2005,
          2006,
          2007,
          2008,
          2009,
          2010,
          2011,
          2012,
          2013
         ],
         "title": {
          "text": "Year"
         }
        },
        "yaxis": {
         "side": "left",
         "title": {
          "text": "Counts"
         }
        },
        "yaxis2": {
         "overlaying": "y",
         "range": [
          0,
          100
         ],
         "side": "right",
         "tickformat": ".0f%",
         "title": {
          "text": "Pass Rate (%)"
         }
        }
       }
      }
     },
     "metadata": {},
     "output_type": "display_data"
    }
   ],
   "source": [
    "df_g = passrate_by_year.drop(['WIN_PERC','LOSS_PERC'],axis =1)\n",
    "df_g['TOTAL'] = df_g.sum(axis=1)\n",
    "df_g = df_g.reset_index()\n",
    "\n",
    "df_g2 = passrate_by_year.drop(['WIN','LOSS'],axis =1).reset_index().rename(columns={'index':'type'})\n",
    "\n",
    "fig = go.Figure(\n",
    "    data=[\n",
    "        go.Bar(x=df_g.YEA, y=df_g.LOSS, name=\"LOSS\", text=df_g.LOSS, textposition='inside'),\n",
    "        go.Bar(x=df_g.YEA, y=df_g.WIN, name=\"WIN\", text=df_g.WIN, textposition=['inside','outside']),\n",
    "        go.Bar(x=df_g.YEA, y=df_g.TOTAL, name=\"Total\", text=df_g.TOTAL, textposition='inside'),\n",
    "    ],\n",
    "    layout=dict(\n",
    "        barcornerradius=15,\n",
    "    ),\n",
    ")\n",
    "\n",
    "fig.update_traces(\n",
    "    textfont=dict(color=\"white\"),  # Set text color to white\n",
    "    selector=dict(type=\"bar\")  # Apply only to bar traces\n",
    ")\n",
    "\n",
    "# Overlay line graph for Pass Rate, centered on \"Wins\" bars\n",
    "fig.add_trace(\n",
    "    go.Scatter(\n",
    "        x=df_g.YEA,  # Use the same x values as the \"Wins\" bar\n",
    "        y=[pr * 100 for pr in df_g2[\"WIN_PERC\"]],  # Convert pass rate to percentage\n",
    "        mode=\"lines+markers+text\",  # Line graph with markers and text\n",
    "        name=\"Pass Rate\",\n",
    "        text=[f\"{pr*100:.1f}%\" for pr in df_g2[\"WIN_PERC\"]],  # Add pass rate as percentage text\n",
    "        textposition=['bottom center',\"top center\",\"top center\",\"top center\",\"top center\",\"top center\",\"top center\",\"top center\",\"top center\",\"top center\",\"top center\"],\n",
    "        line=dict(color=\"red\", width=2),\n",
    "        marker=dict(color=\"red\", size=8),\n",
    "        yaxis=\"y2\",  # Associate this trace with the secondary y-axis\n",
    "    )\n",
    ")\n",
    "\n",
    "# Update layout to add secondary y-axis\n",
    "fig.update_layout(\n",
    "    title=dict(\n",
    "        text=\"Elections and Win Rates Across The Years\",  # Chart title\n",
    "        x=0.5,  # Center the title\n",
    "        xanchor=\"center\",  # Anchor the title at the center\n",
    "    ),\n",
    "    xaxis=dict(\n",
    "        title=\"Year\",\n",
    "        tickvals=df_g.YEA,\n",
    "        \n",
    "    ),\n",
    "    yaxis=dict(title=\"Counts\", side=\"left\"),\n",
    "    yaxis2=dict(\n",
    "        title=\"Pass Rate (%)\",\n",
    "        overlaying=\"y\",\n",
    "        side=\"right\",\n",
    "        range=[0, 100],\n",
    "        tickformat=\".0f%\",\n",
    "    ),\n",
    "    barmode=\"group\",\n",
    "    legend=dict(\n",
    "        title=\"Legend\",\n",
    "        x=1.15,\n",
    "        y=0.6,\n",
    "        xanchor=\"right\",\n",
    "        yanchor=\"middle\",\n",
    "    ),\n",
    ")\n",
    "\n",
    "\n",
    "pio.write_html(fig, file=\"Plots/Evolution_of_Pass_Rates_and_votes.html\", auto_open=False)\n",
    "\n",
    "fig.show()\n"
   ]
  },
  {
   "cell_type": "markdown",
   "metadata": {},
   "source": [
    "## Graph 3: Vote Distribution by election outcome over time"
   ]
  },
  {
   "cell_type": "code",
   "execution_count": 596,
   "metadata": {},
   "outputs": [
    {
     "data": {
      "application/vnd.plotly.v1+json": {
       "config": {
        "plotlyServerURL": "https://plot.ly"
       },
       "data": [
        {
         "marker": {
          "color": "rgba(255, 165, 0, 0.8)"
         },
         "name": "Win",
         "opacity": 0.8,
         "showlegend": false,
         "type": "histogram",
         "x": [
          3,
          7,
          9,
          5,
          4,
          1,
          6,
          11,
          2,
          10
         ],
         "xaxis": "x",
         "yaxis": "y"
        },
        {
         "marker": {
          "color": "rgba(135, 206, 250, 0.8)"
         },
         "name": "Loss",
         "opacity": 0.8,
         "showlegend": false,
         "type": "histogram",
         "x": [],
         "xaxis": "x",
         "yaxis": "y"
        },
        {
         "marker": {
          "color": "rgba(0, 255, 127, 0.8)"
         },
         "name": "Win",
         "opacity": 0.8,
         "showlegend": false,
         "type": "histogram",
         "x": [
          18,
          27,
          17,
          20,
          19,
          23,
          21,
          24,
          28,
          16,
          40,
          31,
          30,
          22,
          13,
          26,
          11,
          15,
          29,
          38,
          14,
          37,
          36,
          34,
          25,
          12,
          47,
          82,
          39,
          74,
          35,
          67,
          33,
          32,
          63,
          56,
          50,
          48,
          46,
          42,
          41,
          8,
          10,
          5,
          7,
          6,
          9,
          4,
          3,
          2
         ],
         "xaxis": "x2",
         "yaxis": "y2"
        },
        {
         "marker": {
          "color": "rgba(147, 112, 219, 0.8)"
         },
         "name": "Loss",
         "opacity": 0.8,
         "showlegend": false,
         "type": "histogram",
         "x": [
          58,
          26,
          31,
          92,
          30,
          83,
          28,
          18,
          53,
          51,
          25,
          16,
          24,
          47,
          21,
          13,
          19,
          38,
          37,
          34,
          11,
          33,
          15,
          27,
          12,
          20,
          17,
          7,
          5,
          10,
          4,
          3,
          2
         ],
         "xaxis": "x2",
         "yaxis": "y2"
        },
        {
         "marker": {
          "color": "rgba(255, 105, 180, 0.8)"
         },
         "name": "Win",
         "opacity": 0.8,
         "showlegend": false,
         "type": "histogram",
         "x": [
          50,
          30,
          40,
          60,
          57,
          26,
          48,
          31,
          74,
          61,
          28,
          38,
          33,
          46,
          35,
          34,
          32,
          36,
          47,
          24,
          29,
          43,
          58,
          45,
          56,
          112,
          55,
          54,
          72,
          67,
          100,
          39,
          97,
          37,
          185,
          22,
          88,
          25,
          21,
          42,
          82,
          18,
          27,
          23,
          53,
          52,
          78,
          20,
          44,
          65,
          64,
          63,
          126,
          62,
          41,
          59,
          19,
          104,
          17,
          99,
          49,
          94,
          92,
          85,
          84,
          80,
          77,
          75,
          73,
          70,
          69,
          66,
          13,
          16,
          15,
          14,
          51,
          12,
          2
         ],
         "xaxis": "x3",
         "yaxis": "y3"
        },
        {
         "marker": {
          "color": "rgba(173, 255, 47, 0.8)"
         },
         "name": "Loss",
         "opacity": 0.8,
         "showlegend": false,
         "type": "histogram",
         "x": [
          20,
          12,
          19,
          73,
          13,
          28,
          69,
          68,
          134,
          133,
          18,
          24,
          117,
          14,
          22,
          54,
          101,
          25,
          99,
          32,
          96,
          31,
          30,
          44,
          43,
          21,
          42,
          83,
          82,
          9,
          26,
          39,
          77,
          74,
          36,
          71,
          23,
          17,
          67,
          16,
          61,
          60,
          55,
          27,
          53,
          48,
          46,
          11,
          41,
          8,
          40,
          38,
          37,
          33,
          5,
          10,
          15,
          7,
          6,
          3,
          4,
          1,
          2
         ],
         "xaxis": "x3",
         "yaxis": "y3"
        },
        {
         "marker": {
          "color": "rgba(255, 165, 0, 0.8)"
         },
         "name": "Win",
         "opacity": 0.8,
         "showlegend": false,
         "type": "histogram",
         "x": [
          73,
          78,
          87,
          95,
          68,
          72,
          55,
          70,
          81,
          79,
          59,
          67,
          76,
          89,
          62,
          61,
          53,
          83,
          58,
          66,
          99,
          56,
          64,
          96,
          75,
          74,
          121,
          69,
          48,
          82,
          109,
          54,
          320,
          63,
          60,
          149,
          143,
          57,
          71,
          142,
          282,
          90,
          263,
          51,
          49,
          80,
          118,
          46,
          115,
          228,
          111,
          107,
          106,
          212,
          105,
          104,
          101,
          65,
          97,
          194,
          92,
          88,
          175,
          174,
          85,
          84,
          165,
          162,
          40,
          160,
          157,
          156,
          50,
          150,
          147,
          145,
          47,
          140,
          135,
          128,
          127,
          126,
          124,
          120,
          116,
          114,
          110,
          108,
          52,
          103,
          102,
          100,
          33,
          98,
          93,
          91,
          45,
          44,
          86,
          39,
          77,
          29,
          27,
          43,
          42,
          41,
          38,
          37,
          35,
          34,
          14,
          12,
          4,
          1
         ],
         "xaxis": "x4",
         "yaxis": "y4"
        },
        {
         "marker": {
          "color": "rgba(135, 206, 250, 0.8)"
         },
         "name": "Loss",
         "opacity": 0.8,
         "showlegend": false,
         "type": "histogram",
         "x": [
          69,
          59,
          122,
          56,
          325,
          162,
          43,
          20,
          287,
          71,
          55,
          21,
          273,
          68,
          44,
          126,
          250,
          82,
          81,
          46,
          57,
          36,
          72,
          107,
          52,
          17,
          40,
          50,
          99,
          197,
          28,
          98,
          39,
          48,
          191,
          38,
          47,
          37,
          92,
          13,
          181,
          29,
          174,
          173,
          34,
          170,
          168,
          41,
          53,
          158,
          78,
          14,
          77,
          151,
          25,
          75,
          49,
          73,
          18,
          70,
          138,
          15,
          27,
          45,
          67,
          131,
          26,
          64,
          42,
          125,
          61,
          11,
          24,
          30,
          60,
          120,
          117,
          58,
          116,
          23,
          19,
          113,
          16,
          22,
          110,
          109,
          108,
          8,
          51,
          100,
          7,
          97,
          96,
          94,
          93,
          10,
          86,
          12,
          84,
          83,
          9,
          35,
          33,
          66,
          63,
          31,
          62,
          4,
          5,
          3,
          6,
          32,
          2,
          1
         ],
         "xaxis": "x4",
         "yaxis": "y4"
        },
        {
         "marker": {
          "color": "rgba(0, 255, 127, 0.8)"
         },
         "name": "Win",
         "opacity": 0.8,
         "showlegend": false,
         "type": "histogram",
         "x": [
          54,
          80,
          52,
          58,
          48,
          63,
          67,
          74,
          47,
          83,
          71,
          62,
          82,
          60,
          59,
          51,
          65,
          40,
          55,
          69,
          45,
          50,
          49,
          97,
          93,
          44,
          57,
          56,
          66,
          110,
          64,
          78,
          77,
          61,
          38,
          99,
          46,
          92,
          89,
          88,
          43,
          86,
          85,
          84,
          242,
          120,
          118,
          39,
          76,
          227,
          113,
          73,
          36,
          72,
          102,
          100,
          98,
          96,
          95,
          190,
          94,
          187,
          91,
          181,
          90,
          179,
          35,
          34,
          168,
          164,
          81,
          30,
          75,
          147,
          70,
          137,
          68,
          132,
          130,
          129,
          32,
          128,
          42,
          41,
          121,
          114,
          109,
          108,
          53,
          106,
          101,
          87,
          79,
          33,
          28,
          22,
          29,
          27,
          25,
          20,
          8,
          2
         ],
         "xaxis": "x5",
         "yaxis": "y5"
        },
        {
         "marker": {
          "color": "rgba(147, 112, 219, 0.8)"
         },
         "name": "Loss",
         "opacity": 0.8,
         "showlegend": false,
         "type": "histogram",
         "x": [
          276,
          63,
          68,
          48,
          167,
          106,
          96,
          282,
          38,
          133,
          64,
          82,
          242,
          40,
          239,
          34,
          235,
          13,
          212,
          12,
          197,
          49,
          47,
          188,
          11,
          183,
          89,
          44,
          174,
          53,
          156,
          7,
          154,
          51,
          152,
          25,
          50,
          150,
          8,
          16,
          71,
          10,
          139,
          6,
          137,
          9,
          45,
          66,
          32,
          128,
          14,
          18,
          41,
          59,
          39,
          29,
          23,
          57,
          28,
          37,
          111,
          55,
          109,
          36,
          35,
          105,
          103,
          20,
          99,
          98,
          95,
          94,
          92,
          87,
          5,
          17,
          85,
          21,
          84,
          83,
          81,
          79,
          77,
          19,
          76,
          15,
          74,
          73,
          69,
          67,
          33,
          65,
          62,
          58,
          4,
          56,
          26,
          52,
          3,
          24,
          46,
          43,
          42,
          31,
          30,
          27,
          22,
          2,
          1
         ],
         "xaxis": "x5",
         "yaxis": "y5"
        },
        {
         "marker": {
          "color": "rgba(255, 105, 180, 0.8)"
         },
         "name": "Win",
         "opacity": 0.8,
         "showlegend": false,
         "type": "histogram",
         "x": [
          91,
          90,
          100,
          97,
          128,
          126,
          93,
          92,
          61,
          86,
          80,
          155,
          77,
          154,
          76,
          147,
          96,
          67,
          89,
          88,
          87,
          64,
          82,
          121,
          60,
          79,
          56,
          74,
          55,
          216,
          207,
          206,
          102,
          65,
          194,
          189,
          94,
          62,
          85,
          83,
          164,
          163,
          159,
          78,
          151,
          50,
          75,
          150,
          73,
          146,
          72,
          47,
          138,
          68,
          133,
          63,
          125,
          123,
          118,
          116,
          115,
          57,
          114,
          113,
          111,
          110,
          109,
          108,
          107,
          53,
          106,
          105,
          104,
          103,
          101,
          99,
          98,
          95,
          45,
          43,
          42,
          84,
          81,
          38,
          36,
          71,
          70,
          69,
          34,
          66,
          58,
          52,
          51,
          46,
          44,
          41,
          40,
          39,
          37,
          32,
          27
         ],
         "xaxis": "x6",
         "yaxis": "y6"
        },
        {
         "marker": {
          "color": "rgba(173, 255, 47, 0.8)"
         },
         "name": "Loss",
         "opacity": 0.8,
         "showlegend": false,
         "type": "histogram",
         "x": [
          561,
          111,
          79,
          139,
          277,
          68,
          133,
          265,
          50,
          247,
          117,
          76,
          220,
          212,
          102,
          67,
          100,
          39,
          65,
          187,
          186,
          180,
          176,
          172,
          83,
          32,
          160,
          77,
          154,
          150,
          149,
          74,
          148,
          73,
          48,
          142,
          11,
          33,
          10,
          130,
          125,
          60,
          118,
          57,
          114,
          8,
          5,
          22,
          6,
          12,
          36,
          54,
          21,
          105,
          103,
          101,
          14,
          96,
          94,
          31,
          92,
          7,
          91,
          15,
          88,
          85,
          84,
          82,
          40,
          78,
          4,
          38,
          75,
          72,
          35,
          70,
          69,
          34,
          66,
          64,
          30,
          59,
          29,
          58,
          19,
          28,
          56,
          55,
          9,
          53,
          13,
          52,
          17,
          51,
          49,
          24,
          23,
          46,
          45,
          44,
          42,
          41,
          20,
          18,
          3,
          16,
          26,
          2,
          1
         ],
         "xaxis": "x6",
         "yaxis": "y6"
        },
        {
         "marker": {
          "color": "rgba(255, 165, 0, 0.8)"
         },
         "name": "Win",
         "opacity": 0.8,
         "showlegend": false,
         "type": "histogram",
         "x": [
          94,
          85,
          100,
          92,
          119,
          177,
          83,
          102,
          276,
          132,
          65,
          126,
          124,
          115,
          74,
          73,
          218,
          72,
          70,
          104,
          103,
          67,
          98,
          97,
          59,
          86,
          55,
          163,
          80,
          79,
          158,
          77,
          153,
          150,
          146,
          143,
          71,
          141,
          136,
          135,
          131,
          128,
          125,
          122,
          120,
          118,
          117,
          111,
          110,
          109,
          108,
          106,
          105,
          101,
          96,
          91,
          90,
          89,
          88,
          87,
          82,
          81,
          78,
          76,
          64,
          63,
          61,
          58
         ],
         "xaxis": "x7",
         "yaxis": "y7"
        },
        {
         "marker": {
          "color": "rgba(135, 206, 250, 0.8)"
         },
         "name": "Loss",
         "opacity": 0.8,
         "showlegend": false,
         "type": "histogram",
         "x": [
          324,
          247,
          61,
          118,
          235,
          77,
          109,
          71,
          203,
          100,
          193,
          189,
          185,
          172,
          85,
          170,
          41,
          82,
          164,
          79,
          154,
          152,
          75,
          135,
          132,
          131,
          130,
          128,
          125,
          123,
          116,
          115,
          107,
          104,
          99,
          97,
          48,
          96,
          95,
          94,
          93,
          92,
          87,
          43,
          86,
          84,
          40,
          80,
          38,
          76,
          74,
          9,
          12,
          72,
          10,
          35,
          70,
          69,
          34,
          68,
          67,
          6,
          66,
          65,
          63,
          31,
          62,
          5,
          60,
          59,
          29,
          14,
          11,
          53,
          51,
          50,
          46,
          15,
          45,
          8,
          13,
          39,
          4,
          18,
          7,
          3,
          30,
          27,
          26,
          23,
          22,
          21,
          20,
          19,
          17,
          2,
          1
         ],
         "xaxis": "x7",
         "yaxis": "y7"
        },
        {
         "marker": {
          "color": "rgba(0, 255, 127, 0.8)"
         },
         "name": "Win",
         "opacity": 0.8,
         "showlegend": false,
         "type": "histogram",
         "x": [
          112,
          109,
          128,
          115,
          166,
          93,
          138,
          242,
          79,
          114,
          110,
          106,
          95,
          189,
          186,
          181,
          89,
          172,
          85,
          162,
          155,
          154,
          149,
          148,
          145,
          144,
          135,
          132,
          131,
          129,
          124,
          122,
          121,
          120,
          119,
          117,
          116,
          113,
          107,
          99,
          98,
          94,
          88,
          87,
          86,
          83,
          82,
          76,
          74,
          72,
          67,
          65,
          64
         ],
         "xaxis": "x8",
         "yaxis": "y8"
        },
        {
         "marker": {
          "color": "rgba(147, 112, 219, 0.8)"
         },
         "name": "Loss",
         "opacity": 0.8,
         "showlegend": false,
         "type": "histogram",
         "x": [
          267,
          111,
          53,
          106,
          201,
          183,
          90,
          175,
          148,
          36,
          69,
          65,
          60,
          117,
          114,
          56,
          99,
          98,
          12,
          96,
          93,
          46,
          45,
          41,
          76,
          15,
          37,
          74,
          72,
          14,
          34,
          68,
          33,
          13,
          64,
          9,
          61,
          58,
          52,
          50,
          7,
          49,
          48,
          6,
          8,
          40,
          39,
          19,
          35,
          16,
          32,
          31,
          10,
          29,
          28,
          27,
          5,
          25,
          24,
          23,
          11,
          22,
          20,
          18,
          17,
          4,
          3
         ],
         "xaxis": "x8",
         "yaxis": "y8"
        },
        {
         "marker": {
          "color": "rgba(255, 105, 180, 0.8)"
         },
         "name": "Win",
         "opacity": 0.8,
         "showlegend": false,
         "type": "histogram",
         "x": [
          130,
          117,
          136,
          86,
          239,
          210,
          104,
          102,
          203,
          101,
          182,
          85,
          167,
          161,
          79,
          157,
          152,
          137,
          134,
          126,
          119,
          112,
          110,
          107,
          106,
          105,
          96,
          95,
          94,
          93,
          92,
          91,
          89,
          88,
          78,
          68,
          65,
          64,
          56,
          54
         ],
         "xaxis": "x9",
         "yaxis": "y9"
        },
        {
         "marker": {
          "color": "rgba(173, 255, 47, 0.8)"
         },
         "name": "Loss",
         "opacity": 0.8,
         "showlegend": false,
         "type": "histogram",
         "x": [
          176,
          86,
          145,
          119,
          56,
          109,
          105,
          97,
          96,
          93,
          83,
          27,
          39,
          77,
          74,
          63,
          29,
          52,
          17,
          47,
          23,
          15,
          43,
          42,
          20,
          40,
          38,
          37,
          9,
          18,
          35,
          11,
          33,
          32,
          10,
          30,
          14,
          8,
          24,
          7,
          19,
          3,
          6,
          16,
          13,
          12,
          4,
          5,
          2,
          1
         ],
         "xaxis": "x9",
         "yaxis": "y9"
        },
        {
         "marker": {
          "color": "rgba(255, 165, 0, 0.8)"
         },
         "name": "Win",
         "opacity": 0.8,
         "showlegend": false,
         "type": "histogram",
         "x": [
          160,
          125,
          219,
          167,
          151,
          147,
          138,
          129,
          126,
          122,
          119,
          117,
          116,
          104,
          103,
          102,
          100,
          99,
          97,
          95,
          87,
          85,
          81,
          74,
          68,
          56
         ],
         "xaxis": "x10",
         "yaxis": "y10"
        },
        {
         "marker": {
          "color": "rgba(135, 206, 250, 0.8)"
         },
         "name": "Loss",
         "opacity": 0.8,
         "showlegend": false,
         "type": "histogram",
         "x": [
          114,
          223,
          176,
          73,
          134,
          64,
          128,
          124,
          120,
          107,
          104,
          102,
          98,
          90,
          80,
          75,
          37,
          74,
          71,
          69,
          66,
          63,
          62,
          50,
          16,
          47,
          23,
          20,
          39,
          38,
          34,
          32,
          30,
          28,
          27,
          22,
          10,
          9,
          17,
          8,
          15,
          7,
          14,
          13,
          6,
          12,
          11,
          3,
          5,
          4,
          2
         ],
         "xaxis": "x10",
         "yaxis": "y10"
        },
        {
         "marker": {
          "color": "rgba(0, 255, 127, 0.8)"
         },
         "name": "Win",
         "opacity": 0.8,
         "showlegend": false,
         "type": "histogram",
         "x": [
          137,
          183,
          172,
          156,
          155,
          154,
          148,
          146,
          126,
          122,
          116,
          115,
          114,
          110,
          107,
          102,
          100,
          82
         ],
         "xaxis": "x11",
         "yaxis": "y11"
        },
        {
         "marker": {
          "color": "rgba(147, 112, 219, 0.8)"
         },
         "name": "Loss",
         "opacity": 0.8,
         "showlegend": false,
         "type": "histogram",
         "x": [
          150,
          147,
          140,
          126,
          117,
          84,
          79,
          70,
          68,
          33,
          22,
          19,
          9,
          11,
          6
         ],
         "xaxis": "x11",
         "yaxis": "y11"
        }
       ],
       "layout": {
        "annotations": [
         {
          "font": {
           "size": 16
          },
          "showarrow": false,
          "text": "Year 2003",
          "x": 0.14444444444444446,
          "xanchor": "center",
          "xref": "paper",
          "y": 1,
          "yanchor": "bottom",
          "yref": "paper"
         },
         {
          "font": {
           "size": 16
          },
          "showarrow": false,
          "text": "Year 2004",
          "x": 0.5,
          "xanchor": "center",
          "xref": "paper",
          "y": 1,
          "yanchor": "bottom",
          "yref": "paper"
         },
         {
          "font": {
           "size": 16
          },
          "showarrow": false,
          "text": "Year 2005",
          "x": 0.8555555555555556,
          "xanchor": "center",
          "xref": "paper",
          "y": 1,
          "yanchor": "bottom",
          "yref": "paper"
         },
         {
          "font": {
           "size": 16
          },
          "showarrow": false,
          "text": "Year 2006",
          "x": 0.14444444444444446,
          "xanchor": "center",
          "xref": "paper",
          "y": 0.71875,
          "yanchor": "bottom",
          "yref": "paper"
         },
         {
          "font": {
           "size": 16
          },
          "showarrow": false,
          "text": "Year 2007",
          "x": 0.5,
          "xanchor": "center",
          "xref": "paper",
          "y": 0.71875,
          "yanchor": "bottom",
          "yref": "paper"
         },
         {
          "font": {
           "size": 16
          },
          "showarrow": false,
          "text": "Year 2008",
          "x": 0.8555555555555556,
          "xanchor": "center",
          "xref": "paper",
          "y": 0.71875,
          "yanchor": "bottom",
          "yref": "paper"
         },
         {
          "font": {
           "size": 16
          },
          "showarrow": false,
          "text": "Year 2009",
          "x": 0.14444444444444446,
          "xanchor": "center",
          "xref": "paper",
          "y": 0.4375,
          "yanchor": "bottom",
          "yref": "paper"
         },
         {
          "font": {
           "size": 16
          },
          "showarrow": false,
          "text": "Year 2010",
          "x": 0.5,
          "xanchor": "center",
          "xref": "paper",
          "y": 0.4375,
          "yanchor": "bottom",
          "yref": "paper"
         },
         {
          "font": {
           "size": 16
          },
          "showarrow": false,
          "text": "Year 2011",
          "x": 0.8555555555555556,
          "xanchor": "center",
          "xref": "paper",
          "y": 0.4375,
          "yanchor": "bottom",
          "yref": "paper"
         },
         {
          "font": {
           "size": 16
          },
          "showarrow": false,
          "text": "Year 2012",
          "x": 0.14444444444444446,
          "xanchor": "center",
          "xref": "paper",
          "y": 0.15625,
          "yanchor": "bottom",
          "yref": "paper"
         },
         {
          "font": {
           "size": 16
          },
          "showarrow": false,
          "text": "Year 2013",
          "x": 0.5,
          "xanchor": "center",
          "xref": "paper",
          "y": 0.15625,
          "yanchor": "bottom",
          "yref": "paper"
         }
        ],
        "barmode": "overlay",
        "height": 1000,
        "template": {
         "data": {
          "bar": [
           {
            "error_x": {
             "color": "#2a3f5f"
            },
            "error_y": {
             "color": "#2a3f5f"
            },
            "marker": {
             "line": {
              "color": "#E5ECF6",
              "width": 0.5
             },
             "pattern": {
              "fillmode": "overlay",
              "size": 10,
              "solidity": 0.2
             }
            },
            "type": "bar"
           }
          ],
          "barpolar": [
           {
            "marker": {
             "line": {
              "color": "#E5ECF6",
              "width": 0.5
             },
             "pattern": {
              "fillmode": "overlay",
              "size": 10,
              "solidity": 0.2
             }
            },
            "type": "barpolar"
           }
          ],
          "carpet": [
           {
            "aaxis": {
             "endlinecolor": "#2a3f5f",
             "gridcolor": "white",
             "linecolor": "white",
             "minorgridcolor": "white",
             "startlinecolor": "#2a3f5f"
            },
            "baxis": {
             "endlinecolor": "#2a3f5f",
             "gridcolor": "white",
             "linecolor": "white",
             "minorgridcolor": "white",
             "startlinecolor": "#2a3f5f"
            },
            "type": "carpet"
           }
          ],
          "choropleth": [
           {
            "colorbar": {
             "outlinewidth": 0,
             "ticks": ""
            },
            "type": "choropleth"
           }
          ],
          "contour": [
           {
            "colorbar": {
             "outlinewidth": 0,
             "ticks": ""
            },
            "colorscale": [
             [
              0,
              "#0d0887"
             ],
             [
              0.1111111111111111,
              "#46039f"
             ],
             [
              0.2222222222222222,
              "#7201a8"
             ],
             [
              0.3333333333333333,
              "#9c179e"
             ],
             [
              0.4444444444444444,
              "#bd3786"
             ],
             [
              0.5555555555555556,
              "#d8576b"
             ],
             [
              0.6666666666666666,
              "#ed7953"
             ],
             [
              0.7777777777777778,
              "#fb9f3a"
             ],
             [
              0.8888888888888888,
              "#fdca26"
             ],
             [
              1,
              "#f0f921"
             ]
            ],
            "type": "contour"
           }
          ],
          "contourcarpet": [
           {
            "colorbar": {
             "outlinewidth": 0,
             "ticks": ""
            },
            "type": "contourcarpet"
           }
          ],
          "heatmap": [
           {
            "colorbar": {
             "outlinewidth": 0,
             "ticks": ""
            },
            "colorscale": [
             [
              0,
              "#0d0887"
             ],
             [
              0.1111111111111111,
              "#46039f"
             ],
             [
              0.2222222222222222,
              "#7201a8"
             ],
             [
              0.3333333333333333,
              "#9c179e"
             ],
             [
              0.4444444444444444,
              "#bd3786"
             ],
             [
              0.5555555555555556,
              "#d8576b"
             ],
             [
              0.6666666666666666,
              "#ed7953"
             ],
             [
              0.7777777777777778,
              "#fb9f3a"
             ],
             [
              0.8888888888888888,
              "#fdca26"
             ],
             [
              1,
              "#f0f921"
             ]
            ],
            "type": "heatmap"
           }
          ],
          "heatmapgl": [
           {
            "colorbar": {
             "outlinewidth": 0,
             "ticks": ""
            },
            "colorscale": [
             [
              0,
              "#0d0887"
             ],
             [
              0.1111111111111111,
              "#46039f"
             ],
             [
              0.2222222222222222,
              "#7201a8"
             ],
             [
              0.3333333333333333,
              "#9c179e"
             ],
             [
              0.4444444444444444,
              "#bd3786"
             ],
             [
              0.5555555555555556,
              "#d8576b"
             ],
             [
              0.6666666666666666,
              "#ed7953"
             ],
             [
              0.7777777777777778,
              "#fb9f3a"
             ],
             [
              0.8888888888888888,
              "#fdca26"
             ],
             [
              1,
              "#f0f921"
             ]
            ],
            "type": "heatmapgl"
           }
          ],
          "histogram": [
           {
            "marker": {
             "pattern": {
              "fillmode": "overlay",
              "size": 10,
              "solidity": 0.2
             }
            },
            "type": "histogram"
           }
          ],
          "histogram2d": [
           {
            "colorbar": {
             "outlinewidth": 0,
             "ticks": ""
            },
            "colorscale": [
             [
              0,
              "#0d0887"
             ],
             [
              0.1111111111111111,
              "#46039f"
             ],
             [
              0.2222222222222222,
              "#7201a8"
             ],
             [
              0.3333333333333333,
              "#9c179e"
             ],
             [
              0.4444444444444444,
              "#bd3786"
             ],
             [
              0.5555555555555556,
              "#d8576b"
             ],
             [
              0.6666666666666666,
              "#ed7953"
             ],
             [
              0.7777777777777778,
              "#fb9f3a"
             ],
             [
              0.8888888888888888,
              "#fdca26"
             ],
             [
              1,
              "#f0f921"
             ]
            ],
            "type": "histogram2d"
           }
          ],
          "histogram2dcontour": [
           {
            "colorbar": {
             "outlinewidth": 0,
             "ticks": ""
            },
            "colorscale": [
             [
              0,
              "#0d0887"
             ],
             [
              0.1111111111111111,
              "#46039f"
             ],
             [
              0.2222222222222222,
              "#7201a8"
             ],
             [
              0.3333333333333333,
              "#9c179e"
             ],
             [
              0.4444444444444444,
              "#bd3786"
             ],
             [
              0.5555555555555556,
              "#d8576b"
             ],
             [
              0.6666666666666666,
              "#ed7953"
             ],
             [
              0.7777777777777778,
              "#fb9f3a"
             ],
             [
              0.8888888888888888,
              "#fdca26"
             ],
             [
              1,
              "#f0f921"
             ]
            ],
            "type": "histogram2dcontour"
           }
          ],
          "mesh3d": [
           {
            "colorbar": {
             "outlinewidth": 0,
             "ticks": ""
            },
            "type": "mesh3d"
           }
          ],
          "parcoords": [
           {
            "line": {
             "colorbar": {
              "outlinewidth": 0,
              "ticks": ""
             }
            },
            "type": "parcoords"
           }
          ],
          "pie": [
           {
            "automargin": true,
            "type": "pie"
           }
          ],
          "scatter": [
           {
            "fillpattern": {
             "fillmode": "overlay",
             "size": 10,
             "solidity": 0.2
            },
            "type": "scatter"
           }
          ],
          "scatter3d": [
           {
            "line": {
             "colorbar": {
              "outlinewidth": 0,
              "ticks": ""
             }
            },
            "marker": {
             "colorbar": {
              "outlinewidth": 0,
              "ticks": ""
             }
            },
            "type": "scatter3d"
           }
          ],
          "scattercarpet": [
           {
            "marker": {
             "colorbar": {
              "outlinewidth": 0,
              "ticks": ""
             }
            },
            "type": "scattercarpet"
           }
          ],
          "scattergeo": [
           {
            "marker": {
             "colorbar": {
              "outlinewidth": 0,
              "ticks": ""
             }
            },
            "type": "scattergeo"
           }
          ],
          "scattergl": [
           {
            "marker": {
             "colorbar": {
              "outlinewidth": 0,
              "ticks": ""
             }
            },
            "type": "scattergl"
           }
          ],
          "scattermapbox": [
           {
            "marker": {
             "colorbar": {
              "outlinewidth": 0,
              "ticks": ""
             }
            },
            "type": "scattermapbox"
           }
          ],
          "scatterpolar": [
           {
            "marker": {
             "colorbar": {
              "outlinewidth": 0,
              "ticks": ""
             }
            },
            "type": "scatterpolar"
           }
          ],
          "scatterpolargl": [
           {
            "marker": {
             "colorbar": {
              "outlinewidth": 0,
              "ticks": ""
             }
            },
            "type": "scatterpolargl"
           }
          ],
          "scatterternary": [
           {
            "marker": {
             "colorbar": {
              "outlinewidth": 0,
              "ticks": ""
             }
            },
            "type": "scatterternary"
           }
          ],
          "surface": [
           {
            "colorbar": {
             "outlinewidth": 0,
             "ticks": ""
            },
            "colorscale": [
             [
              0,
              "#0d0887"
             ],
             [
              0.1111111111111111,
              "#46039f"
             ],
             [
              0.2222222222222222,
              "#7201a8"
             ],
             [
              0.3333333333333333,
              "#9c179e"
             ],
             [
              0.4444444444444444,
              "#bd3786"
             ],
             [
              0.5555555555555556,
              "#d8576b"
             ],
             [
              0.6666666666666666,
              "#ed7953"
             ],
             [
              0.7777777777777778,
              "#fb9f3a"
             ],
             [
              0.8888888888888888,
              "#fdca26"
             ],
             [
              1,
              "#f0f921"
             ]
            ],
            "type": "surface"
           }
          ],
          "table": [
           {
            "cells": {
             "fill": {
              "color": "#EBF0F8"
             },
             "line": {
              "color": "white"
             }
            },
            "header": {
             "fill": {
              "color": "#C8D4E3"
             },
             "line": {
              "color": "white"
             }
            },
            "type": "table"
           }
          ]
         },
         "layout": {
          "annotationdefaults": {
           "arrowcolor": "#2a3f5f",
           "arrowhead": 0,
           "arrowwidth": 1
          },
          "autotypenumbers": "strict",
          "coloraxis": {
           "colorbar": {
            "outlinewidth": 0,
            "ticks": ""
           }
          },
          "colorscale": {
           "diverging": [
            [
             0,
             "#8e0152"
            ],
            [
             0.1,
             "#c51b7d"
            ],
            [
             0.2,
             "#de77ae"
            ],
            [
             0.3,
             "#f1b6da"
            ],
            [
             0.4,
             "#fde0ef"
            ],
            [
             0.5,
             "#f7f7f7"
            ],
            [
             0.6,
             "#e6f5d0"
            ],
            [
             0.7,
             "#b8e186"
            ],
            [
             0.8,
             "#7fbc41"
            ],
            [
             0.9,
             "#4d9221"
            ],
            [
             1,
             "#276419"
            ]
           ],
           "sequential": [
            [
             0,
             "#0d0887"
            ],
            [
             0.1111111111111111,
             "#46039f"
            ],
            [
             0.2222222222222222,
             "#7201a8"
            ],
            [
             0.3333333333333333,
             "#9c179e"
            ],
            [
             0.4444444444444444,
             "#bd3786"
            ],
            [
             0.5555555555555556,
             "#d8576b"
            ],
            [
             0.6666666666666666,
             "#ed7953"
            ],
            [
             0.7777777777777778,
             "#fb9f3a"
            ],
            [
             0.8888888888888888,
             "#fdca26"
            ],
            [
             1,
             "#f0f921"
            ]
           ],
           "sequentialminus": [
            [
             0,
             "#0d0887"
            ],
            [
             0.1111111111111111,
             "#46039f"
            ],
            [
             0.2222222222222222,
             "#7201a8"
            ],
            [
             0.3333333333333333,
             "#9c179e"
            ],
            [
             0.4444444444444444,
             "#bd3786"
            ],
            [
             0.5555555555555556,
             "#d8576b"
            ],
            [
             0.6666666666666666,
             "#ed7953"
            ],
            [
             0.7777777777777778,
             "#fb9f3a"
            ],
            [
             0.8888888888888888,
             "#fdca26"
            ],
            [
             1,
             "#f0f921"
            ]
           ]
          },
          "colorway": [
           "#636efa",
           "#EF553B",
           "#00cc96",
           "#ab63fa",
           "#FFA15A",
           "#19d3f3",
           "#FF6692",
           "#B6E880",
           "#FF97FF",
           "#FECB52"
          ],
          "font": {
           "color": "#2a3f5f"
          },
          "geo": {
           "bgcolor": "white",
           "lakecolor": "white",
           "landcolor": "#E5ECF6",
           "showlakes": true,
           "showland": true,
           "subunitcolor": "white"
          },
          "hoverlabel": {
           "align": "left"
          },
          "hovermode": "closest",
          "mapbox": {
           "style": "light"
          },
          "paper_bgcolor": "white",
          "plot_bgcolor": "#E5ECF6",
          "polar": {
           "angularaxis": {
            "gridcolor": "white",
            "linecolor": "white",
            "ticks": ""
           },
           "bgcolor": "#E5ECF6",
           "radialaxis": {
            "gridcolor": "white",
            "linecolor": "white",
            "ticks": ""
           }
          },
          "scene": {
           "xaxis": {
            "backgroundcolor": "#E5ECF6",
            "gridcolor": "white",
            "gridwidth": 2,
            "linecolor": "white",
            "showbackground": true,
            "ticks": "",
            "zerolinecolor": "white"
           },
           "yaxis": {
            "backgroundcolor": "#E5ECF6",
            "gridcolor": "white",
            "gridwidth": 2,
            "linecolor": "white",
            "showbackground": true,
            "ticks": "",
            "zerolinecolor": "white"
           },
           "zaxis": {
            "backgroundcolor": "#E5ECF6",
            "gridcolor": "white",
            "gridwidth": 2,
            "linecolor": "white",
            "showbackground": true,
            "ticks": "",
            "zerolinecolor": "white"
           }
          },
          "shapedefaults": {
           "line": {
            "color": "#2a3f5f"
           }
          },
          "ternary": {
           "aaxis": {
            "gridcolor": "white",
            "linecolor": "white",
            "ticks": ""
           },
           "baxis": {
            "gridcolor": "white",
            "linecolor": "white",
            "ticks": ""
           },
           "bgcolor": "#E5ECF6",
           "caxis": {
            "gridcolor": "white",
            "linecolor": "white",
            "ticks": ""
           }
          },
          "title": {
           "x": 0.05
          },
          "xaxis": {
           "automargin": true,
           "gridcolor": "white",
           "linecolor": "white",
           "ticks": "",
           "title": {
            "standoff": 15
           },
           "zerolinecolor": "white",
           "zerolinewidth": 2
          },
          "yaxis": {
           "automargin": true,
           "gridcolor": "white",
           "linecolor": "white",
           "ticks": "",
           "title": {
            "standoff": 15
           },
           "zerolinecolor": "white",
           "zerolinewidth": 2
          }
         }
        },
        "title": {
         "text": "Distribution of Votes by Election Outcome over the Years",
         "x": 0.5,
         "xanchor": "center"
        },
        "width": 1600,
        "xaxis": {
         "anchor": "y",
         "domain": [
          0,
          0.2888888888888889
         ],
         "range": [
          0,
          350
         ]
        },
        "xaxis10": {
         "anchor": "y10",
         "domain": [
          0,
          0.2888888888888889
         ],
         "range": [
          0,
          350
         ]
        },
        "xaxis11": {
         "anchor": "y11",
         "domain": [
          0.35555555555555557,
          0.6444444444444445
         ],
         "range": [
          0,
          350
         ],
         "title": {
          "text": "Total Count"
         }
        },
        "xaxis12": {
         "anchor": "y12",
         "domain": [
          0.7111111111111111,
          1
         ],
         "range": [
          0,
          350
         ],
         "visible": false
        },
        "xaxis2": {
         "anchor": "y2",
         "domain": [
          0.35555555555555557,
          0.6444444444444445
         ],
         "range": [
          0,
          350
         ]
        },
        "xaxis3": {
         "anchor": "y3",
         "domain": [
          0.7111111111111111,
          1
         ],
         "range": [
          0,
          350
         ]
        },
        "xaxis4": {
         "anchor": "y4",
         "domain": [
          0,
          0.2888888888888889
         ],
         "range": [
          0,
          350
         ]
        },
        "xaxis5": {
         "anchor": "y5",
         "domain": [
          0.35555555555555557,
          0.6444444444444445
         ],
         "range": [
          0,
          350
         ]
        },
        "xaxis6": {
         "anchor": "y6",
         "domain": [
          0.7111111111111111,
          1
         ],
         "range": [
          0,
          350
         ]
        },
        "xaxis7": {
         "anchor": "y7",
         "domain": [
          0,
          0.2888888888888889
         ],
         "range": [
          0,
          350
         ]
        },
        "xaxis8": {
         "anchor": "y8",
         "domain": [
          0.35555555555555557,
          0.6444444444444445
         ],
         "range": [
          0,
          350
         ]
        },
        "xaxis9": {
         "anchor": "y9",
         "domain": [
          0.7111111111111111,
          1
         ],
         "range": [
          0,
          350
         ]
        },
        "yaxis": {
         "anchor": "x",
         "domain": [
          0.84375,
          1
         ],
         "range": [
          0,
          50
         ]
        },
        "yaxis10": {
         "anchor": "x10",
         "domain": [
          0,
          0.15625
         ],
         "range": [
          0,
          50
         ]
        },
        "yaxis11": {
         "anchor": "x11",
         "domain": [
          0,
          0.15625
         ],
         "range": [
          0,
          50
         ]
        },
        "yaxis12": {
         "anchor": "x12",
         "domain": [
          0,
          0.15625
         ],
         "range": [
          0,
          50
         ],
         "visible": false
        },
        "yaxis2": {
         "anchor": "x2",
         "domain": [
          0.84375,
          1
         ],
         "range": [
          0,
          50
         ]
        },
        "yaxis3": {
         "anchor": "x3",
         "domain": [
          0.84375,
          1
         ],
         "range": [
          0,
          50
         ]
        },
        "yaxis4": {
         "anchor": "x4",
         "domain": [
          0.5625,
          0.71875
         ],
         "range": [
          0,
          50
         ],
         "title": {
          "text": "Frequency"
         }
        },
        "yaxis5": {
         "anchor": "x5",
         "domain": [
          0.5625,
          0.71875
         ],
         "range": [
          0,
          50
         ]
        },
        "yaxis6": {
         "anchor": "x6",
         "domain": [
          0.5625,
          0.71875
         ],
         "range": [
          0,
          50
         ]
        },
        "yaxis7": {
         "anchor": "x7",
         "domain": [
          0.28125,
          0.4375
         ],
         "range": [
          0,
          50
         ]
        },
        "yaxis8": {
         "anchor": "x8",
         "domain": [
          0.28125,
          0.4375
         ],
         "range": [
          0,
          50
         ]
        },
        "yaxis9": {
         "anchor": "x9",
         "domain": [
          0.28125,
          0.4375
         ],
         "range": [
          0,
          50
         ]
        }
       }
      }
     },
     "metadata": {},
     "output_type": "display_data"
    }
   ],
   "source": [
    "\n",
    "df_g = pd.DataFrame(df1.groupby('RES')[['YEA','RES','TOT']].value_counts())\n",
    "df_g = df_g.reset_index()\n",
    "df_g = df_g.drop('count', axis=1)\n",
    "\n",
    "year = 2003\n",
    "rows = 4\n",
    "cols = 3\n",
    "\n",
    "# Create subplot layout with titles for each subplot\n",
    "subplot_titles = [f\"Year {year + i}\" for i in range(12)]\n",
    "subplot_titles[-1] = \"\"  # Hide the title of the last plot\n",
    "\n",
    "fig = make_subplots(rows = rows, cols = cols, subplot_titles=subplot_titles)\n",
    "\n",
    "color_pairs = [\n",
    "    (\"rgba(135, 206, 250, 0.8)\", \"rgba(255, 165, 0, 0.8)\"),  # Light blue & orange\n",
    "    (\"rgba(147, 112, 219, 0.8)\", \"rgba(0, 255, 127, 0.8)\"),  # Purple & teal\n",
    "    (\"rgba(173, 255, 47, 0.8)\", \"rgba(255, 105, 180, 0.8)\"),  # Green & pink\n",
    "]\n",
    "\n",
    "\n",
    "for idx in range(0,11,1):\n",
    "\n",
    "    row = (idx // cols) + 1  # Integer division to determine row\n",
    "    col = (idx % cols) + 1   # Modulo to determine column\n",
    "\n",
    "        # Alternate colors based on the index\n",
    "    loss_color, win_color = color_pairs[idx % len(color_pairs)]\n",
    "\n",
    "    # Add Histograms for RES=1 and RES=-1\n",
    "    fig.add_trace(\n",
    "        go.Histogram(x=df_g[(df_g['YEA'] == year + idx) & (df_g['RES'] == 1)]['TOT'], \n",
    "                     name='Win',\n",
    "                     marker_color= win_color,\n",
    "                     showlegend =False\n",
    "                     ),\n",
    "        row=row,\n",
    "        col=col,\n",
    "    )\n",
    "    fig.add_trace(\n",
    "        go.Histogram(x=df_g[(df_g['YEA'] == year + idx) & (df_g['RES'] == -1)]['TOT'], \n",
    "                     name='Loss',\n",
    "                     marker_color = loss_color,\n",
    "                     showlegend =False\n",
    "                     ),\n",
    "        row=row,\n",
    "        col=col,\n",
    "    )\n",
    "\n",
    "\n",
    "# Update layout with global settings\n",
    "fig.update_layout(\n",
    "    height=1000,       # Adjust the height\n",
    "    width=1600,       # Adjust the width\n",
    "    \n",
    ")\n",
    "\n",
    "# Set common x-axis and y-axis labels\n",
    "fig.update_xaxes(title_text=\"Total Count\", row=rows, col=2)  # Bottom row x-axis\n",
    "fig.update_yaxes(title_text=\"Frequency\", row=2, col=1)       # First column y-axis\n",
    "\n",
    "# Common x-axis range\n",
    "common_xrange = [0, 350]  # Replace with the appropriate range if known\n",
    "fig.update_xaxes(range=common_xrange)\n",
    "\n",
    "# Common y-axis range\n",
    "common_yrange = [0, 50]  # Replace with the appropriate range if known\n",
    "fig.update_yaxes(range=common_yrange)\n",
    "\n",
    "# Remove the last plot by hiding its axes\n",
    "fig.update_xaxes(visible=False, row=rows, col=cols)\n",
    "fig.update_yaxes(visible=False, row=rows, col=cols)\n",
    "\n",
    "fig.update_layout(barmode='overlay', title =dict(\n",
    "        text=\"Distribution of Votes by Election Outcome over the Years\",  # Chart title\n",
    "        x=0.5,  # Center the title\n",
    "        xanchor=\"center\",  # Anchor the title at the center\n",
    "    )\n",
    ")\n",
    "fig.update_traces(opacity=0.8)\n",
    "\n",
    "\n",
    "pio.write_html(fig, file=\"Plots/dist_votes_by_elec_outcome_over_years.html\", auto_open=False)\n",
    "\n",
    "fig.show()"
   ]
  },
  {
   "cell_type": "markdown",
   "metadata": {},
   "source": [
    "- Steady shift of the mass towards the right for Wins --> more and more votes needed to win elections\n",
    "- Mass of rejections stays mostly anchored under 100 votes, but frequency fluctuates a lot --> low election participation is still a eliminating factor but very it's usage fluctuates"
   ]
  },
  {
   "cell_type": "markdown",
   "metadata": {},
   "source": [
    "# Graph 4: Voting Behavior, Pass Rates, and Votes Per Election"
   ]
  },
  {
   "cell_type": "code",
   "execution_count": 909,
   "metadata": {},
   "outputs": [
    {
     "data": {
      "application/vnd.plotly.v1+json": {
       "config": {
        "plotlyServerURL": "https://plot.ly"
       },
       "data": [
        {
         "name": "POS",
         "text": [
          "97.5%",
          "81.8%",
          "80.7%",
          "70.7%",
          "74.7%",
          "70.6%",
          "69.3%",
          "69.5%",
          "74.7%",
          "67.3%",
          "75.7%"
         ],
         "textfont": {
          "color": "white"
         },
         "textposition": "inside",
         "type": "bar",
         "x": [
          2003,
          2004,
          2005,
          2006,
          2007,
          2008,
          2009,
          2010,
          2011,
          2012,
          2013
         ],
         "y": [
          198,
          5350,
          16326,
          32054,
          31012,
          21523,
          14822,
          9710,
          6393,
          4358,
          2705
         ]
        },
        {
         "name": "ABS",
         "text": [
          "0.5%",
          "4.7%",
          "4.9%",
          "7.7%",
          "5.8%",
          "6.4%",
          "6.6%",
          "7.0%",
          "5.7%",
          "6.3%",
          "6.1%"
         ],
         "textfont": {
          "color": "white"
         },
         "textposition": "inside",
         "type": "bar",
         "x": [
          2003,
          2004,
          2005,
          2006,
          2007,
          2008,
          2009,
          2010,
          2011,
          2012,
          2013
         ],
         "y": [
          1,
          308,
          992,
          3511,
          2391,
          1954,
          1404,
          976,
          485,
          408,
          218
         ]
        },
        {
         "name": "NEG",
         "text": [
          "2.0%",
          "13.5%",
          "14.4%",
          "21.5%",
          "19.6%",
          "23.0%",
          "24.1%",
          "23.5%",
          "19.6%",
          "26.4%",
          "18.2%"
         ],
         "textfont": {
          "color": "white"
         },
         "textposition": "inside",
         "type": "bar",
         "x": [
          2003,
          2004,
          2005,
          2006,
          2007,
          2008,
          2009,
          2010,
          2011,
          2012,
          2013
         ],
         "y": [
          4,
          883,
          2921,
          9760,
          8138,
          7002,
          5149,
          3284,
          1678,
          1708,
          649
         ]
        },
        {
         "line": {
          "color": "red",
          "width": 2
         },
         "marker": {
          "color": "red",
          "size": 8
         },
         "mode": "lines+markers+text",
         "name": "Pass Rate",
         "text": [
          "100.0%",
          "80.3%",
          "67.3%",
          "42.4%",
          "47.8%",
          "37.7%",
          "36.5%",
          "34.7%",
          "38.5%",
          "30.1%",
          "54.3%"
         ],
         "textfont": {
          "color": "red"
         },
         "textposition": "bottom center",
         "type": "scatter",
         "x": [
          2003,
          2004,
          2005,
          2006,
          2007,
          2008,
          2009,
          2010,
          2011,
          2012,
          2013
         ],
         "y": [
          100,
          80.27210884353741,
          67.2566371681416,
          42.36874236874237,
          47.820965842167254,
          37.71106941838649,
          36.474164133738604,
          34.72222222222222,
          38.51851851851852,
          30.107526881720432,
          54.285714285714285
         ],
         "yaxis": "y2"
        },
        {
         "hoverinfo": "text+x",
         "hovertext": [
          "Year: 2003<br>Votes Per Election: 4",
          "Year: 2004<br>Votes Per Election: 22",
          "Year: 2005<br>Votes Per Election: 36",
          "Year: 2006<br>Votes Per Election: 55",
          "Year: 2007<br>Votes Per Election: 49",
          "Year: 2008<br>Votes Per Election: 57",
          "Year: 2009<br>Votes Per Election: 65",
          "Year: 2010<br>Votes Per Election: 65",
          "Year: 2011<br>Votes Per Election: 63",
          "Year: 2012<br>Votes Per Election: 70",
          "Year: 2013<br>Votes Per Election: 102"
         ],
         "marker": {
          "color": "blue",
          "opacity": 0.7,
          "size": [
           3.5,
           22.24829931972789,
           35.8212389380531,
           55.34188034188034,
           48.92932862190813,
           57.18386491557223,
           64.96960486322189,
           64.67592592592592,
           63.37777777777778,
           69.61290322580645,
           102.05714285714286
          ]
         },
         "mode": "markers+text",
         "name": "Votes Per Election",
         "text": [
          "4",
          "22",
          "36",
          "55",
          "49",
          "57",
          "65",
          "65",
          "63",
          "70",
          "102"
         ],
         "textposition": "top center",
         "type": "scatter",
         "x": [
          2003,
          2004,
          2005,
          2006,
          2007,
          2008,
          2009,
          2010,
          2011,
          2012,
          2013
         ],
         "y": [
          50000,
          50000,
          50000,
          50000,
          50000,
          50000,
          50000,
          50000,
          50000,
          50000,
          50000
         ]
        }
       ],
       "layout": {
        "barmode": "stack",
        "height": 800,
        "legend": {
         "orientation": "h",
         "x": 1,
         "xanchor": "right",
         "y": 1.02,
         "yanchor": "bottom"
        },
        "template": {
         "data": {
          "bar": [
           {
            "error_x": {
             "color": "#2a3f5f"
            },
            "error_y": {
             "color": "#2a3f5f"
            },
            "marker": {
             "line": {
              "color": "#E5ECF6",
              "width": 0.5
             },
             "pattern": {
              "fillmode": "overlay",
              "size": 10,
              "solidity": 0.2
             }
            },
            "type": "bar"
           }
          ],
          "barpolar": [
           {
            "marker": {
             "line": {
              "color": "#E5ECF6",
              "width": 0.5
             },
             "pattern": {
              "fillmode": "overlay",
              "size": 10,
              "solidity": 0.2
             }
            },
            "type": "barpolar"
           }
          ],
          "carpet": [
           {
            "aaxis": {
             "endlinecolor": "#2a3f5f",
             "gridcolor": "white",
             "linecolor": "white",
             "minorgridcolor": "white",
             "startlinecolor": "#2a3f5f"
            },
            "baxis": {
             "endlinecolor": "#2a3f5f",
             "gridcolor": "white",
             "linecolor": "white",
             "minorgridcolor": "white",
             "startlinecolor": "#2a3f5f"
            },
            "type": "carpet"
           }
          ],
          "choropleth": [
           {
            "colorbar": {
             "outlinewidth": 0,
             "ticks": ""
            },
            "type": "choropleth"
           }
          ],
          "contour": [
           {
            "colorbar": {
             "outlinewidth": 0,
             "ticks": ""
            },
            "colorscale": [
             [
              0,
              "#0d0887"
             ],
             [
              0.1111111111111111,
              "#46039f"
             ],
             [
              0.2222222222222222,
              "#7201a8"
             ],
             [
              0.3333333333333333,
              "#9c179e"
             ],
             [
              0.4444444444444444,
              "#bd3786"
             ],
             [
              0.5555555555555556,
              "#d8576b"
             ],
             [
              0.6666666666666666,
              "#ed7953"
             ],
             [
              0.7777777777777778,
              "#fb9f3a"
             ],
             [
              0.8888888888888888,
              "#fdca26"
             ],
             [
              1,
              "#f0f921"
             ]
            ],
            "type": "contour"
           }
          ],
          "contourcarpet": [
           {
            "colorbar": {
             "outlinewidth": 0,
             "ticks": ""
            },
            "type": "contourcarpet"
           }
          ],
          "heatmap": [
           {
            "colorbar": {
             "outlinewidth": 0,
             "ticks": ""
            },
            "colorscale": [
             [
              0,
              "#0d0887"
             ],
             [
              0.1111111111111111,
              "#46039f"
             ],
             [
              0.2222222222222222,
              "#7201a8"
             ],
             [
              0.3333333333333333,
              "#9c179e"
             ],
             [
              0.4444444444444444,
              "#bd3786"
             ],
             [
              0.5555555555555556,
              "#d8576b"
             ],
             [
              0.6666666666666666,
              "#ed7953"
             ],
             [
              0.7777777777777778,
              "#fb9f3a"
             ],
             [
              0.8888888888888888,
              "#fdca26"
             ],
             [
              1,
              "#f0f921"
             ]
            ],
            "type": "heatmap"
           }
          ],
          "heatmapgl": [
           {
            "colorbar": {
             "outlinewidth": 0,
             "ticks": ""
            },
            "colorscale": [
             [
              0,
              "#0d0887"
             ],
             [
              0.1111111111111111,
              "#46039f"
             ],
             [
              0.2222222222222222,
              "#7201a8"
             ],
             [
              0.3333333333333333,
              "#9c179e"
             ],
             [
              0.4444444444444444,
              "#bd3786"
             ],
             [
              0.5555555555555556,
              "#d8576b"
             ],
             [
              0.6666666666666666,
              "#ed7953"
             ],
             [
              0.7777777777777778,
              "#fb9f3a"
             ],
             [
              0.8888888888888888,
              "#fdca26"
             ],
             [
              1,
              "#f0f921"
             ]
            ],
            "type": "heatmapgl"
           }
          ],
          "histogram": [
           {
            "marker": {
             "pattern": {
              "fillmode": "overlay",
              "size": 10,
              "solidity": 0.2
             }
            },
            "type": "histogram"
           }
          ],
          "histogram2d": [
           {
            "colorbar": {
             "outlinewidth": 0,
             "ticks": ""
            },
            "colorscale": [
             [
              0,
              "#0d0887"
             ],
             [
              0.1111111111111111,
              "#46039f"
             ],
             [
              0.2222222222222222,
              "#7201a8"
             ],
             [
              0.3333333333333333,
              "#9c179e"
             ],
             [
              0.4444444444444444,
              "#bd3786"
             ],
             [
              0.5555555555555556,
              "#d8576b"
             ],
             [
              0.6666666666666666,
              "#ed7953"
             ],
             [
              0.7777777777777778,
              "#fb9f3a"
             ],
             [
              0.8888888888888888,
              "#fdca26"
             ],
             [
              1,
              "#f0f921"
             ]
            ],
            "type": "histogram2d"
           }
          ],
          "histogram2dcontour": [
           {
            "colorbar": {
             "outlinewidth": 0,
             "ticks": ""
            },
            "colorscale": [
             [
              0,
              "#0d0887"
             ],
             [
              0.1111111111111111,
              "#46039f"
             ],
             [
              0.2222222222222222,
              "#7201a8"
             ],
             [
              0.3333333333333333,
              "#9c179e"
             ],
             [
              0.4444444444444444,
              "#bd3786"
             ],
             [
              0.5555555555555556,
              "#d8576b"
             ],
             [
              0.6666666666666666,
              "#ed7953"
             ],
             [
              0.7777777777777778,
              "#fb9f3a"
             ],
             [
              0.8888888888888888,
              "#fdca26"
             ],
             [
              1,
              "#f0f921"
             ]
            ],
            "type": "histogram2dcontour"
           }
          ],
          "mesh3d": [
           {
            "colorbar": {
             "outlinewidth": 0,
             "ticks": ""
            },
            "type": "mesh3d"
           }
          ],
          "parcoords": [
           {
            "line": {
             "colorbar": {
              "outlinewidth": 0,
              "ticks": ""
             }
            },
            "type": "parcoords"
           }
          ],
          "pie": [
           {
            "automargin": true,
            "type": "pie"
           }
          ],
          "scatter": [
           {
            "fillpattern": {
             "fillmode": "overlay",
             "size": 10,
             "solidity": 0.2
            },
            "type": "scatter"
           }
          ],
          "scatter3d": [
           {
            "line": {
             "colorbar": {
              "outlinewidth": 0,
              "ticks": ""
             }
            },
            "marker": {
             "colorbar": {
              "outlinewidth": 0,
              "ticks": ""
             }
            },
            "type": "scatter3d"
           }
          ],
          "scattercarpet": [
           {
            "marker": {
             "colorbar": {
              "outlinewidth": 0,
              "ticks": ""
             }
            },
            "type": "scattercarpet"
           }
          ],
          "scattergeo": [
           {
            "marker": {
             "colorbar": {
              "outlinewidth": 0,
              "ticks": ""
             }
            },
            "type": "scattergeo"
           }
          ],
          "scattergl": [
           {
            "marker": {
             "colorbar": {
              "outlinewidth": 0,
              "ticks": ""
             }
            },
            "type": "scattergl"
           }
          ],
          "scattermapbox": [
           {
            "marker": {
             "colorbar": {
              "outlinewidth": 0,
              "ticks": ""
             }
            },
            "type": "scattermapbox"
           }
          ],
          "scatterpolar": [
           {
            "marker": {
             "colorbar": {
              "outlinewidth": 0,
              "ticks": ""
             }
            },
            "type": "scatterpolar"
           }
          ],
          "scatterpolargl": [
           {
            "marker": {
             "colorbar": {
              "outlinewidth": 0,
              "ticks": ""
             }
            },
            "type": "scatterpolargl"
           }
          ],
          "scatterternary": [
           {
            "marker": {
             "colorbar": {
              "outlinewidth": 0,
              "ticks": ""
             }
            },
            "type": "scatterternary"
           }
          ],
          "surface": [
           {
            "colorbar": {
             "outlinewidth": 0,
             "ticks": ""
            },
            "colorscale": [
             [
              0,
              "#0d0887"
             ],
             [
              0.1111111111111111,
              "#46039f"
             ],
             [
              0.2222222222222222,
              "#7201a8"
             ],
             [
              0.3333333333333333,
              "#9c179e"
             ],
             [
              0.4444444444444444,
              "#bd3786"
             ],
             [
              0.5555555555555556,
              "#d8576b"
             ],
             [
              0.6666666666666666,
              "#ed7953"
             ],
             [
              0.7777777777777778,
              "#fb9f3a"
             ],
             [
              0.8888888888888888,
              "#fdca26"
             ],
             [
              1,
              "#f0f921"
             ]
            ],
            "type": "surface"
           }
          ],
          "table": [
           {
            "cells": {
             "fill": {
              "color": "#EBF0F8"
             },
             "line": {
              "color": "white"
             }
            },
            "header": {
             "fill": {
              "color": "#C8D4E3"
             },
             "line": {
              "color": "white"
             }
            },
            "type": "table"
           }
          ]
         },
         "layout": {
          "annotationdefaults": {
           "arrowcolor": "#2a3f5f",
           "arrowhead": 0,
           "arrowwidth": 1
          },
          "autotypenumbers": "strict",
          "coloraxis": {
           "colorbar": {
            "outlinewidth": 0,
            "ticks": ""
           }
          },
          "colorscale": {
           "diverging": [
            [
             0,
             "#8e0152"
            ],
            [
             0.1,
             "#c51b7d"
            ],
            [
             0.2,
             "#de77ae"
            ],
            [
             0.3,
             "#f1b6da"
            ],
            [
             0.4,
             "#fde0ef"
            ],
            [
             0.5,
             "#f7f7f7"
            ],
            [
             0.6,
             "#e6f5d0"
            ],
            [
             0.7,
             "#b8e186"
            ],
            [
             0.8,
             "#7fbc41"
            ],
            [
             0.9,
             "#4d9221"
            ],
            [
             1,
             "#276419"
            ]
           ],
           "sequential": [
            [
             0,
             "#0d0887"
            ],
            [
             0.1111111111111111,
             "#46039f"
            ],
            [
             0.2222222222222222,
             "#7201a8"
            ],
            [
             0.3333333333333333,
             "#9c179e"
            ],
            [
             0.4444444444444444,
             "#bd3786"
            ],
            [
             0.5555555555555556,
             "#d8576b"
            ],
            [
             0.6666666666666666,
             "#ed7953"
            ],
            [
             0.7777777777777778,
             "#fb9f3a"
            ],
            [
             0.8888888888888888,
             "#fdca26"
            ],
            [
             1,
             "#f0f921"
            ]
           ],
           "sequentialminus": [
            [
             0,
             "#0d0887"
            ],
            [
             0.1111111111111111,
             "#46039f"
            ],
            [
             0.2222222222222222,
             "#7201a8"
            ],
            [
             0.3333333333333333,
             "#9c179e"
            ],
            [
             0.4444444444444444,
             "#bd3786"
            ],
            [
             0.5555555555555556,
             "#d8576b"
            ],
            [
             0.6666666666666666,
             "#ed7953"
            ],
            [
             0.7777777777777778,
             "#fb9f3a"
            ],
            [
             0.8888888888888888,
             "#fdca26"
            ],
            [
             1,
             "#f0f921"
            ]
           ]
          },
          "colorway": [
           "#636efa",
           "#EF553B",
           "#00cc96",
           "#ab63fa",
           "#FFA15A",
           "#19d3f3",
           "#FF6692",
           "#B6E880",
           "#FF97FF",
           "#FECB52"
          ],
          "font": {
           "color": "#2a3f5f"
          },
          "geo": {
           "bgcolor": "white",
           "lakecolor": "white",
           "landcolor": "#E5ECF6",
           "showlakes": true,
           "showland": true,
           "subunitcolor": "white"
          },
          "hoverlabel": {
           "align": "left"
          },
          "hovermode": "closest",
          "mapbox": {
           "style": "light"
          },
          "paper_bgcolor": "white",
          "plot_bgcolor": "#E5ECF6",
          "polar": {
           "angularaxis": {
            "gridcolor": "white",
            "linecolor": "white",
            "ticks": ""
           },
           "bgcolor": "#E5ECF6",
           "radialaxis": {
            "gridcolor": "white",
            "linecolor": "white",
            "ticks": ""
           }
          },
          "scene": {
           "xaxis": {
            "backgroundcolor": "#E5ECF6",
            "gridcolor": "white",
            "gridwidth": 2,
            "linecolor": "white",
            "showbackground": true,
            "ticks": "",
            "zerolinecolor": "white"
           },
           "yaxis": {
            "backgroundcolor": "#E5ECF6",
            "gridcolor": "white",
            "gridwidth": 2,
            "linecolor": "white",
            "showbackground": true,
            "ticks": "",
            "zerolinecolor": "white"
           },
           "zaxis": {
            "backgroundcolor": "#E5ECF6",
            "gridcolor": "white",
            "gridwidth": 2,
            "linecolor": "white",
            "showbackground": true,
            "ticks": "",
            "zerolinecolor": "white"
           }
          },
          "shapedefaults": {
           "line": {
            "color": "#2a3f5f"
           }
          },
          "ternary": {
           "aaxis": {
            "gridcolor": "white",
            "linecolor": "white",
            "ticks": ""
           },
           "baxis": {
            "gridcolor": "white",
            "linecolor": "white",
            "ticks": ""
           },
           "bgcolor": "#E5ECF6",
           "caxis": {
            "gridcolor": "white",
            "linecolor": "white",
            "ticks": ""
           }
          },
          "title": {
           "x": 0.05
          },
          "xaxis": {
           "automargin": true,
           "gridcolor": "white",
           "linecolor": "white",
           "ticks": "",
           "title": {
            "standoff": 15
           },
           "zerolinecolor": "white",
           "zerolinewidth": 2
          },
          "yaxis": {
           "automargin": true,
           "gridcolor": "white",
           "linecolor": "white",
           "ticks": "",
           "title": {
            "standoff": 15
           },
           "zerolinecolor": "white",
           "zerolinewidth": 2
          }
         }
        },
        "title": {
         "text": "Voting Behavior, Pass Rates, and Votes Per Election",
         "x": 0.5,
         "xanchor": "center"
        },
        "xaxis": {
         "dtick": 1,
         "tick0": 2003,
         "tickmode": "array",
         "ticktext": [
          "2003",
          "2004",
          "2005",
          "2006",
          "2007",
          "2008",
          "2009",
          "2010",
          "2011",
          "2012",
          "2013"
         ],
         "tickvals": [
          2003,
          2004,
          2005,
          2006,
          2007,
          2008,
          2009,
          2010,
          2011,
          2012,
          2013
         ],
         "title": {
          "text": "Year"
         }
        },
        "yaxis": {
         "title": {
          "text": "Total Count"
         }
        },
        "yaxis2": {
         "overlaying": "y",
         "range": [
          0,
          120
         ],
         "side": "right",
         "ticktext": [
          "0%",
          "20%",
          "40%",
          "60%",
          "80%",
          "100%"
         ],
         "tickvals": [
          0,
          20,
          40,
          60,
          80,
          100
         ],
         "title": {
          "text": "Pass Rate (%)"
         }
        }
       }
      }
     },
     "metadata": {},
     "output_type": "display_data"
    }
   ],
   "source": [
    "df_g = df1.drop_duplicates('elec_id')[['YEA','TOT','POS','ABS','NEG']]\n",
    "df_g = df_g.reset_index()\n",
    "df_g = df_g.drop('index', axis=1)\n",
    "df_g = df_g.groupby('YEA').sum().reset_index()\n",
    "\n",
    "df_g['POS_pct'] = (df_g['POS'] / df_g['TOT']) * 100\n",
    "df_g['ABS_pct'] = (df_g['ABS'] / df_g['TOT']) * 100\n",
    "df_g['NEG_pct'] = (df_g['NEG'] / df_g['TOT']) * 100\n",
    "\n",
    "\n",
    "df_g2 = passrate_by_year.drop(['WIN','LOSS'],axis =1).reset_index().rename(columns={'index':'type'})\n",
    "\n",
    "df_g3 = df1.drop_duplicates('elec_id').groupby('YEA')[['elec_id']].count().rename(columns={'elec_id':'no_elec'})\n",
    "df_g3 = df_g3.reset_index()\n",
    "df_g3['VOT_PER_ELEC'] = df_g['TOT']/df_g3['no_elec']\n",
    "\n",
    "# Melt the DataFrame for plotting\n",
    "df_melted = df_g.melt(\n",
    "    id_vars=['YEA', 'TOT'], \n",
    "    value_vars=['POS', 'ABS', 'NEG'], \n",
    "    var_name='Type', \n",
    "    value_name='Value'\n",
    ")\n",
    "\n",
    "# Add percentages for text\n",
    "df_melted['Percentage'] = df_melted.apply(\n",
    "    lambda row: (row['Value'] / df_g.loc[df_g['YEA'] == row['YEA'], 'TOT'].values[0]) * 100, axis=1\n",
    ")\n",
    "\n",
    "# Create the figure\n",
    "fig = go.Figure()\n",
    "\n",
    "# Add the bar chart with percentage text\n",
    "for type_name in df_melted['Type'].unique():\n",
    "    filtered_df = df_melted[df_melted['Type'] == type_name]\n",
    "    fig.add_trace(\n",
    "        go.Bar(\n",
    "            x=filtered_df['YEA'],\n",
    "            y=filtered_df['Value'],\n",
    "            name=type_name,\n",
    "            text=[f\"{p:.1f}%\" for p in filtered_df['Percentage']],  # Use percentage as text\n",
    "            textposition='inside'\n",
    "        )\n",
    "    )\n",
    "\n",
    "fig.update_traces(\n",
    "    textfont=dict(color=\"white\"),  # Set text color to white\n",
    "    selector=dict(type=\"bar\")  # Apply only to bar traces\n",
    ")\n",
    "\n",
    "# Add the scatter plot for pass rates\n",
    "fig.add_trace(\n",
    "    go.Scatter(\n",
    "        x=df_g['YEA'],  # Use the same x values\n",
    "        y=[pr * 100 for pr in df_g2[\"WIN_PERC\"]],  # Convert pass rate to percentage\n",
    "        mode=\"lines+markers+text\",  # Line graph with markers and text\n",
    "        name=\"Pass Rate\",\n",
    "        text=[f\"{pr*100:.1f}%\" for pr in df_g2[\"WIN_PERC\"]],  # Add pass rate as percentage text\n",
    "        textposition='bottom center',\n",
    "        line=dict(color=\"red\", width=2),\n",
    "        marker=dict(color=\"red\", size=8),\n",
    "        yaxis=\"y2\"  # Associate this trace with the secondary y-axis\n",
    "    )\n",
    ")\n",
    "\n",
    "fig.update_traces(\n",
    "    textfont=dict(color=\"red\"),  # Set text color to white\n",
    "    selector=dict(type=\"scatter\")  # Apply only to bar traces\n",
    ")\n",
    "\n",
    "# Configure layout\n",
    "fig.update_layout(\n",
    "    barmode='stack',\n",
    "    title=dict(\n",
    "        text=\"Voting Behavior and Pass Rates over a Decade\",  # Chart title\n",
    "        x=0.5,  # Center the title\n",
    "        xanchor=\"center\",  # Anchor the title at the center\n",
    "    ),\n",
    "    xaxis=dict(\n",
    "        title=\"Year\",\n",
    "        tickmode='linear',  # Force all ticks to be shown\n",
    "        tick0=2003,         # Starting point\n",
    "        dtick=1             # Interval of 1 year\n",
    "    ),\n",
    "    yaxis=dict(title=\"Total Count\"),\n",
    "    yaxis2=dict(\n",
    "        title=\"Pass Rate (%)\",\n",
    "        overlaying=\"y\",\n",
    "        side=\"right\",  # Place the secondary y-axis on the right\n",
    "        range=[0, 100]  # Set the y-axis scale from 0 to 100\n",
    "    ),\n",
    "    legend=dict(orientation=\"h\", yanchor=\"bottom\", y=1.02, xanchor=\"right\", x=1),\n",
    "    height=800\n",
    ")\n",
    "\n",
    "fig.add_trace(\n",
    "    go.Scatter(\n",
    "        x=df_g3['YEA'],  # Year for x-axis\n",
    "        y=[50000] * len(df_g3),  # Fixed y-value to align bubbles on the same line\n",
    "        mode=\"markers+text\",  # Scatter with markers and text\n",
    "        name=\"Votes Per Election\",\n",
    "        text=[f\"{v:.0f}\" for v in df_g3['VOT_PER_ELEC']],  # Display value inside the bubble\n",
    "        textposition=\"top center\",  # Position text above the bubbles\n",
    "        marker=dict(\n",
    "            size=df_g3['VOT_PER_ELEC'] *1,  # Scale bubble size for visual impact\n",
    "            color=\"blue\",\n",
    "            opacity=0.7\n",
    "        ),\n",
    "        hoverinfo=\"text+x\",  # Show year and votes per election in hover\n",
    "        hovertext=[f\"Year: {year}<br>Votes Per Election: {votes:.0f}\" for year, votes in zip(df_g3['YEA'], df_g3['VOT_PER_ELEC'])]\n",
    "    )\n",
    ")\n",
    "\n",
    "# Update layout to ensure bubbles fit nicely\n",
    "fig.update_layout(\n",
    "    title=dict(\n",
    "        text=\"Voting Behavior, Pass Rates, and Votes Per Election\",\n",
    "        x=0.5,\n",
    "        xanchor=\"center\"\n",
    "    ),\n",
    "    xaxis=dict(\n",
    "        title=\"Year\",\n",
    "        tickmode='array',  # Use an array to specify which ticks to show\n",
    "        tickvals=[2003, 2004, 2005, 2006, 2007, 2008, 2009, 2010, 2011, 2012, 2013],  # Exclude 2014\n",
    "        ticktext=[\"2003\", \"2004\", \"2005\", \"2006\", \"2007\", \"2008\", \"2009\", \"2010\", \"2011\", \"2012\", \"2013\"]  # Text for these ticks\n",
    "    ),\n",
    "    yaxis=dict(\n",
    "        title=\"Total Count\"\n",
    "    ),\n",
    "    yaxis2=dict(\n",
    "        title=\"Pass Rate (%)\",\n",
    "        overlaying=\"y\",\n",
    "        side=\"right\",\n",
    "        range=[0, 120],  # Ensure the secondary y-axis is from 0 to 100\n",
    "        tickvals=[0, 20, 40, 60, 80, 100],  # Define ticks you want to display\n",
    "        ticktext=[\"0%\", \"20%\", \"40%\", \"60%\", \"80%\", \"100%\"]  # Custom text for these ticks\n",
    "    ),\n",
    "    height=800,\n",
    "    legend=dict(orientation=\"h\", yanchor=\"bottom\", y=1.02, xanchor=\"right\", x=1)\n",
    ")\n",
    "\n",
    "pio.write_html(fig, file=\"Plots/voting_beh_passrates_vot_per_elec.html\", auto_open=False)\n",
    "\n",
    "fig.show()"
   ]
  }
 ],
 "metadata": {
  "kernelspec": {
   "display_name": "base",
   "language": "python",
   "name": "python3"
  },
  "language_info": {
   "codemirror_mode": {
    "name": "ipython",
    "version": 3
   },
   "file_extension": ".py",
   "mimetype": "text/x-python",
   "name": "python",
   "nbconvert_exporter": "python",
   "pygments_lexer": "ipython3",
   "version": "3.12.4"
  }
 },
 "nbformat": 4,
 "nbformat_minor": 2
}
