{
 "cells": [
  {
   "cell_type": "code",
   "execution_count": 8,
   "metadata": {},
   "outputs": [],
   "source": [
    "import numpy as np\n",
    "import pandas as pd\n",
    "import gzip\n",
    "import matplotlib.pyplot as plt\n",
    "import seaborn as sns"
   ]
  },
  {
   "cell_type": "markdown",
   "metadata": {},
   "source": [
    "# Parsing and importing datas"
   ]
  },
  {
   "cell_type": "code",
   "execution_count": 9,
   "metadata": {},
   "outputs": [
    {
     "data": {
      "text/html": [
       "<div>\n",
       "<style scoped>\n",
       "    .dataframe tbody tr th:only-of-type {\n",
       "        vertical-align: middle;\n",
       "    }\n",
       "\n",
       "    .dataframe tbody tr th {\n",
       "        vertical-align: top;\n",
       "    }\n",
       "\n",
       "    .dataframe thead th {\n",
       "        text-align: right;\n",
       "    }\n",
       "</style>\n",
       "<table border=\"1\" class=\"dataframe\">\n",
       "  <thead>\n",
       "    <tr style=\"text-align: right;\">\n",
       "      <th></th>\n",
       "      <th>SRC</th>\n",
       "      <th>TGT</th>\n",
       "      <th>VOT</th>\n",
       "      <th>RES</th>\n",
       "      <th>YEA</th>\n",
       "      <th>DAT</th>\n",
       "      <th>TXT</th>\n",
       "    </tr>\n",
       "  </thead>\n",
       "  <tbody>\n",
       "    <tr>\n",
       "      <th>0</th>\n",
       "      <td>Steel1943</td>\n",
       "      <td>BDD</td>\n",
       "      <td>1</td>\n",
       "      <td>1</td>\n",
       "      <td>2013</td>\n",
       "      <td>23:13, 19 April 2013</td>\n",
       "      <td>'''Support''' as co-nom.</td>\n",
       "    </tr>\n",
       "    <tr>\n",
       "      <th>1</th>\n",
       "      <td>Cuchullain</td>\n",
       "      <td>BDD</td>\n",
       "      <td>1</td>\n",
       "      <td>1</td>\n",
       "      <td>2013</td>\n",
       "      <td>01:04, 20 April 2013</td>\n",
       "      <td>'''Support''' as nominator.--</td>\n",
       "    </tr>\n",
       "    <tr>\n",
       "      <th>2</th>\n",
       "      <td>INeverCry</td>\n",
       "      <td>BDD</td>\n",
       "      <td>1</td>\n",
       "      <td>1</td>\n",
       "      <td>2013</td>\n",
       "      <td>23:43, 19 April 2013</td>\n",
       "      <td>'''Support''' per noms.</td>\n",
       "    </tr>\n",
       "    <tr>\n",
       "      <th>3</th>\n",
       "      <td>Cncmaster</td>\n",
       "      <td>BDD</td>\n",
       "      <td>1</td>\n",
       "      <td>1</td>\n",
       "      <td>2013</td>\n",
       "      <td>00:11, 20 April 2013</td>\n",
       "      <td>'''Support''' per noms. BDD is a strong contri...</td>\n",
       "    </tr>\n",
       "    <tr>\n",
       "      <th>4</th>\n",
       "      <td>Miniapolis</td>\n",
       "      <td>BDD</td>\n",
       "      <td>1</td>\n",
       "      <td>1</td>\n",
       "      <td>2013</td>\n",
       "      <td>00:56, 20 April 2013</td>\n",
       "      <td>'''Support''', with great pleasure. I work wit...</td>\n",
       "    </tr>\n",
       "    <tr>\n",
       "      <th>5</th>\n",
       "      <td>Sven Manguard</td>\n",
       "      <td>BDD</td>\n",
       "      <td>1</td>\n",
       "      <td>1</td>\n",
       "      <td>2013</td>\n",
       "      <td>01:53, 20 April 2013</td>\n",
       "      <td>'''Support''' There are plenty of important ro...</td>\n",
       "    </tr>\n",
       "    <tr>\n",
       "      <th>6</th>\n",
       "      <td>Ramaksoud2000</td>\n",
       "      <td>BDD</td>\n",
       "      <td>1</td>\n",
       "      <td>1</td>\n",
       "      <td>2013</td>\n",
       "      <td>02:00, 20 April 2013</td>\n",
       "      <td>'''Support''' per noms. I don't see a reason n...</td>\n",
       "    </tr>\n",
       "    <tr>\n",
       "      <th>7</th>\n",
       "      <td>RockMagnetist</td>\n",
       "      <td>BDD</td>\n",
       "      <td>1</td>\n",
       "      <td>1</td>\n",
       "      <td>2013</td>\n",
       "      <td>02:18, 20 April 2013</td>\n",
       "      <td>'''Support'''  BDD already wields a broom pret...</td>\n",
       "    </tr>\n",
       "    <tr>\n",
       "      <th>8</th>\n",
       "      <td>Carrite</td>\n",
       "      <td>BDD</td>\n",
       "      <td>1</td>\n",
       "      <td>1</td>\n",
       "      <td>2013</td>\n",
       "      <td>02:22, 20 April 2013</td>\n",
       "      <td>'''Support''' barring a completely unexpected ...</td>\n",
       "    </tr>\n",
       "    <tr>\n",
       "      <th>9</th>\n",
       "      <td>Someguy1221</td>\n",
       "      <td>BDD</td>\n",
       "      <td>1</td>\n",
       "      <td>1</td>\n",
       "      <td>2013</td>\n",
       "      <td>03:09, 20 April 2013</td>\n",
       "      <td>'''Support''' because I see no good reason not...</td>\n",
       "    </tr>\n",
       "  </tbody>\n",
       "</table>\n",
       "</div>"
      ],
      "text/plain": [
       "             SRC  TGT  VOT  RES   YEA                   DAT  \\\n",
       "0      Steel1943  BDD    1    1  2013  23:13, 19 April 2013   \n",
       "1     Cuchullain  BDD    1    1  2013  01:04, 20 April 2013   \n",
       "2      INeverCry  BDD    1    1  2013  23:43, 19 April 2013   \n",
       "3      Cncmaster  BDD    1    1  2013  00:11, 20 April 2013   \n",
       "4     Miniapolis  BDD    1    1  2013  00:56, 20 April 2013   \n",
       "5  Sven Manguard  BDD    1    1  2013  01:53, 20 April 2013   \n",
       "6  Ramaksoud2000  BDD    1    1  2013  02:00, 20 April 2013   \n",
       "7  RockMagnetist  BDD    1    1  2013  02:18, 20 April 2013   \n",
       "8        Carrite  BDD    1    1  2013  02:22, 20 April 2013   \n",
       "9    Someguy1221  BDD    1    1  2013  03:09, 20 April 2013   \n",
       "\n",
       "                                                 TXT  \n",
       "0                           '''Support''' as co-nom.  \n",
       "1                      '''Support''' as nominator.--  \n",
       "2                            '''Support''' per noms.  \n",
       "3  '''Support''' per noms. BDD is a strong contri...  \n",
       "4  '''Support''', with great pleasure. I work wit...  \n",
       "5  '''Support''' There are plenty of important ro...  \n",
       "6  '''Support''' per noms. I don't see a reason n...  \n",
       "7  '''Support'''  BDD already wields a broom pret...  \n",
       "8  '''Support''' barring a completely unexpected ...  \n",
       "9  '''Support''' because I see no good reason not...  "
      ]
     },
     "execution_count": 9,
     "metadata": {},
     "output_type": "execute_result"
    }
   ],
   "source": [
    "def parse_vote(vote_str):\n",
    "    vote_dict = {}\n",
    "    lines = vote_str.split('\\n')\n",
    "    for line in lines:\n",
    "        if ':' in line:\n",
    "            key, value = line.split(':', 1) \n",
    "            vote_dict[key.strip()] = value.strip()\n",
    "    return vote_dict\n",
    "\n",
    "data = []\n",
    "with gzip.open('Data/wiki-RfA.txt.gz', 'rt') as file:\n",
    "    content = file.read()\n",
    "    \n",
    "    # Split votes using blank lines\n",
    "    votes = content.strip().split('\\n\\n')\n",
    "    \n",
    "    # Process each vote\n",
    "    for vote in votes:\n",
    "        vote_data = parse_vote(vote)\n",
    "        data.append(vote_data)\n",
    "\n",
    "df = pd.DataFrame(data)\n",
    "\n",
    "df['VOT'] = pd.to_numeric(df['VOT'],errors='coerce')\n",
    "df['RES'] = pd.to_numeric(df['RES'],errors='coerce')\n",
    "df['YEA'] = pd.to_numeric(df['YEA'],errors='coerce')\n",
    "\n",
    "df.head(10)"
   ]
  },
  {
   "cell_type": "code",
   "execution_count": 10,
   "metadata": {},
   "outputs": [
    {
     "name": "stdout",
     "output_type": "stream",
     "text": [
      "163219\n",
      "198275\n"
     ]
    }
   ],
   "source": [
    "comments = df[['TXT']]\n",
    "print(len(np.unique(comments)))\n",
    "print(len(comments))"
   ]
  },
  {
   "cell_type": "code",
   "execution_count": 11,
   "metadata": {},
   "outputs": [
    {
     "data": {
      "text/plain": [
       "3"
      ]
     },
     "execution_count": 11,
     "metadata": {},
     "output_type": "execute_result"
    }
   ],
   "source": [
    "len(df[(df['TXT'].str.len()>6000)==True])"
   ]
  },
  {
   "cell_type": "code",
   "execution_count": 12,
   "metadata": {},
   "outputs": [
    {
     "data": {
      "image/png": "[encoded data removed]",
      "text/plain": [
       "<Figure size 640x480 with 1 Axes>"
      ]
     },
     "metadata": {},
     "output_type": "display_data"
    }
   ],
   "source": [
    "sizeOcomment =df['TXT'].str.len()\n",
    "unique, counts = np.unique(sizeOcomment, return_counts=True)\n",
    "values = dict(zip(unique, counts))\n",
    "\n",
    "plt.bar(range(len(values)), list(values.values()), log=True)\n",
    "plt.show()"
   ]
  }
 ],
 "metadata": {
  "kernelspec": {
   "display_name": "ada",
   "language": "python",
   "name": "python3"
  },
  "language_info": {
   "codemirror_mode": {
    "name": "ipython",
    "version": 3
   },
   "file_extension": ".py",
   "mimetype": "text/x-python",
   "name": "python",
   "nbconvert_exporter": "python",
   "pygments_lexer": "ipython3",
   "version": "3.11.9"
  }
 },
 "nbformat": 4,
 "nbformat_minor": 2
}
