{
 "cells": [
  {
   "cell_type": "markdown",
   "metadata": {},
   "source": [
    "# Plots"
   ]
  },
  {
   "cell_type": "code",
   "execution_count": 1,
   "metadata": {},
   "outputs": [],
   "source": [
    "import src.Data.preprocessing as pre\n",
    "import src.Modules.plotting as plot\n",
    "import src.Modules.sentiment_analysis as sa"
   ]
  },
  {
   "cell_type": "markdown",
   "metadata": {},
   "source": [
    "## Import Data"
   ]
  },
  {
   "cell_type": "code",
   "execution_count": 2,
   "metadata": {},
   "outputs": [],
   "source": [
    "data = pre.import_RFA()"
   ]
  },
  {
   "cell_type": "markdown",
   "metadata": {},
   "source": [
    "## Scrapping"
   ]
  },
  {
   "cell_type": "code",
   "execution_count": 3,
   "metadata": {},
   "outputs": [
    {
     "name": "stdout",
     "output_type": "stream",
     "text": [
      "(aeropagitica)\n",
      "@pple\n",
      "^demon 2\n",
      "^demon 3\n",
      "0xDeadbeef\n",
      "2over0\n",
      "5 albert square\n",
      "7 2\n",
      "23skidoo\n",
      "28bytes 2\n",
      "52 Pickup\n",
      "78.26\n",
      "168...\n",
      "172\n",
      "331dot\n",
      "A Man In Black\n",
      "A. B.\n",
      "AA\n",
      "Aarktica 2\n",
      " What sysop chores, if any, would you anticipate helping with? Please check out Category:Wikipedia backlog, and read the page about administrators and the administrators' reading list.\\n\n",
      "Closing WP:AFD debates.\\nWatch and contribute to WP:ANI and WP:AN\\nrollback button use against vandals.\\nuse WP:VIP, WP:AIV and CryptoDerek's VandalFighter application to work against vandalism.\\nBlocking vandal accounts.\\ncategorising Uncategorised pages\\nmonitoring recent changes.\n"
     ]
    }
   ],
   "source": [
    "plot.scrapping_res()"
   ]
  },
  {
   "cell_type": "code",
   "execution_count": 5,
   "metadata": {},
   "outputs": [],
   "source": [
    "#plot.plot_byYear(data)"
   ]
  },
  {
   "cell_type": "code",
   "execution_count": 6,
   "metadata": {},
   "outputs": [
    {
     "data": {
      "image/png": "[encoded data removed]",
      "text/plain": [
       "<Figure size 640x480 with 1 Axes>"
      ]
     },
     "metadata": {},
     "output_type": "display_data"
    }
   ],
   "source": [
    "plot.boxplot_byUser(data)"
   ]
  },
  {
   "cell_type": "code",
   "execution_count": 7,
   "metadata": {},
   "outputs": [
    {
     "data": {
      "text/plain": [
       "1661"
      ]
     },
     "execution_count": 7,
     "metadata": {},
     "output_type": "execute_result"
    }
   ],
   "source": [
    "data[data['SRC']=='']['SRC'].count()"
   ]
  },
  {
   "cell_type": "code",
   "execution_count": 8,
   "metadata": {},
   "outputs": [
    {
     "data": {
      "image/png": "[encoded data removed]",
      "text/plain": [
       "<Figure size 640x480 with 1 Axes>"
      ]
     },
     "metadata": {},
     "output_type": "display_data"
    }
   ],
   "source": [
    "plot.hist_votes(data)"
   ]
  },
  {
   "cell_type": "code",
   "execution_count": 9,
   "metadata": {},
   "outputs": [
    {
     "data": {
      "application/vnd.jupyter.widget-view+json": {
       "model_id": "f99cc0c8ae8f45708e3fd44a463386ae",
       "version_major": 2,
       "version_minor": 0
      },
      "text/plain": [
       "tokenizer_config.json:   0%|          | 0.00/48.0 [00:00<?, ?B/s]"
      ]
     },
     "metadata": {},
     "output_type": "display_data"
    },
    {
     "data": {
      "application/vnd.jupyter.widget-view+json": {
       "model_id": "0c1610a3a6cc4f2f9a819ac66a278f0a",
       "version_major": 2,
       "version_minor": 0
      },
      "text/plain": [
       "config.json:   0%|          | 0.00/570 [00:00<?, ?B/s]"
      ]
     },
     "metadata": {},
     "output_type": "display_data"
    },
    {
     "data": {
      "application/vnd.jupyter.widget-view+json": {
       "model_id": "f54d10cc973442d3960a137294bc413c",
       "version_major": 2,
       "version_minor": 0
      },
      "text/plain": [
       "vocab.txt:   0%|          | 0.00/232k [00:00<?, ?B/s]"
      ]
     },
     "metadata": {},
     "output_type": "display_data"
    },
    {
     "data": {
      "application/vnd.jupyter.widget-view+json": {
       "model_id": "4ac35ff669a3412cbcdee03c1d06e555",
       "version_major": 2,
       "version_minor": 0
      },
      "text/plain": [
       "tokenizer.json:   0%|          | 0.00/466k [00:00<?, ?B/s]"
      ]
     },
     "metadata": {},
     "output_type": "display_data"
    },
    {
     "name": "stderr",
     "output_type": "stream",
     "text": [
      "No model was supplied, defaulted to distilbert/distilbert-base-uncased-finetuned-sst-2-english and revision 714eb0f (https://huggingface.co/distilbert/distilbert-base-uncased-finetuned-sst-2-english).\n",
      "Using a pipeline without specifying a model name and revision in production is not recommended.\n"
     ]
    },
    {
     "data": {
      "application/vnd.jupyter.widget-view+json": {
       "model_id": "1339ed5e43084d0db86e895e5b8dea99",
       "version_major": 2,
       "version_minor": 0
      },
      "text/plain": [
       "config.json:   0%|          | 0.00/629 [00:00<?, ?B/s]"
      ]
     },
     "metadata": {},
     "output_type": "display_data"
    },
    {
     "data": {
      "application/vnd.jupyter.widget-view+json": {
       "model_id": "8aa203cff9234d1888de8fdccd7b5589",
       "version_major": 2,
       "version_minor": 0
      },
      "text/plain": [
       "model.safetensors:   0%|          | 0.00/268M [00:00<?, ?B/s]"
      ]
     },
     "metadata": {},
     "output_type": "display_data"
    },
    {
     "data": {
      "application/vnd.jupyter.widget-view+json": {
       "model_id": "c943103bd22a456aaeee31dbae56fe4a",
       "version_major": 2,
       "version_minor": 0
      },
      "text/plain": [
       "tokenizer_config.json:   0%|          | 0.00/48.0 [00:00<?, ?B/s]"
      ]
     },
     "metadata": {},
     "output_type": "display_data"
    },
    {
     "data": {
      "application/vnd.jupyter.widget-view+json": {
       "model_id": "4700013a71334296841c0a334442febb",
       "version_major": 2,
       "version_minor": 0
      },
      "text/plain": [
       "vocab.txt:   0%|          | 0.00/232k [00:00<?, ?B/s]"
      ]
     },
     "metadata": {},
     "output_type": "display_data"
    },
    {
     "data": {
      "text/html": [
       "<div>\n",
       "<style scoped>\n",
       "    .dataframe tbody tr th:only-of-type {\n",
       "        vertical-align: middle;\n",
       "    }\n",
       "\n",
       "    .dataframe tbody tr th {\n",
       "        vertical-align: top;\n",
       "    }\n",
       "\n",
       "    .dataframe thead th {\n",
       "        text-align: right;\n",
       "    }\n",
       "</style>\n",
       "<table border=\"1\" class=\"dataframe\">\n",
       "  <thead>\n",
       "    <tr style=\"text-align: right;\">\n",
       "      <th></th>\n",
       "      <th>SRC</th>\n",
       "      <th>TGT</th>\n",
       "      <th>VOT</th>\n",
       "      <th>RES</th>\n",
       "      <th>YEA</th>\n",
       "      <th>DAT</th>\n",
       "      <th>TXT</th>\n",
       "      <th>sentiment</th>\n",
       "      <th>confidence</th>\n",
       "    </tr>\n",
       "  </thead>\n",
       "  <tbody>\n",
       "    <tr>\n",
       "      <th>24807</th>\n",
       "      <td>Off2riorob</td>\n",
       "      <td>Phantomsteve</td>\n",
       "      <td>1</td>\n",
       "      <td>1</td>\n",
       "      <td>2010</td>\n",
       "      <td>01:45, 6 February 2010</td>\n",
       "      <td>Support Yes, support Steve, all good no worries.</td>\n",
       "      <td>POSITIVE</td>\n",
       "      <td>0.999452</td>\n",
       "    </tr>\n",
       "    <tr>\n",
       "      <th>167865</th>\n",
       "      <td>jnothman</td>\n",
       "      <td>Smurrayinchester</td>\n",
       "      <td>1</td>\n",
       "      <td>-1</td>\n",
       "      <td>2006</td>\n",
       "      <td>08:36, 22 January 2006</td>\n",
       "      <td>Support.</td>\n",
       "      <td>POSITIVE</td>\n",
       "      <td>0.999759</td>\n",
       "    </tr>\n",
       "    <tr>\n",
       "      <th>26437</th>\n",
       "      <td>7</td>\n",
       "      <td>Tide rolls</td>\n",
       "      <td>1</td>\n",
       "      <td>1</td>\n",
       "      <td>2010</td>\n",
       "      <td>23:56, 12 May 2010</td>\n",
       "      <td>Should be one already.</td>\n",
       "      <td>NEGATIVE</td>\n",
       "      <td>0.542370</td>\n",
       "    </tr>\n",
       "    <tr>\n",
       "      <th>112142</th>\n",
       "      <td>GlassCobra</td>\n",
       "      <td>Blueboy96</td>\n",
       "      <td>1</td>\n",
       "      <td>-1</td>\n",
       "      <td>2007</td>\n",
       "      <td>16:53, 18 November 2007</td>\n",
       "      <td>Support Adminship shouldnt be a big deal, and ...</td>\n",
       "      <td>POSITIVE</td>\n",
       "      <td>0.965162</td>\n",
       "    </tr>\n",
       "    <tr>\n",
       "      <th>47394</th>\n",
       "      <td>hmwith</td>\n",
       "      <td>Gordonrox24</td>\n",
       "      <td>0</td>\n",
       "      <td>-1</td>\n",
       "      <td>2009</td>\n",
       "      <td>14:15, 2 August 2009</td>\n",
       "      <td>Neutral This has nothing to do with editcounti...</td>\n",
       "      <td>NEGATIVE</td>\n",
       "      <td>0.997559</td>\n",
       "    </tr>\n",
       "    <tr>\n",
       "      <th>...</th>\n",
       "      <td>...</td>\n",
       "      <td>...</td>\n",
       "      <td>...</td>\n",
       "      <td>...</td>\n",
       "      <td>...</td>\n",
       "      <td>...</td>\n",
       "      <td>...</td>\n",
       "      <td>...</td>\n",
       "      <td>...</td>\n",
       "    </tr>\n",
       "    <tr>\n",
       "      <th>147565</th>\n",
       "      <td>Mjal</td>\n",
       "      <td>Sarah Ewart</td>\n",
       "      <td>1</td>\n",
       "      <td>1</td>\n",
       "      <td>2006</td>\n",
       "      <td>19:21, 16 September 2006</td>\n",
       "      <td>support keep up the good work</td>\n",
       "      <td>POSITIVE</td>\n",
       "      <td>0.999867</td>\n",
       "    </tr>\n",
       "    <tr>\n",
       "      <th>180030</th>\n",
       "      <td>Gator1</td>\n",
       "      <td>Malo</td>\n",
       "      <td>1</td>\n",
       "      <td>1</td>\n",
       "      <td>2005</td>\n",
       "      <td>01:09, 14 December 2005</td>\n",
       "      <td>Strong support obvious to me.</td>\n",
       "      <td>POSITIVE</td>\n",
       "      <td>0.999717</td>\n",
       "    </tr>\n",
       "    <tr>\n",
       "      <th>52365</th>\n",
       "      <td>Dank55</td>\n",
       "      <td>Teratornis</td>\n",
       "      <td>-1</td>\n",
       "      <td>-1</td>\n",
       "      <td>2009</td>\n",
       "      <td>18:22, 29 March 2009</td>\n",
       "      <td>Oppose, switched from support, due to reaction...</td>\n",
       "      <td>POSITIVE</td>\n",
       "      <td>0.944901</td>\n",
       "    </tr>\n",
       "    <tr>\n",
       "      <th>68669</th>\n",
       "      <td>Queerbubbles</td>\n",
       "      <td>StephenBuxton</td>\n",
       "      <td>1</td>\n",
       "      <td>1</td>\n",
       "      <td>2008</td>\n",
       "      <td>14:00, 7 July 2008</td>\n",
       "      <td>Support per [[User:StephenBuxton/If|pretty poe...</td>\n",
       "      <td>NEGATIVE</td>\n",
       "      <td>0.984779</td>\n",
       "    </tr>\n",
       "    <tr>\n",
       "      <th>40071</th>\n",
       "      <td>Wehwalt</td>\n",
       "      <td>NuclearWarfare</td>\n",
       "      <td>1</td>\n",
       "      <td>1</td>\n",
       "      <td>2009</td>\n",
       "      <td>17:59, 19 August 2009</td>\n",
       "      <td>Support Qualified and deserves it.  Huge net p...</td>\n",
       "      <td>POSITIVE</td>\n",
       "      <td>0.999816</td>\n",
       "    </tr>\n",
       "  </tbody>\n",
       "</table>\n",
       "<p>19828 rows × 9 columns</p>\n",
       "</div>"
      ],
      "text/plain": [
       "                 SRC               TGT  VOT  RES   YEA  \\\n",
       "24807     Off2riorob      Phantomsteve    1    1  2010   \n",
       "167865      jnothman  Smurrayinchester    1   -1  2006   \n",
       "26437              7        Tide rolls    1    1  2010   \n",
       "112142    GlassCobra         Blueboy96    1   -1  2007   \n",
       "47394         hmwith       Gordonrox24    0   -1  2009   \n",
       "...              ...               ...  ...  ...   ...   \n",
       "147565          Mjal       Sarah Ewart    1    1  2006   \n",
       "180030        Gator1              Malo    1    1  2005   \n",
       "52365         Dank55        Teratornis   -1   -1  2009   \n",
       "68669   Queerbubbles     StephenBuxton    1    1  2008   \n",
       "40071        Wehwalt    NuclearWarfare    1    1  2009   \n",
       "\n",
       "                             DAT  \\\n",
       "24807     01:45, 6 February 2010   \n",
       "167865    08:36, 22 January 2006   \n",
       "26437         23:56, 12 May 2010   \n",
       "112142   16:53, 18 November 2007   \n",
       "47394       14:15, 2 August 2009   \n",
       "...                          ...   \n",
       "147565  19:21, 16 September 2006   \n",
       "180030   01:09, 14 December 2005   \n",
       "52365       18:22, 29 March 2009   \n",
       "68669         14:00, 7 July 2008   \n",
       "40071      17:59, 19 August 2009   \n",
       "\n",
       "                                                      TXT sentiment  \\\n",
       "24807    Support Yes, support Steve, all good no worries.  POSITIVE   \n",
       "167865                                           Support.  POSITIVE   \n",
       "26437                              Should be one already.  NEGATIVE   \n",
       "112142  Support Adminship shouldnt be a big deal, and ...  POSITIVE   \n",
       "47394   Neutral This has nothing to do with editcounti...  NEGATIVE   \n",
       "...                                                   ...       ...   \n",
       "147565                      support keep up the good work  POSITIVE   \n",
       "180030                      Strong support obvious to me.  POSITIVE   \n",
       "52365   Oppose, switched from support, due to reaction...  POSITIVE   \n",
       "68669   Support per [[User:StephenBuxton/If|pretty poe...  NEGATIVE   \n",
       "40071   Support Qualified and deserves it.  Huge net p...  POSITIVE   \n",
       "\n",
       "        confidence  \n",
       "24807     0.999452  \n",
       "167865    0.999759  \n",
       "26437     0.542370  \n",
       "112142    0.965162  \n",
       "47394     0.997559  \n",
       "...            ...  \n",
       "147565    0.999867  \n",
       "180030    0.999717  \n",
       "52365     0.944901  \n",
       "68669     0.984779  \n",
       "40071     0.999816  \n",
       "\n",
       "[19828 rows x 9 columns]"
      ]
     },
     "execution_count": 9,
     "metadata": {},
     "output_type": "execute_result"
    }
   ],
   "source": [
    "sa.sa_hug(sa.sampling(data))"
   ]
  }
 ],
 "metadata": {
  "kernelspec": {
   "display_name": "ada",
   "language": "python",
   "name": "python3"
  },
  "language_info": {
   "codemirror_mode": {
    "name": "ipython",
    "version": 3
   },
   "file_extension": ".py",
   "mimetype": "text/x-python",
   "name": "python",
   "nbconvert_exporter": "python",
   "pygments_lexer": "ipython3",
   "version": "3.11.9"
  }
 },
 "nbformat": 4,
 "nbformat_minor": 2
}
